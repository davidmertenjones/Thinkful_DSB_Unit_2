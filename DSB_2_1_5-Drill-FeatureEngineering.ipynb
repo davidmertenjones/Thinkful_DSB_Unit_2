{
 "cells": [
  {
   "cell_type": "markdown",
   "metadata": {},
   "source": [
    "# TLADS Drill\n",
    "\n",
    "Categorize each of the variables in the ESS dataset as categorical or continuous, and if continuous as ordinal, interval, or ratio variables. Check your work with your mentor, and discuss what that information might imply for feature engineering with this data."
   ]
  },
  {
   "cell_type": "code",
   "execution_count": 1,
   "metadata": {},
   "outputs": [
    {
     "data": {
      "text/plain": [
       "['cntry',\n",
       " 'idno',\n",
       " 'year',\n",
       " 'tvtot',\n",
       " 'ppltrst',\n",
       " 'pplfair',\n",
       " 'pplhlp',\n",
       " 'happy',\n",
       " 'sclmeet',\n",
       " 'sclact',\n",
       " 'gndr',\n",
       " 'agea',\n",
       " 'partner']"
      ]
     },
     "execution_count": 1,
     "metadata": {},
     "output_type": "execute_result"
    }
   ],
   "source": [
    "['cntry', 'idno', 'year', 'tvtot', 'ppltrst', 'pplfair', 'pplhlp',\n",
    "       'happy', 'sclmeet', 'sclact', 'gndr', 'agea', 'partner']"
   ]
  },
  {
   "cell_type": "markdown",
   "metadata": {},
   "source": [
    "## 'cntry' - Country\n",
    "\n",
    "Categorical"
   ]
  },
  {
   "cell_type": "markdown",
   "metadata": {},
   "source": [
    "## 'idno' - Identification Number\n",
    "\n",
    "Categorical"
   ]
  },
  {
   "cell_type": "markdown",
   "metadata": {},
   "source": [
    "## 'year' - ESS round\n",
    "\n",
    "Continuous - Interval"
   ]
  },
  {
   "cell_type": "markdown",
   "metadata": {},
   "source": [
    "## 'tvtot' - Time spent watching TV\n",
    "\n",
    "Continuous - Interval (in bins)"
   ]
  },
  {
   "cell_type": "markdown",
   "metadata": {},
   "source": [
    "## 'ppltrst' - Agreement with statments \"Most people can be trusted\" or \"you can't be too careful.\"\n",
    "\n",
    "Continuous - Ordinal"
   ]
  },
  {
   "cell_type": "markdown",
   "metadata": {},
   "source": [
    "## 'pplfair' - Agreement with statments \"Most people try to take advantage of you\" or \"...try to be fair.\"\n",
    "\n",
    "Continuous - Ordinal"
   ]
  },
  {
   "cell_type": "markdown",
   "metadata": {},
   "source": [
    "## 'pplhlp' - Agreement with statments \"Most of the time people helpful\" or \"...mostly looking out for themselves.\"\n",
    "\n",
    "Continuous - Ordinal"
   ]
  },
  {
   "cell_type": "markdown",
   "metadata": {},
   "source": [
    "## 'happy' - How happy respondant is.\n",
    "\n",
    "Continuous - Ordinal"
   ]
  },
  {
   "cell_type": "markdown",
   "metadata": {},
   "source": [
    "## 'sclmeet' - How often does respondant meet with friends, relatives, colleagues?\n",
    "\n",
    "Continuous - Interval (in bins)"
   ]
  },
  {
   "cell_type": "markdown",
   "metadata": {},
   "source": [
    "## 'sclact' - ...take part in social activities compared to others?\n",
    "\n",
    "Continuous - Ordinal"
   ]
  },
  {
   "cell_type": "markdown",
   "metadata": {},
   "source": [
    "## 'gndr' - Gender\n",
    "\n",
    "Categorical"
   ]
  },
  {
   "cell_type": "markdown",
   "metadata": {},
   "source": [
    "## 'agea' - Age\n",
    "\n",
    "Continuous - Ratio"
   ]
  },
  {
   "cell_type": "markdown",
   "metadata": {},
   "source": [
    "## 'partner' - Lives with partner at household\n",
    "\n",
    "Categorical"
   ]
  }
 ],
 "metadata": {
  "kernelspec": {
   "display_name": "Python 3",
   "language": "python",
   "name": "python3"
  },
  "language_info": {
   "codemirror_mode": {
    "name": "ipython",
    "version": 3
   },
   "file_extension": ".py",
   "mimetype": "text/x-python",
   "name": "python",
   "nbconvert_exporter": "python",
   "pygments_lexer": "ipython3",
   "version": "3.6.5"
  },
  "toc": {
   "base_numbering": 1,
   "nav_menu": {},
   "number_sections": true,
   "sideBar": true,
   "skip_h1_title": false,
   "title_cell": "Table of Contents",
   "title_sidebar": "Contents",
   "toc_cell": false,
   "toc_position": {},
   "toc_section_display": true,
   "toc_window_display": false
  }
 },
 "nbformat": 4,
 "nbformat_minor": 2
}
