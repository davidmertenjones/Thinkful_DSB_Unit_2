{
 "cells": [
  {
   "cell_type": "markdown",
   "metadata": {},
   "source": [
    "## What is the 1994 rate of juvenile delinquency in the U.S.?"
   ]
  },
  {
   "cell_type": "markdown",
   "metadata": {},
   "source": [
    "Bad. This is too a straightforward question; it doesn't require any work beyond data collection."
   ]
  },
  {
   "cell_type": "markdown",
   "metadata": {},
   "source": [
    "## What can we do to reduce juvenile delinquency in the U.S.?"
   ]
  },
  {
   "cell_type": "markdown",
   "metadata": {},
   "source": [
    "Bad. This question isn't answerable using quantities or probabilities, because it doesn't define a variable to measure. A better question might be \"Does _ reduce juvenile delinquency in the U.S.?\" (fill _ with: after-school programs, increasing the teacher/student ratio, holding more student-parent-teacher conferences, etc.)"
   ]
  },
  {
   "cell_type": "markdown",
   "metadata": {},
   "source": [
    "## Does education play a role in reducing juvenile delinquents' return to crime?"
   ]
  },
  {
   "cell_type": "markdown",
   "metadata": {},
   "source": [
    "Good, needs some refinement. What aspect of education?"
   ]
  },
  {
   "cell_type": "markdown",
   "metadata": {},
   "source": [
    "## How many customers does AT&T currently serve in Washington, DC?"
   ]
  },
  {
   "cell_type": "markdown",
   "metadata": {},
   "source": [
    "Bad. This is a data collection question, not a research question. Possible alternative: Is the number of AT&T customers in Washington, DC growing or shrinking? Follow up with the question below:"
   ]
  },
  {
   "cell_type": "markdown",
   "metadata": {},
   "source": [
    "## What factors lead consumers to choose AT&T over other service providers?"
   ]
  },
  {
   "cell_type": "markdown",
   "metadata": {},
   "source": [
    "Good, as long as there is other data available to correlate with choice of service provider."
   ]
  },
  {
   "cell_type": "markdown",
   "metadata": {},
   "source": [
    "## How can AT&T attract more customers?"
   ]
  },
  {
   "cell_type": "markdown",
   "metadata": {},
   "source": [
    "Bad. This should be a more specific question, like \"Will introducing an incentive program that covers rival companies' early-termination fees attract more customers?\""
   ]
  },
  {
   "cell_type": "markdown",
   "metadata": {},
   "source": [
    "## Why did the Challenger Shuttle explode?"
   ]
  },
  {
   "cell_type": "markdown",
   "metadata": {},
   "source": [
    "Bad. Instead, \"Was the Challenger Shuttle explosion due to a design flaw in the booster rockets?\" What was the most significant factor in the Challenger Shuttle explosion?"
   ]
  },
  {
   "cell_type": "markdown",
   "metadata": {},
   "source": [
    "## Which genes are associated with increased risk of breast cancer?"
   ]
  },
  {
   "cell_type": "markdown",
   "metadata": {},
   "source": [
    "Good. \"Associated with\" is also a good example of precise language."
   ]
  },
  {
   "cell_type": "markdown",
   "metadata": {},
   "source": [
    "## Is it better to read to children at night or in the morning?"
   ]
  },
  {
   "cell_type": "markdown",
   "metadata": {},
   "source": [
    "Bad. What does \"better\" mean here? Instead, \"Is reading to children at night or in the morning better for improving their linguistic abilities?\""
   ]
  },
  {
   "cell_type": "markdown",
   "metadata": {},
   "source": [
    "## How does Google’s search algorithm work?"
   ]
  },
  {
   "cell_type": "markdown",
   "metadata": {},
   "source": [
    "Bad, for a couple of reasons. Google's algorithm is proprietary, so actually reverse-engineering it could lead to legal trouble, but the real issue here is that it's too general. Possible alternative: \"Which factors are most significant in determining relevancy in search result rankings in Google's search algorithm in the United States?\" "
   ]
  }
 ],
 "metadata": {
  "kernelspec": {
   "display_name": "Python 3",
   "language": "python",
   "name": "python3"
  },
  "language_info": {
   "codemirror_mode": {
    "name": "ipython",
    "version": 3
   },
   "file_extension": ".py",
   "mimetype": "text/x-python",
   "name": "python",
   "nbconvert_exporter": "python",
   "pygments_lexer": "ipython3",
   "version": "3.6.5"
  },
  "toc": {
   "base_numbering": 1,
   "nav_menu": {},
   "number_sections": true,
   "sideBar": true,
   "skip_h1_title": false,
   "title_cell": "Table of Contents",
   "title_sidebar": "Contents",
   "toc_cell": false,
   "toc_position": {},
   "toc_section_display": true,
   "toc_window_display": false
  }
 },
 "nbformat": 4,
 "nbformat_minor": 2
}
