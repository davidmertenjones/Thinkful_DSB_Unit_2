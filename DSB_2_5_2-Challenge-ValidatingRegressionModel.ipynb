{
 "cells": [
  {
   "cell_type": "markdown",
   "metadata": {},
   "source": [
    "# Validating a Linear Regression: 2013 NYC Crime Statistics"
   ]
  },
  {
   "cell_type": "code",
   "execution_count": 1,
   "metadata": {},
   "outputs": [],
   "source": [
    "import pandas as pd\n",
    "import numpy as np\n",
    "import seaborn as sns\n",
    "import scipy.stats as stats\n",
    "from matplotlib import pyplot as plt\n",
    "\n",
    "from sklearn import linear_model\n",
    "from sklearn.linear_model import LinearRegression\n",
    "from sklearn.model_selection import cross_val_score\n",
    "import statsmodels.formula.api as smf\n",
    "\n",
    "from statsmodels.sandbox.regression.predstd import wls_prediction_std\n",
    "import warnings\n",
    "warnings.filterwarnings(action=\"ignore\", module=\"seaborn\", message=\"^internal gelsd\")\n"
   ]
  },
  {
   "cell_type": "code",
   "execution_count": 2,
   "metadata": {},
   "outputs": [],
   "source": [
    "\n",
    "raw = pd.read_csv('https://raw.githubusercontent.com/Thinkful-Ed/data-201-resources/master/New_York_offenses/NEW_YORK-Offenses_Known_to_Law_Enforcement_by_City_2013%20-%2013tbl8ny.csv',\n",
    "                skiprows=4)\n",
    "raw = raw.truncate(after=347)"
   ]
  },
  {
   "cell_type": "code",
   "execution_count": 3,
   "metadata": {},
   "outputs": [
    {
     "data": {
      "text/html": [
       "<div>\n",
       "<style scoped>\n",
       "    .dataframe tbody tr th:only-of-type {\n",
       "        vertical-align: middle;\n",
       "    }\n",
       "\n",
       "    .dataframe tbody tr th {\n",
       "        vertical-align: top;\n",
       "    }\n",
       "\n",
       "    .dataframe thead th {\n",
       "        text-align: right;\n",
       "    }\n",
       "</style>\n",
       "<table border=\"1\" class=\"dataframe\">\n",
       "  <thead>\n",
       "    <tr style=\"text-align: right;\">\n",
       "      <th></th>\n",
       "      <th>City</th>\n",
       "      <th>Population</th>\n",
       "      <th>Violent\n",
       "crime</th>\n",
       "      <th>Murder and\n",
       "nonnegligent\n",
       "manslaughter</th>\n",
       "      <th>Rape\n",
       "(revised\n",
       "definition)1</th>\n",
       "      <th>Rape\n",
       "(legacy\n",
       "definition)2</th>\n",
       "      <th>Robbery</th>\n",
       "      <th>Aggravated\n",
       "assault</th>\n",
       "      <th>Property\n",
       "crime</th>\n",
       "      <th>Burglary</th>\n",
       "      <th>Larceny-\n",
       "theft</th>\n",
       "      <th>Motor\n",
       "vehicle\n",
       "theft</th>\n",
       "      <th>Arson3</th>\n",
       "    </tr>\n",
       "  </thead>\n",
       "  <tbody>\n",
       "    <tr>\n",
       "      <th>0</th>\n",
       "      <td>Adams Village</td>\n",
       "      <td>1,861</td>\n",
       "      <td>0</td>\n",
       "      <td>0.0</td>\n",
       "      <td>NaN</td>\n",
       "      <td>0</td>\n",
       "      <td>0</td>\n",
       "      <td>0</td>\n",
       "      <td>12</td>\n",
       "      <td>2</td>\n",
       "      <td>10</td>\n",
       "      <td>0</td>\n",
       "      <td>0.0</td>\n",
       "    </tr>\n",
       "    <tr>\n",
       "      <th>1</th>\n",
       "      <td>Addison Town and Village</td>\n",
       "      <td>2,577</td>\n",
       "      <td>3</td>\n",
       "      <td>0.0</td>\n",
       "      <td>NaN</td>\n",
       "      <td>0</td>\n",
       "      <td>0</td>\n",
       "      <td>3</td>\n",
       "      <td>24</td>\n",
       "      <td>3</td>\n",
       "      <td>20</td>\n",
       "      <td>1</td>\n",
       "      <td>0.0</td>\n",
       "    </tr>\n",
       "    <tr>\n",
       "      <th>2</th>\n",
       "      <td>Akron Village</td>\n",
       "      <td>2,846</td>\n",
       "      <td>3</td>\n",
       "      <td>0.0</td>\n",
       "      <td>NaN</td>\n",
       "      <td>0</td>\n",
       "      <td>0</td>\n",
       "      <td>3</td>\n",
       "      <td>16</td>\n",
       "      <td>1</td>\n",
       "      <td>15</td>\n",
       "      <td>0</td>\n",
       "      <td>0.0</td>\n",
       "    </tr>\n",
       "    <tr>\n",
       "      <th>3</th>\n",
       "      <td>Albany</td>\n",
       "      <td>97,956</td>\n",
       "      <td>791</td>\n",
       "      <td>8.0</td>\n",
       "      <td>NaN</td>\n",
       "      <td>30</td>\n",
       "      <td>227</td>\n",
       "      <td>526</td>\n",
       "      <td>4,090</td>\n",
       "      <td>705</td>\n",
       "      <td>3,243</td>\n",
       "      <td>142</td>\n",
       "      <td>NaN</td>\n",
       "    </tr>\n",
       "    <tr>\n",
       "      <th>4</th>\n",
       "      <td>Albion Village</td>\n",
       "      <td>6,388</td>\n",
       "      <td>23</td>\n",
       "      <td>0.0</td>\n",
       "      <td>NaN</td>\n",
       "      <td>3</td>\n",
       "      <td>4</td>\n",
       "      <td>16</td>\n",
       "      <td>223</td>\n",
       "      <td>53</td>\n",
       "      <td>165</td>\n",
       "      <td>5</td>\n",
       "      <td>NaN</td>\n",
       "    </tr>\n",
       "  </tbody>\n",
       "</table>\n",
       "</div>"
      ],
      "text/plain": [
       "                       City Population Violent\\ncrime  \\\n",
       "0             Adams Village      1,861              0   \n",
       "1  Addison Town and Village      2,577              3   \n",
       "2             Akron Village      2,846              3   \n",
       "3                    Albany     97,956            791   \n",
       "4            Albion Village      6,388             23   \n",
       "\n",
       "   Murder and\\nnonnegligent\\nmanslaughter  Rape\\n(revised\\ndefinition)1  \\\n",
       "0                                     0.0                           NaN   \n",
       "1                                     0.0                           NaN   \n",
       "2                                     0.0                           NaN   \n",
       "3                                     8.0                           NaN   \n",
       "4                                     0.0                           NaN   \n",
       "\n",
       "  Rape\\n(legacy\\ndefinition)2 Robbery Aggravated\\nassault Property\\ncrime  \\\n",
       "0                           0       0                   0              12   \n",
       "1                           0       0                   3              24   \n",
       "2                           0       0                   3              16   \n",
       "3                          30     227                 526           4,090   \n",
       "4                           3       4                  16             223   \n",
       "\n",
       "  Burglary Larceny-\\ntheft Motor\\nvehicle\\ntheft  Arson3  \n",
       "0        2              10                     0     0.0  \n",
       "1        3              20                     1     0.0  \n",
       "2        1              15                     0     0.0  \n",
       "3      705           3,243                   142     NaN  \n",
       "4       53             165                     5     NaN  "
      ]
     },
     "execution_count": 3,
     "metadata": {},
     "output_type": "execute_result"
    }
   ],
   "source": [
    "raw.head()"
   ]
  },
  {
   "cell_type": "code",
   "execution_count": 4,
   "metadata": {},
   "outputs": [],
   "source": [
    "df = pd.DataFrame(raw[['City', 'Population']])\n",
    "\n",
    "df['Population'] = df['Population'].apply(lambda x: int(x.replace(',','')))\n",
    "df['ViolentCrime'] = raw['Violent\\ncrime']\n",
    "df['Murder'] = raw['Murder and\\nnonnegligent\\nmanslaughter']\n",
    "df['Rape'] = raw['Rape\\n(legacy\\ndefinition)2']\n",
    "df['Robbery'] = raw['Robbery']\n",
    "df['AggravatedAssault'] = raw['Aggravated\\nassault']\n",
    "df['PropertyCrime'] = raw['Property\\ncrime']\n",
    "df['Burglary'] = raw['Burglary']\n",
    "df['Larceny'] = raw['Larceny-\\ntheft']\n",
    "df['CarTheft'] = raw['Motor\\nvehicle\\ntheft']\n",
    "df['Arson'] = raw['Arson3'].fillna(0)"
   ]
  },
  {
   "cell_type": "code",
   "execution_count": 5,
   "metadata": {},
   "outputs": [],
   "source": [
    "\n",
    "df['ViolentCrime'] = df['ViolentCrime'].apply(lambda x: float(str(x).replace(',','')))\n",
    "df['Murder'] = df['Murder'].apply(lambda x: float(str(x).replace(',','')))\n",
    "df['Rape'] = df['Rape'].apply(lambda x: float(str(x).replace(',','')))\n",
    "df['Robbery'] = df['Robbery'].apply(lambda x: float(str(x).replace(',','')))\n",
    "df['AggravatedAssault'] = df['AggravatedAssault'].apply(lambda x: float(str(x).replace(',','')))\n",
    "df['PropertyCrime'] = df['PropertyCrime'].apply(lambda x: float(str(x).replace(',','')))\n",
    "df['Burglary'] = df['Burglary'].apply(lambda x: float(str(x).replace(',','')))\n",
    "df['Larceny'] = df['Larceny'].apply(lambda x: float(str(x).replace(',','')))\n",
    "df['CarTheft'] = df['CarTheft'].apply(lambda x: float(str(x).replace(',','')))\n",
    "df['Arson'] = df['Arson'].apply(lambda x: float(str(x).replace(',','')))"
   ]
  },
  {
   "cell_type": "markdown",
   "metadata": {},
   "source": [
    "## General comment (from UCR Program Data Declaration:)\n",
    "\n",
    "\"This table provides the volume of violent crime (murder and nonnegligent manslaughter, rape, robbery, and aggravated assault) and property crime (burglary, larceny-theft, and motor vehicle theft) as reported by city and town law enforcement agencies (listed alphabetically by state) that contributed data to the UCR Program. (Note:  Arson is not included in the property crime total in this table; however, if complete arson data were provided, they will appear in the arson column.)\"\n",
    "\n",
    "\n",
    "Burglary, Larceny, and CarTheft are all examples of property crimes, so we won't be using those as features for our linear regression."
   ]
  },
  {
   "cell_type": "code",
   "execution_count": 6,
   "metadata": {},
   "outputs": [
    {
     "data": {
      "text/plain": [
       "False"
      ]
     },
     "execution_count": 6,
     "metadata": {},
     "output_type": "execute_result"
    }
   ],
   "source": [
    "df.isnull().values.any()"
   ]
  },
  {
   "cell_type": "code",
   "execution_count": 7,
   "metadata": {},
   "outputs": [
    {
     "name": "stdout",
     "output_type": "stream",
     "text": [
      "<class 'pandas.core.frame.DataFrame'>\n",
      "RangeIndex: 348 entries, 0 to 347\n",
      "Data columns (total 12 columns):\n",
      "City                 348 non-null object\n",
      "Population           348 non-null int64\n",
      "ViolentCrime         348 non-null float64\n",
      "Murder               348 non-null float64\n",
      "Rape                 348 non-null float64\n",
      "Robbery              348 non-null float64\n",
      "AggravatedAssault    348 non-null float64\n",
      "PropertyCrime        348 non-null float64\n",
      "Burglary             348 non-null float64\n",
      "Larceny              348 non-null float64\n",
      "CarTheft             348 non-null float64\n",
      "Arson                348 non-null float64\n",
      "dtypes: float64(10), int64(1), object(1)\n",
      "memory usage: 32.7+ KB\n"
     ]
    }
   ],
   "source": [
    "df.info()"
   ]
  },
  {
   "cell_type": "code",
   "execution_count": 8,
   "metadata": {},
   "outputs": [
    {
     "data": {
      "text/html": [
       "<div>\n",
       "<style scoped>\n",
       "    .dataframe tbody tr th:only-of-type {\n",
       "        vertical-align: middle;\n",
       "    }\n",
       "\n",
       "    .dataframe tbody tr th {\n",
       "        vertical-align: top;\n",
       "    }\n",
       "\n",
       "    .dataframe thead th {\n",
       "        text-align: right;\n",
       "    }\n",
       "</style>\n",
       "<table border=\"1\" class=\"dataframe\">\n",
       "  <thead>\n",
       "    <tr style=\"text-align: right;\">\n",
       "      <th></th>\n",
       "      <th>Population</th>\n",
       "      <th>ViolentCrime</th>\n",
       "      <th>Murder</th>\n",
       "      <th>Rape</th>\n",
       "      <th>Robbery</th>\n",
       "      <th>AggravatedAssault</th>\n",
       "      <th>PropertyCrime</th>\n",
       "      <th>Burglary</th>\n",
       "      <th>Larceny</th>\n",
       "      <th>CarTheft</th>\n",
       "      <th>Arson</th>\n",
       "    </tr>\n",
       "  </thead>\n",
       "  <tbody>\n",
       "    <tr>\n",
       "      <th>count</th>\n",
       "      <td>3.480000e+02</td>\n",
       "      <td>348.000000</td>\n",
       "      <td>348.000000</td>\n",
       "      <td>348.000000</td>\n",
       "      <td>348.000000</td>\n",
       "      <td>348.000000</td>\n",
       "      <td>348.000000</td>\n",
       "      <td>348.000000</td>\n",
       "      <td>348.000000</td>\n",
       "      <td>348.000000</td>\n",
       "      <td>348.000000</td>\n",
       "    </tr>\n",
       "    <tr>\n",
       "      <th>mean</th>\n",
       "      <td>4.003763e+04</td>\n",
       "      <td>201.594828</td>\n",
       "      <td>1.566092</td>\n",
       "      <td>5.864943</td>\n",
       "      <td>72.902299</td>\n",
       "      <td>121.261494</td>\n",
       "      <td>792.606322</td>\n",
       "      <td>119.683908</td>\n",
       "      <td>637.017241</td>\n",
       "      <td>35.905172</td>\n",
       "      <td>1.005747</td>\n",
       "    </tr>\n",
       "    <tr>\n",
       "      <th>std</th>\n",
       "      <td>4.500374e+05</td>\n",
       "      <td>2815.268504</td>\n",
       "      <td>18.303673</td>\n",
       "      <td>60.425452</td>\n",
       "      <td>1031.032873</td>\n",
       "      <td>1706.131730</td>\n",
       "      <td>7659.724746</td>\n",
       "      <td>924.948789</td>\n",
       "      <td>6346.054451</td>\n",
       "      <td>403.423826</td>\n",
       "      <td>7.884612</td>\n",
       "    </tr>\n",
       "    <tr>\n",
       "      <th>min</th>\n",
       "      <td>5.260000e+02</td>\n",
       "      <td>0.000000</td>\n",
       "      <td>0.000000</td>\n",
       "      <td>0.000000</td>\n",
       "      <td>0.000000</td>\n",
       "      <td>0.000000</td>\n",
       "      <td>0.000000</td>\n",
       "      <td>0.000000</td>\n",
       "      <td>0.000000</td>\n",
       "      <td>0.000000</td>\n",
       "      <td>0.000000</td>\n",
       "    </tr>\n",
       "    <tr>\n",
       "      <th>25%</th>\n",
       "      <td>3.003000e+03</td>\n",
       "      <td>2.000000</td>\n",
       "      <td>0.000000</td>\n",
       "      <td>0.000000</td>\n",
       "      <td>0.000000</td>\n",
       "      <td>1.000000</td>\n",
       "      <td>40.500000</td>\n",
       "      <td>6.000000</td>\n",
       "      <td>31.000000</td>\n",
       "      <td>0.000000</td>\n",
       "      <td>0.000000</td>\n",
       "    </tr>\n",
       "    <tr>\n",
       "      <th>50%</th>\n",
       "      <td>7.233500e+03</td>\n",
       "      <td>6.000000</td>\n",
       "      <td>0.000000</td>\n",
       "      <td>0.000000</td>\n",
       "      <td>1.000000</td>\n",
       "      <td>4.000000</td>\n",
       "      <td>112.500000</td>\n",
       "      <td>17.500000</td>\n",
       "      <td>94.000000</td>\n",
       "      <td>2.000000</td>\n",
       "      <td>0.000000</td>\n",
       "    </tr>\n",
       "    <tr>\n",
       "      <th>75%</th>\n",
       "      <td>1.842750e+04</td>\n",
       "      <td>22.000000</td>\n",
       "      <td>0.000000</td>\n",
       "      <td>2.000000</td>\n",
       "      <td>5.000000</td>\n",
       "      <td>14.000000</td>\n",
       "      <td>341.000000</td>\n",
       "      <td>51.250000</td>\n",
       "      <td>287.250000</td>\n",
       "      <td>7.000000</td>\n",
       "      <td>0.000000</td>\n",
       "    </tr>\n",
       "    <tr>\n",
       "      <th>max</th>\n",
       "      <td>8.396126e+06</td>\n",
       "      <td>52384.000000</td>\n",
       "      <td>335.000000</td>\n",
       "      <td>1112.000000</td>\n",
       "      <td>19170.000000</td>\n",
       "      <td>31767.000000</td>\n",
       "      <td>141971.000000</td>\n",
       "      <td>16606.000000</td>\n",
       "      <td>117931.000000</td>\n",
       "      <td>7434.000000</td>\n",
       "      <td>132.000000</td>\n",
       "    </tr>\n",
       "  </tbody>\n",
       "</table>\n",
       "</div>"
      ],
      "text/plain": [
       "         Population  ViolentCrime      Murder         Rape       Robbery  \\\n",
       "count  3.480000e+02    348.000000  348.000000   348.000000    348.000000   \n",
       "mean   4.003763e+04    201.594828    1.566092     5.864943     72.902299   \n",
       "std    4.500374e+05   2815.268504   18.303673    60.425452   1031.032873   \n",
       "min    5.260000e+02      0.000000    0.000000     0.000000      0.000000   \n",
       "25%    3.003000e+03      2.000000    0.000000     0.000000      0.000000   \n",
       "50%    7.233500e+03      6.000000    0.000000     0.000000      1.000000   \n",
       "75%    1.842750e+04     22.000000    0.000000     2.000000      5.000000   \n",
       "max    8.396126e+06  52384.000000  335.000000  1112.000000  19170.000000   \n",
       "\n",
       "       AggravatedAssault  PropertyCrime      Burglary        Larceny  \\\n",
       "count         348.000000     348.000000    348.000000     348.000000   \n",
       "mean          121.261494     792.606322    119.683908     637.017241   \n",
       "std          1706.131730    7659.724746    924.948789    6346.054451   \n",
       "min             0.000000       0.000000      0.000000       0.000000   \n",
       "25%             1.000000      40.500000      6.000000      31.000000   \n",
       "50%             4.000000     112.500000     17.500000      94.000000   \n",
       "75%            14.000000     341.000000     51.250000     287.250000   \n",
       "max         31767.000000  141971.000000  16606.000000  117931.000000   \n",
       "\n",
       "          CarTheft       Arson  \n",
       "count   348.000000  348.000000  \n",
       "mean     35.905172    1.005747  \n",
       "std     403.423826    7.884612  \n",
       "min       0.000000    0.000000  \n",
       "25%       0.000000    0.000000  \n",
       "50%       2.000000    0.000000  \n",
       "75%       7.000000    0.000000  \n",
       "max    7434.000000  132.000000  "
      ]
     },
     "execution_count": 8,
     "metadata": {},
     "output_type": "execute_result"
    }
   ],
   "source": [
    "df.describe()"
   ]
  },
  {
   "cell_type": "code",
   "execution_count": 9,
   "metadata": {},
   "outputs": [
    {
     "data": {
      "text/html": [
       "<div>\n",
       "<style scoped>\n",
       "    .dataframe tbody tr th:only-of-type {\n",
       "        vertical-align: middle;\n",
       "    }\n",
       "\n",
       "    .dataframe tbody tr th {\n",
       "        vertical-align: top;\n",
       "    }\n",
       "\n",
       "    .dataframe thead th {\n",
       "        text-align: right;\n",
       "    }\n",
       "</style>\n",
       "<table border=\"1\" class=\"dataframe\">\n",
       "  <thead>\n",
       "    <tr style=\"text-align: right;\">\n",
       "      <th></th>\n",
       "      <th>City</th>\n",
       "      <th>Population</th>\n",
       "      <th>ViolentCrime</th>\n",
       "      <th>Murder</th>\n",
       "      <th>Rape</th>\n",
       "      <th>Robbery</th>\n",
       "      <th>AggravatedAssault</th>\n",
       "      <th>PropertyCrime</th>\n",
       "      <th>Burglary</th>\n",
       "      <th>Larceny</th>\n",
       "      <th>CarTheft</th>\n",
       "      <th>Arson</th>\n",
       "    </tr>\n",
       "  </thead>\n",
       "  <tbody>\n",
       "    <tr>\n",
       "      <th>0</th>\n",
       "      <td>Adams Village</td>\n",
       "      <td>1861</td>\n",
       "      <td>0.0</td>\n",
       "      <td>0.0</td>\n",
       "      <td>0.0</td>\n",
       "      <td>0.0</td>\n",
       "      <td>0.0</td>\n",
       "      <td>12.0</td>\n",
       "      <td>2.0</td>\n",
       "      <td>10.0</td>\n",
       "      <td>0.0</td>\n",
       "      <td>0.0</td>\n",
       "    </tr>\n",
       "    <tr>\n",
       "      <th>1</th>\n",
       "      <td>Addison Town and Village</td>\n",
       "      <td>2577</td>\n",
       "      <td>3.0</td>\n",
       "      <td>0.0</td>\n",
       "      <td>0.0</td>\n",
       "      <td>0.0</td>\n",
       "      <td>3.0</td>\n",
       "      <td>24.0</td>\n",
       "      <td>3.0</td>\n",
       "      <td>20.0</td>\n",
       "      <td>1.0</td>\n",
       "      <td>0.0</td>\n",
       "    </tr>\n",
       "    <tr>\n",
       "      <th>2</th>\n",
       "      <td>Akron Village</td>\n",
       "      <td>2846</td>\n",
       "      <td>3.0</td>\n",
       "      <td>0.0</td>\n",
       "      <td>0.0</td>\n",
       "      <td>0.0</td>\n",
       "      <td>3.0</td>\n",
       "      <td>16.0</td>\n",
       "      <td>1.0</td>\n",
       "      <td>15.0</td>\n",
       "      <td>0.0</td>\n",
       "      <td>0.0</td>\n",
       "    </tr>\n",
       "    <tr>\n",
       "      <th>3</th>\n",
       "      <td>Albany</td>\n",
       "      <td>97956</td>\n",
       "      <td>791.0</td>\n",
       "      <td>8.0</td>\n",
       "      <td>30.0</td>\n",
       "      <td>227.0</td>\n",
       "      <td>526.0</td>\n",
       "      <td>4090.0</td>\n",
       "      <td>705.0</td>\n",
       "      <td>3243.0</td>\n",
       "      <td>142.0</td>\n",
       "      <td>0.0</td>\n",
       "    </tr>\n",
       "    <tr>\n",
       "      <th>4</th>\n",
       "      <td>Albion Village</td>\n",
       "      <td>6388</td>\n",
       "      <td>23.0</td>\n",
       "      <td>0.0</td>\n",
       "      <td>3.0</td>\n",
       "      <td>4.0</td>\n",
       "      <td>16.0</td>\n",
       "      <td>223.0</td>\n",
       "      <td>53.0</td>\n",
       "      <td>165.0</td>\n",
       "      <td>5.0</td>\n",
       "      <td>0.0</td>\n",
       "    </tr>\n",
       "  </tbody>\n",
       "</table>\n",
       "</div>"
      ],
      "text/plain": [
       "                       City  Population  ViolentCrime  Murder  Rape  Robbery  \\\n",
       "0             Adams Village        1861           0.0     0.0   0.0      0.0   \n",
       "1  Addison Town and Village        2577           3.0     0.0   0.0      0.0   \n",
       "2             Akron Village        2846           3.0     0.0   0.0      0.0   \n",
       "3                    Albany       97956         791.0     8.0  30.0    227.0   \n",
       "4            Albion Village        6388          23.0     0.0   3.0      4.0   \n",
       "\n",
       "   AggravatedAssault  PropertyCrime  Burglary  Larceny  CarTheft  Arson  \n",
       "0                0.0           12.0       2.0     10.0       0.0    0.0  \n",
       "1                3.0           24.0       3.0     20.0       1.0    0.0  \n",
       "2                3.0           16.0       1.0     15.0       0.0    0.0  \n",
       "3              526.0         4090.0     705.0   3243.0     142.0    0.0  \n",
       "4               16.0          223.0      53.0    165.0       5.0    0.0  "
      ]
     },
     "execution_count": 9,
     "metadata": {},
     "output_type": "execute_result"
    }
   ],
   "source": [
    "df.head()"
   ]
  },
  {
   "cell_type": "code",
   "execution_count": 10,
   "metadata": {},
   "outputs": [
    {
     "data": {
      "image/png": "[encoded data removed]",
      "text/plain": [
       "<Figure size 864x864 with 2 Axes>"
      ]
     },
     "metadata": {},
     "output_type": "display_data"
    }
   ],
   "source": [
    "# Heatmap for features, pre-transformations:\n",
    "\n",
    "plt.rcParams['figure.figsize'] = 12, 12\n",
    "\n",
    "f = sns.heatmap(df.corr(), vmin= -1, vmax=1, square=True, cmap=\"RdBu_r\")\n",
    "\n",
    "plt.show()"
   ]
  },
  {
   "cell_type": "markdown",
   "metadata": {},
   "source": [
    "## Functions for Encoding Features:"
   ]
  },
  {
   "cell_type": "markdown",
   "metadata": {},
   "source": [
    "### Histograms of Transformed Variables:"
   ]
  },
  {
   "cell_type": "code",
   "execution_count": 11,
   "metadata": {},
   "outputs": [],
   "source": [
    "plothisto = False\n",
    "\n",
    "def plotcolumn(plotterm, df=df):\n",
    "    if plothisto == True:\n",
    "    \n",
    "        plt.rcParams['figure.figsize'] = 12, 8\n",
    "        fig = plt.figure()\n",
    "\n",
    "        fig.add_subplot(231)\n",
    "        plt.hist(df[plotterm])\n",
    "        plt.title('{} Raw'.format(plotterm))\n",
    "\n",
    "        fig.add_subplot(232)\n",
    "        plt.hist(np.log(df[plotterm]+1))\n",
    "        plt.title('{} Log'.format(plotterm))\n",
    "\n",
    "        fig.add_subplot(233)\n",
    "        plt.hist((df[plotterm])**2)\n",
    "        plt.title('{} Square'.format(plotterm))\n",
    "\n",
    "        fig.add_subplot(235)\n",
    "        plt.hist(np.sqrt(df[plotterm]+1))\n",
    "        plt.title('{} Square Root'.format(plotterm))\n",
    "\n",
    "        ax3=fig.add_subplot(236)\n",
    "        plt.hist(1/(df[plotterm]+1))\n",
    "        plt.title('{} Inverse'.format(plotterm))\n",
    "        plt.xticks(rotation=90)\n",
    "        plt.show()"
   ]
  },
  {
   "cell_type": "code",
   "execution_count": 12,
   "metadata": {},
   "outputs": [],
   "source": [
    "plotcolumn('Population')"
   ]
  },
  {
   "cell_type": "code",
   "execution_count": 13,
   "metadata": {},
   "outputs": [],
   "source": [
    "plotcolumn('ViolentCrime')"
   ]
  },
  {
   "cell_type": "code",
   "execution_count": 14,
   "metadata": {},
   "outputs": [],
   "source": [
    "plotcolumn('Murder')"
   ]
  },
  {
   "cell_type": "code",
   "execution_count": 15,
   "metadata": {},
   "outputs": [],
   "source": [
    "plotcolumn('Rape')"
   ]
  },
  {
   "cell_type": "code",
   "execution_count": 16,
   "metadata": {},
   "outputs": [],
   "source": [
    "plotcolumn('Robbery')"
   ]
  },
  {
   "cell_type": "code",
   "execution_count": 17,
   "metadata": {},
   "outputs": [],
   "source": [
    "plotcolumn('AggravatedAssault')"
   ]
  },
  {
   "cell_type": "code",
   "execution_count": 18,
   "metadata": {},
   "outputs": [],
   "source": [
    "plotcolumn('PropertyCrime')"
   ]
  },
  {
   "cell_type": "code",
   "execution_count": 19,
   "metadata": {},
   "outputs": [],
   "source": [
    "plotcolumn('Burglary')"
   ]
  },
  {
   "cell_type": "code",
   "execution_count": 20,
   "metadata": {},
   "outputs": [],
   "source": [
    "plotcolumn('Larceny')"
   ]
  },
  {
   "cell_type": "code",
   "execution_count": 21,
   "metadata": {},
   "outputs": [],
   "source": [
    "plotcolumn('CarTheft')"
   ]
  },
  {
   "cell_type": "code",
   "execution_count": 22,
   "metadata": {},
   "outputs": [],
   "source": [
    "plotcolumn('Arson')"
   ]
  },
  {
   "cell_type": "markdown",
   "metadata": {},
   "source": [
    "### Converting Continuous Features to Booleans:"
   ]
  },
  {
   "cell_type": "code",
   "execution_count": 23,
   "metadata": {},
   "outputs": [
    {
     "data": {
      "text/plain": [
       "City                 1.000000\n",
       "Population           1.000000\n",
       "ViolentCrime         0.853448\n",
       "Murder               0.140805\n",
       "Rape                 0.413793\n",
       "Robbery              0.600575\n",
       "AggravatedAssault    0.810345\n",
       "PropertyCrime        0.982759\n",
       "Burglary             0.939655\n",
       "Larceny              0.979885\n",
       "CarTheft             0.732759\n",
       "Arson                0.155172\n",
       "dtype: float64"
      ]
     },
     "execution_count": 23,
     "metadata": {},
     "output_type": "execute_result"
    }
   ],
   "source": [
    "# Percent of nonzero entries in each column.\n",
    "# Try converting some variables to booleans.\n",
    "\n",
    "(348 - df[df == 0].count())/348"
   ]
  },
  {
   "cell_type": "code",
   "execution_count": 24,
   "metadata": {},
   "outputs": [],
   "source": [
    "def toboolean(x):\n",
    "    if x > 0:\n",
    "        return 1\n",
    "    else:\n",
    "        return 0"
   ]
  },
  {
   "cell_type": "markdown",
   "metadata": {},
   "source": [
    "# Linear Regression Model Tests:"
   ]
  },
  {
   "cell_type": "markdown",
   "metadata": {},
   "source": [
    "## Suggested Model:\n",
    "\n",
    "$$ Property crime = \\alpha + Population + Population^2 + Murder + Robbery$$"
   ]
  },
  {
   "cell_type": "code",
   "execution_count": 25,
   "metadata": {},
   "outputs": [],
   "source": [
    "features1 = pd.DataFrame(df[['PropertyCrime', 'Murder', 'Robbery', 'Population']])"
   ]
  },
  {
   "cell_type": "code",
   "execution_count": 26,
   "metadata": {},
   "outputs": [],
   "source": [
    "features1['PopulationSquared'] = features1['Population'].apply(lambda x: x**2)\n",
    "features1['Murder'] = features1['Murder'].apply(lambda x: toboolean(x))\n",
    "features1['Robbery'] = features1['Robbery'].apply(lambda x: toboolean(x))"
   ]
  },
  {
   "cell_type": "code",
   "execution_count": 27,
   "metadata": {},
   "outputs": [
    {
     "data": {
      "text/html": [
       "<div>\n",
       "<style scoped>\n",
       "    .dataframe tbody tr th:only-of-type {\n",
       "        vertical-align: middle;\n",
       "    }\n",
       "\n",
       "    .dataframe tbody tr th {\n",
       "        vertical-align: top;\n",
       "    }\n",
       "\n",
       "    .dataframe thead th {\n",
       "        text-align: right;\n",
       "    }\n",
       "</style>\n",
       "<table border=\"1\" class=\"dataframe\">\n",
       "  <thead>\n",
       "    <tr style=\"text-align: right;\">\n",
       "      <th></th>\n",
       "      <th>PropertyCrime</th>\n",
       "      <th>Murder</th>\n",
       "      <th>Robbery</th>\n",
       "      <th>Population</th>\n",
       "      <th>PopulationSquared</th>\n",
       "    </tr>\n",
       "  </thead>\n",
       "  <tbody>\n",
       "    <tr>\n",
       "      <th>PropertyCrime</th>\n",
       "      <td>1.000000</td>\n",
       "      <td>0.190670</td>\n",
       "      <td>0.079318</td>\n",
       "      <td>0.996265</td>\n",
       "      <td>0.991027</td>\n",
       "    </tr>\n",
       "    <tr>\n",
       "      <th>Murder</th>\n",
       "      <td>0.190670</td>\n",
       "      <td>1.000000</td>\n",
       "      <td>0.313271</td>\n",
       "      <td>0.162309</td>\n",
       "      <td>0.133067</td>\n",
       "    </tr>\n",
       "    <tr>\n",
       "      <th>Robbery</th>\n",
       "      <td>0.079318</td>\n",
       "      <td>0.313271</td>\n",
       "      <td>1.000000</td>\n",
       "      <td>0.064371</td>\n",
       "      <td>0.043983</td>\n",
       "    </tr>\n",
       "    <tr>\n",
       "      <th>Population</th>\n",
       "      <td>0.996265</td>\n",
       "      <td>0.162309</td>\n",
       "      <td>0.064371</td>\n",
       "      <td>1.000000</td>\n",
       "      <td>0.998264</td>\n",
       "    </tr>\n",
       "    <tr>\n",
       "      <th>PopulationSquared</th>\n",
       "      <td>0.991027</td>\n",
       "      <td>0.133067</td>\n",
       "      <td>0.043983</td>\n",
       "      <td>0.998264</td>\n",
       "      <td>1.000000</td>\n",
       "    </tr>\n",
       "  </tbody>\n",
       "</table>\n",
       "</div>"
      ],
      "text/plain": [
       "                   PropertyCrime    Murder   Robbery  Population  \\\n",
       "PropertyCrime           1.000000  0.190670  0.079318    0.996265   \n",
       "Murder                  0.190670  1.000000  0.313271    0.162309   \n",
       "Robbery                 0.079318  0.313271  1.000000    0.064371   \n",
       "Population              0.996265  0.162309  0.064371    1.000000   \n",
       "PopulationSquared       0.991027  0.133067  0.043983    0.998264   \n",
       "\n",
       "                   PopulationSquared  \n",
       "PropertyCrime               0.991027  \n",
       "Murder                      0.133067  \n",
       "Robbery                     0.043983  \n",
       "Population                  0.998264  \n",
       "PopulationSquared           1.000000  "
      ]
     },
     "execution_count": 27,
     "metadata": {},
     "output_type": "execute_result"
    }
   ],
   "source": [
    "features1.corr()"
   ]
  },
  {
   "cell_type": "code",
   "execution_count": 28,
   "metadata": {},
   "outputs": [
    {
     "data": {
      "image/png": "[encoded data removed]",
      "text/plain": [
       "<Figure size 432x432 with 2 Axes>"
      ]
     },
     "metadata": {},
     "output_type": "display_data"
    }
   ],
   "source": [
    "plt.rcParams['figure.figsize'] = 6, 6\n",
    "sns.heatmap(features1.corr(), vmax=1, vmin=-1, square=True, cmap='RdBu_r')\n",
    "plt.show()"
   ]
  },
  {
   "cell_type": "code",
   "execution_count": 29,
   "metadata": {},
   "outputs": [
    {
     "data": {
      "text/html": [
       "<div>\n",
       "<style scoped>\n",
       "    .dataframe tbody tr th:only-of-type {\n",
       "        vertical-align: middle;\n",
       "    }\n",
       "\n",
       "    .dataframe tbody tr th {\n",
       "        vertical-align: top;\n",
       "    }\n",
       "\n",
       "    .dataframe thead th {\n",
       "        text-align: right;\n",
       "    }\n",
       "</style>\n",
       "<table border=\"1\" class=\"dataframe\">\n",
       "  <thead>\n",
       "    <tr style=\"text-align: right;\">\n",
       "      <th></th>\n",
       "      <th>PropertyCrime</th>\n",
       "      <th>Murder</th>\n",
       "      <th>Robbery</th>\n",
       "      <th>Population</th>\n",
       "      <th>PopulationSquared</th>\n",
       "    </tr>\n",
       "  </thead>\n",
       "  <tbody>\n",
       "    <tr>\n",
       "      <th>0</th>\n",
       "      <td>12.0</td>\n",
       "      <td>0</td>\n",
       "      <td>0</td>\n",
       "      <td>1861</td>\n",
       "      <td>3463321</td>\n",
       "    </tr>\n",
       "    <tr>\n",
       "      <th>1</th>\n",
       "      <td>24.0</td>\n",
       "      <td>0</td>\n",
       "      <td>0</td>\n",
       "      <td>2577</td>\n",
       "      <td>6640929</td>\n",
       "    </tr>\n",
       "    <tr>\n",
       "      <th>2</th>\n",
       "      <td>16.0</td>\n",
       "      <td>0</td>\n",
       "      <td>0</td>\n",
       "      <td>2846</td>\n",
       "      <td>8099716</td>\n",
       "    </tr>\n",
       "    <tr>\n",
       "      <th>3</th>\n",
       "      <td>4090.0</td>\n",
       "      <td>1</td>\n",
       "      <td>1</td>\n",
       "      <td>97956</td>\n",
       "      <td>9595377936</td>\n",
       "    </tr>\n",
       "    <tr>\n",
       "      <th>4</th>\n",
       "      <td>223.0</td>\n",
       "      <td>0</td>\n",
       "      <td>1</td>\n",
       "      <td>6388</td>\n",
       "      <td>40806544</td>\n",
       "    </tr>\n",
       "  </tbody>\n",
       "</table>\n",
       "</div>"
      ],
      "text/plain": [
       "   PropertyCrime  Murder  Robbery  Population  PopulationSquared\n",
       "0           12.0       0        0        1861            3463321\n",
       "1           24.0       0        0        2577            6640929\n",
       "2           16.0       0        0        2846            8099716\n",
       "3         4090.0       1        1       97956         9595377936\n",
       "4          223.0       0        1        6388           40806544"
      ]
     },
     "execution_count": 29,
     "metadata": {},
     "output_type": "execute_result"
    }
   ],
   "source": [
    "features1.head()"
   ]
  },
  {
   "cell_type": "code",
   "execution_count": 30,
   "metadata": {},
   "outputs": [],
   "source": [
    "linear_formula = 'PropertyCrime ~ Population+PopulationSquared+Murder+Robbery'\n",
    "data = features1\n",
    "\n",
    "lm = smf.ols(formula=linear_formula, data=data).fit()"
   ]
  },
  {
   "cell_type": "code",
   "execution_count": 31,
   "metadata": {},
   "outputs": [
    {
     "data": {
      "text/plain": [
       "Intercept           -1.095753e+02\n",
       "Population           3.465703e-02\n",
       "PopulationSquared   -2.111080e-09\n",
       "Murder               1.518665e+01\n",
       "Robbery             -9.627744e+01\n",
       "dtype: float64"
      ]
     },
     "metadata": {},
     "output_type": "display_data"
    },
    {
     "data": {
      "text/plain": [
       "Intercept            7.870415e-03\n",
       "Population           9.300525e-98\n",
       "PopulationSquared    5.233643e-41\n",
       "Murder               8.625065e-01\n",
       "Robbery              9.118127e-02\n",
       "dtype: float64"
      ]
     },
     "metadata": {},
     "output_type": "display_data"
    },
    {
     "data": {
      "text/plain": [
       "0.99612471049887086"
      ]
     },
     "metadata": {},
     "output_type": "display_data"
    },
    {
     "data": {
      "text/html": [
       "<div>\n",
       "<style scoped>\n",
       "    .dataframe tbody tr th:only-of-type {\n",
       "        vertical-align: middle;\n",
       "    }\n",
       "\n",
       "    .dataframe tbody tr th {\n",
       "        vertical-align: top;\n",
       "    }\n",
       "\n",
       "    .dataframe thead th {\n",
       "        text-align: right;\n",
       "    }\n",
       "</style>\n",
       "<table border=\"1\" class=\"dataframe\">\n",
       "  <thead>\n",
       "    <tr style=\"text-align: right;\">\n",
       "      <th></th>\n",
       "      <th>0</th>\n",
       "      <th>1</th>\n",
       "    </tr>\n",
       "  </thead>\n",
       "  <tbody>\n",
       "    <tr>\n",
       "      <th>Intercept</th>\n",
       "      <td>-1.901969e+02</td>\n",
       "      <td>-2.895379e+01</td>\n",
       "    </tr>\n",
       "    <tr>\n",
       "      <th>Population</th>\n",
       "      <td>3.238134e-02</td>\n",
       "      <td>3.693271e-02</td>\n",
       "    </tr>\n",
       "    <tr>\n",
       "      <th>PopulationSquared</th>\n",
       "      <td>-2.380877e-09</td>\n",
       "      <td>-1.841284e-09</td>\n",
       "    </tr>\n",
       "    <tr>\n",
       "      <th>Murder</th>\n",
       "      <td>-1.571631e+02</td>\n",
       "      <td>1.875364e+02</td>\n",
       "    </tr>\n",
       "    <tr>\n",
       "      <th>Robbery</th>\n",
       "      <td>-2.080681e+02</td>\n",
       "      <td>1.551319e+01</td>\n",
       "    </tr>\n",
       "  </tbody>\n",
       "</table>\n",
       "</div>"
      ],
      "text/plain": [
       "                              0             1\n",
       "Intercept         -1.901969e+02 -2.895379e+01\n",
       "Population         3.238134e-02  3.693271e-02\n",
       "PopulationSquared -2.380877e-09 -1.841284e-09\n",
       "Murder            -1.571631e+02  1.875364e+02\n",
       "Robbery           -2.080681e+02  1.551319e+01"
      ]
     },
     "metadata": {},
     "output_type": "display_data"
    }
   ],
   "source": [
    "display(lm.params, lm.pvalues, lm.rsquared, lm.conf_int())"
   ]
  },
  {
   "cell_type": "markdown",
   "metadata": {},
   "source": [
    "#### R-Squared is too high:"
   ]
  },
  {
   "cell_type": "code",
   "execution_count": 32,
   "metadata": {},
   "outputs": [],
   "source": [
    "reg = LinearRegression()\n",
    "\n",
    "def lr_model_results(X, y):\n",
    "\n",
    "    #Instantiate Linear Regression model:\n",
    "    reg = LinearRegression()\n",
    "\n",
    "    # Fit our model to our data.\n",
    "    reg.fit(X, y)\n",
    "\n",
    "    # Inspect the result:\n",
    "    print('\\nCoefficients: \\n', reg.coef_)\n",
    "    print('\\nIntercept: \\n', reg.intercept_)\n",
    "    print('\\nR-squared:')\n",
    "    print(reg.score(X, y), '\\n')\n",
    "\n",
    "    cvscore = cross_val_score(reg, X, y, cv=10)\n",
    "    print('Cross-Validation Score:\\n', cvscore)\n",
    "    print('Cross-Validation Mean:\\n', cvscore.mean())\n",
    "    print('Cross-Validation Spread:\\n', (cvscore.max()-cvscore.min()))"
   ]
  },
  {
   "cell_type": "markdown",
   "metadata": {},
   "source": [
    "### Model Coefficients and Cross-Validation:"
   ]
  },
  {
   "cell_type": "code",
   "execution_count": 33,
   "metadata": {},
   "outputs": [],
   "source": [
    "X = features1.iloc[:,1:]\n",
    "y = features1.PropertyCrime.values.reshape(-1, 1)"
   ]
  },
  {
   "cell_type": "code",
   "execution_count": 34,
   "metadata": {},
   "outputs": [
    {
     "data": {
      "text/html": [
       "<div>\n",
       "<style scoped>\n",
       "    .dataframe tbody tr th:only-of-type {\n",
       "        vertical-align: middle;\n",
       "    }\n",
       "\n",
       "    .dataframe tbody tr th {\n",
       "        vertical-align: top;\n",
       "    }\n",
       "\n",
       "    .dataframe thead th {\n",
       "        text-align: right;\n",
       "    }\n",
       "</style>\n",
       "<table border=\"1\" class=\"dataframe\">\n",
       "  <thead>\n",
       "    <tr style=\"text-align: right;\">\n",
       "      <th></th>\n",
       "      <th>Murder</th>\n",
       "      <th>Robbery</th>\n",
       "      <th>Population</th>\n",
       "      <th>PopulationSquared</th>\n",
       "    </tr>\n",
       "  </thead>\n",
       "  <tbody>\n",
       "    <tr>\n",
       "      <th>Murder</th>\n",
       "      <td>1.000000</td>\n",
       "      <td>0.313271</td>\n",
       "      <td>0.162309</td>\n",
       "      <td>0.133067</td>\n",
       "    </tr>\n",
       "    <tr>\n",
       "      <th>Robbery</th>\n",
       "      <td>0.313271</td>\n",
       "      <td>1.000000</td>\n",
       "      <td>0.064371</td>\n",
       "      <td>0.043983</td>\n",
       "    </tr>\n",
       "    <tr>\n",
       "      <th>Population</th>\n",
       "      <td>0.162309</td>\n",
       "      <td>0.064371</td>\n",
       "      <td>1.000000</td>\n",
       "      <td>0.998264</td>\n",
       "    </tr>\n",
       "    <tr>\n",
       "      <th>PopulationSquared</th>\n",
       "      <td>0.133067</td>\n",
       "      <td>0.043983</td>\n",
       "      <td>0.998264</td>\n",
       "      <td>1.000000</td>\n",
       "    </tr>\n",
       "  </tbody>\n",
       "</table>\n",
       "</div>"
      ],
      "text/plain": [
       "                     Murder   Robbery  Population  PopulationSquared\n",
       "Murder             1.000000  0.313271    0.162309           0.133067\n",
       "Robbery            0.313271  1.000000    0.064371           0.043983\n",
       "Population         0.162309  0.064371    1.000000           0.998264\n",
       "PopulationSquared  0.133067  0.043983    0.998264           1.000000"
      ]
     },
     "execution_count": 34,
     "metadata": {},
     "output_type": "execute_result"
    }
   ],
   "source": [
    "X.corr()"
   ]
  },
  {
   "cell_type": "code",
   "execution_count": 35,
   "metadata": {},
   "outputs": [
    {
     "name": "stdout",
     "output_type": "stream",
     "text": [
      "\n",
      "Coefficients: \n",
      " [[  1.51397004e+01  -9.62788861e+01   3.46571388e-02  -2.11107931e-09]]\n",
      "\n",
      "Intercept: \n",
      " [-109.57251855]\n",
      "\n",
      "R-squared:\n",
      "0.99612471045 \n",
      "\n",
      "Cross-Validation Score:\n",
      " [  7.60521283e-01   8.23392356e-01  -9.16323445e-03   5.04917097e-01\n",
      "   4.74255264e-01   4.19970155e-01  -3.37873806e+03   8.21730941e-01\n",
      "   8.86331576e-01  -9.81034431e-01]\n",
      "Cross-Validation Mean:\n",
      " -337.503713878\n",
      "Cross-Validation Spread:\n",
      " 3379.62439136\n"
     ]
    }
   ],
   "source": [
    "lr_model_results(X, y)"
   ]
  },
  {
   "cell_type": "markdown",
   "metadata": {},
   "source": [
    "### Visualization of Residuals:"
   ]
  },
  {
   "cell_type": "code",
   "execution_count": 36,
   "metadata": {},
   "outputs": [
    {
     "data": {
      "image/png": "[encoded data removed]",
      "text/plain": [
       "<Figure size 432x288 with 1 Axes>"
      ]
     },
     "metadata": {},
     "output_type": "display_data"
    }
   ],
   "source": [
    "reg.fit(X, y)\n",
    "predicted = reg.predict(X).ravel()\n",
    "actual = features1['PropertyCrime']\n",
    "\n",
    "residual = actual - predicted\n",
    "plt.rcParams['figure.figsize'] = 6, 4\n",
    "plt.hist(residual)\n",
    "plt.title('Residual Counts')\n",
    "plt.xlabel('Residual')\n",
    "plt.ylabel('Count')\n",
    "plt.show()"
   ]
  },
  {
   "cell_type": "code",
   "execution_count": 37,
   "metadata": {},
   "outputs": [
    {
     "data": {
      "image/png": "[encoded data removed]",
      "text/plain": [
       "<Figure size 432x288 with 1 Axes>"
      ]
     },
     "metadata": {},
     "output_type": "display_data"
    }
   ],
   "source": [
    "plt.scatter(predicted, residual)\n",
    "plt.xlabel('Predicted')\n",
    "plt.ylabel('Residual')\n",
    "plt.axhline(y=0)\n",
    "plt.title('Residual vs. Predicted')\n",
    "plt.show()"
   ]
  },
  {
   "cell_type": "markdown",
   "metadata": {},
   "source": [
    "### Summary:\n",
    "\n",
    "This looks overfit. The R-Squared values in the cross validation are anomalous. Back to the drawing board."
   ]
  },
  {
   "cell_type": "markdown",
   "metadata": {},
   "source": [
    "## Log Transformations and Feature Selection"
   ]
  },
  {
   "cell_type": "code",
   "execution_count": 38,
   "metadata": {},
   "outputs": [],
   "source": [
    "features2 = pd.DataFrame(df.drop(['City'], axis=1))"
   ]
  },
  {
   "cell_type": "code",
   "execution_count": 39,
   "metadata": {},
   "outputs": [
    {
     "data": {
      "text/html": [
       "<div>\n",
       "<style scoped>\n",
       "    .dataframe tbody tr th:only-of-type {\n",
       "        vertical-align: middle;\n",
       "    }\n",
       "\n",
       "    .dataframe tbody tr th {\n",
       "        vertical-align: top;\n",
       "    }\n",
       "\n",
       "    .dataframe thead th {\n",
       "        text-align: right;\n",
       "    }\n",
       "</style>\n",
       "<table border=\"1\" class=\"dataframe\">\n",
       "  <thead>\n",
       "    <tr style=\"text-align: right;\">\n",
       "      <th></th>\n",
       "      <th>Population</th>\n",
       "      <th>ViolentCrime</th>\n",
       "      <th>Murder</th>\n",
       "      <th>Rape</th>\n",
       "      <th>Robbery</th>\n",
       "      <th>AggravatedAssault</th>\n",
       "      <th>PropertyCrime</th>\n",
       "      <th>Burglary</th>\n",
       "      <th>Larceny</th>\n",
       "      <th>CarTheft</th>\n",
       "      <th>Arson</th>\n",
       "    </tr>\n",
       "  </thead>\n",
       "  <tbody>\n",
       "    <tr>\n",
       "      <th>0</th>\n",
       "      <td>1861</td>\n",
       "      <td>0.0</td>\n",
       "      <td>0.0</td>\n",
       "      <td>0.0</td>\n",
       "      <td>0.0</td>\n",
       "      <td>0.0</td>\n",
       "      <td>12.0</td>\n",
       "      <td>2.0</td>\n",
       "      <td>10.0</td>\n",
       "      <td>0.0</td>\n",
       "      <td>0.0</td>\n",
       "    </tr>\n",
       "    <tr>\n",
       "      <th>1</th>\n",
       "      <td>2577</td>\n",
       "      <td>3.0</td>\n",
       "      <td>0.0</td>\n",
       "      <td>0.0</td>\n",
       "      <td>0.0</td>\n",
       "      <td>3.0</td>\n",
       "      <td>24.0</td>\n",
       "      <td>3.0</td>\n",
       "      <td>20.0</td>\n",
       "      <td>1.0</td>\n",
       "      <td>0.0</td>\n",
       "    </tr>\n",
       "    <tr>\n",
       "      <th>2</th>\n",
       "      <td>2846</td>\n",
       "      <td>3.0</td>\n",
       "      <td>0.0</td>\n",
       "      <td>0.0</td>\n",
       "      <td>0.0</td>\n",
       "      <td>3.0</td>\n",
       "      <td>16.0</td>\n",
       "      <td>1.0</td>\n",
       "      <td>15.0</td>\n",
       "      <td>0.0</td>\n",
       "      <td>0.0</td>\n",
       "    </tr>\n",
       "    <tr>\n",
       "      <th>3</th>\n",
       "      <td>97956</td>\n",
       "      <td>791.0</td>\n",
       "      <td>8.0</td>\n",
       "      <td>30.0</td>\n",
       "      <td>227.0</td>\n",
       "      <td>526.0</td>\n",
       "      <td>4090.0</td>\n",
       "      <td>705.0</td>\n",
       "      <td>3243.0</td>\n",
       "      <td>142.0</td>\n",
       "      <td>0.0</td>\n",
       "    </tr>\n",
       "    <tr>\n",
       "      <th>4</th>\n",
       "      <td>6388</td>\n",
       "      <td>23.0</td>\n",
       "      <td>0.0</td>\n",
       "      <td>3.0</td>\n",
       "      <td>4.0</td>\n",
       "      <td>16.0</td>\n",
       "      <td>223.0</td>\n",
       "      <td>53.0</td>\n",
       "      <td>165.0</td>\n",
       "      <td>5.0</td>\n",
       "      <td>0.0</td>\n",
       "    </tr>\n",
       "  </tbody>\n",
       "</table>\n",
       "</div>"
      ],
      "text/plain": [
       "   Population  ViolentCrime  Murder  Rape  Robbery  AggravatedAssault  \\\n",
       "0        1861           0.0     0.0   0.0      0.0                0.0   \n",
       "1        2577           3.0     0.0   0.0      0.0                3.0   \n",
       "2        2846           3.0     0.0   0.0      0.0                3.0   \n",
       "3       97956         791.0     8.0  30.0    227.0              526.0   \n",
       "4        6388          23.0     0.0   3.0      4.0               16.0   \n",
       "\n",
       "   PropertyCrime  Burglary  Larceny  CarTheft  Arson  \n",
       "0           12.0       2.0     10.0       0.0    0.0  \n",
       "1           24.0       3.0     20.0       1.0    0.0  \n",
       "2           16.0       1.0     15.0       0.0    0.0  \n",
       "3         4090.0     705.0   3243.0     142.0    0.0  \n",
       "4          223.0      53.0    165.0       5.0    0.0  "
      ]
     },
     "execution_count": 39,
     "metadata": {},
     "output_type": "execute_result"
    }
   ],
   "source": [
    "features2.head()"
   ]
  },
  {
   "cell_type": "code",
   "execution_count": 40,
   "metadata": {},
   "outputs": [],
   "source": [
    "features2['Population'] = np.log(features2['Population']+1)\n",
    "features2['PropertyCrime'] = np.log(features2['PropertyCrime']+1)"
   ]
  },
  {
   "cell_type": "code",
   "execution_count": 41,
   "metadata": {},
   "outputs": [],
   "source": [
    "for feature in features2.columns:\n",
    "    if feature == 'Population' or feature ==  'PropertyCrime':\n",
    "        pass\n",
    "    else:\n",
    "        features2[feature] = features2[feature].apply(lambda x: toboolean(x))"
   ]
  },
  {
   "cell_type": "code",
   "execution_count": 42,
   "metadata": {},
   "outputs": [
    {
     "data": {
      "text/html": [
       "<div>\n",
       "<style scoped>\n",
       "    .dataframe tbody tr th:only-of-type {\n",
       "        vertical-align: middle;\n",
       "    }\n",
       "\n",
       "    .dataframe tbody tr th {\n",
       "        vertical-align: top;\n",
       "    }\n",
       "\n",
       "    .dataframe thead th {\n",
       "        text-align: right;\n",
       "    }\n",
       "</style>\n",
       "<table border=\"1\" class=\"dataframe\">\n",
       "  <thead>\n",
       "    <tr style=\"text-align: right;\">\n",
       "      <th></th>\n",
       "      <th>Population</th>\n",
       "      <th>ViolentCrime</th>\n",
       "      <th>Murder</th>\n",
       "      <th>Rape</th>\n",
       "      <th>Robbery</th>\n",
       "      <th>AggravatedAssault</th>\n",
       "      <th>PropertyCrime</th>\n",
       "      <th>Burglary</th>\n",
       "      <th>Larceny</th>\n",
       "      <th>CarTheft</th>\n",
       "      <th>Arson</th>\n",
       "    </tr>\n",
       "  </thead>\n",
       "  <tbody>\n",
       "    <tr>\n",
       "      <th>0</th>\n",
       "      <td>7.529406</td>\n",
       "      <td>0</td>\n",
       "      <td>0</td>\n",
       "      <td>0</td>\n",
       "      <td>0</td>\n",
       "      <td>0</td>\n",
       "      <td>2.564949</td>\n",
       "      <td>1</td>\n",
       "      <td>1</td>\n",
       "      <td>0</td>\n",
       "      <td>0</td>\n",
       "    </tr>\n",
       "    <tr>\n",
       "      <th>1</th>\n",
       "      <td>7.854769</td>\n",
       "      <td>1</td>\n",
       "      <td>0</td>\n",
       "      <td>0</td>\n",
       "      <td>0</td>\n",
       "      <td>1</td>\n",
       "      <td>3.218876</td>\n",
       "      <td>1</td>\n",
       "      <td>1</td>\n",
       "      <td>1</td>\n",
       "      <td>0</td>\n",
       "    </tr>\n",
       "    <tr>\n",
       "      <th>2</th>\n",
       "      <td>7.954021</td>\n",
       "      <td>1</td>\n",
       "      <td>0</td>\n",
       "      <td>0</td>\n",
       "      <td>0</td>\n",
       "      <td>1</td>\n",
       "      <td>2.833213</td>\n",
       "      <td>1</td>\n",
       "      <td>1</td>\n",
       "      <td>0</td>\n",
       "      <td>0</td>\n",
       "    </tr>\n",
       "    <tr>\n",
       "      <th>3</th>\n",
       "      <td>11.492284</td>\n",
       "      <td>1</td>\n",
       "      <td>1</td>\n",
       "      <td>1</td>\n",
       "      <td>1</td>\n",
       "      <td>1</td>\n",
       "      <td>8.316545</td>\n",
       "      <td>1</td>\n",
       "      <td>1</td>\n",
       "      <td>1</td>\n",
       "      <td>0</td>\n",
       "    </tr>\n",
       "    <tr>\n",
       "      <th>4</th>\n",
       "      <td>8.762333</td>\n",
       "      <td>1</td>\n",
       "      <td>0</td>\n",
       "      <td>1</td>\n",
       "      <td>1</td>\n",
       "      <td>1</td>\n",
       "      <td>5.411646</td>\n",
       "      <td>1</td>\n",
       "      <td>1</td>\n",
       "      <td>1</td>\n",
       "      <td>0</td>\n",
       "    </tr>\n",
       "  </tbody>\n",
       "</table>\n",
       "</div>"
      ],
      "text/plain": [
       "   Population  ViolentCrime  Murder  Rape  Robbery  AggravatedAssault  \\\n",
       "0    7.529406             0       0     0        0                  0   \n",
       "1    7.854769             1       0     0        0                  1   \n",
       "2    7.954021             1       0     0        0                  1   \n",
       "3   11.492284             1       1     1        1                  1   \n",
       "4    8.762333             1       0     1        1                  1   \n",
       "\n",
       "   PropertyCrime  Burglary  Larceny  CarTheft  Arson  \n",
       "0       2.564949         1        1         0      0  \n",
       "1       3.218876         1        1         1      0  \n",
       "2       2.833213         1        1         0      0  \n",
       "3       8.316545         1        1         1      0  \n",
       "4       5.411646         1        1         1      0  "
      ]
     },
     "execution_count": 42,
     "metadata": {},
     "output_type": "execute_result"
    }
   ],
   "source": [
    "features2.head()"
   ]
  },
  {
   "cell_type": "code",
   "execution_count": 43,
   "metadata": {},
   "outputs": [
    {
     "data": {
      "text/html": [
       "<div>\n",
       "<style scoped>\n",
       "    .dataframe tbody tr th:only-of-type {\n",
       "        vertical-align: middle;\n",
       "    }\n",
       "\n",
       "    .dataframe tbody tr th {\n",
       "        vertical-align: top;\n",
       "    }\n",
       "\n",
       "    .dataframe thead th {\n",
       "        text-align: right;\n",
       "    }\n",
       "</style>\n",
       "<table border=\"1\" class=\"dataframe\">\n",
       "  <thead>\n",
       "    <tr style=\"text-align: right;\">\n",
       "      <th></th>\n",
       "      <th>Population</th>\n",
       "      <th>ViolentCrime</th>\n",
       "      <th>Murder</th>\n",
       "      <th>Rape</th>\n",
       "      <th>Robbery</th>\n",
       "      <th>AggravatedAssault</th>\n",
       "      <th>PropertyCrime</th>\n",
       "      <th>Burglary</th>\n",
       "      <th>Larceny</th>\n",
       "      <th>CarTheft</th>\n",
       "      <th>Arson</th>\n",
       "    </tr>\n",
       "  </thead>\n",
       "  <tbody>\n",
       "    <tr>\n",
       "      <th>Population</th>\n",
       "      <td>1.000000</td>\n",
       "      <td>0.427992</td>\n",
       "      <td>0.502563</td>\n",
       "      <td>0.553586</td>\n",
       "      <td>0.582247</td>\n",
       "      <td>0.425383</td>\n",
       "      <td>0.869090</td>\n",
       "      <td>0.358751</td>\n",
       "      <td>0.212422</td>\n",
       "      <td>0.483086</td>\n",
       "      <td>0.285326</td>\n",
       "    </tr>\n",
       "    <tr>\n",
       "      <th>ViolentCrime</th>\n",
       "      <td>0.427992</td>\n",
       "      <td>1.000000</td>\n",
       "      <td>0.167753</td>\n",
       "      <td>0.348155</td>\n",
       "      <td>0.508127</td>\n",
       "      <td>0.856563</td>\n",
       "      <td>0.557033</td>\n",
       "      <td>0.372693</td>\n",
       "      <td>0.345752</td>\n",
       "      <td>0.429117</td>\n",
       "      <td>0.177595</td>\n",
       "    </tr>\n",
       "    <tr>\n",
       "      <th>Murder</th>\n",
       "      <td>0.502563</td>\n",
       "      <td>0.167753</td>\n",
       "      <td>1.000000</td>\n",
       "      <td>0.381186</td>\n",
       "      <td>0.313271</td>\n",
       "      <td>0.195844</td>\n",
       "      <td>0.481778</td>\n",
       "      <td>0.102588</td>\n",
       "      <td>0.058001</td>\n",
       "      <td>0.225805</td>\n",
       "      <td>0.214409</td>\n",
       "    </tr>\n",
       "    <tr>\n",
       "      <th>Rape</th>\n",
       "      <td>0.553586</td>\n",
       "      <td>0.348155</td>\n",
       "      <td>0.381186</td>\n",
       "      <td>1.000000</td>\n",
       "      <td>0.470749</td>\n",
       "      <td>0.302276</td>\n",
       "      <td>0.622595</td>\n",
       "      <td>0.212913</td>\n",
       "      <td>0.120375</td>\n",
       "      <td>0.283244</td>\n",
       "      <td>0.268387</td>\n",
       "    </tr>\n",
       "    <tr>\n",
       "      <th>Robbery</th>\n",
       "      <td>0.582247</td>\n",
       "      <td>0.508127</td>\n",
       "      <td>0.313271</td>\n",
       "      <td>0.470749</td>\n",
       "      <td>1.000000</td>\n",
       "      <td>0.428592</td>\n",
       "      <td>0.677184</td>\n",
       "      <td>0.286105</td>\n",
       "      <td>0.175686</td>\n",
       "      <td>0.448838</td>\n",
       "      <td>0.203670</td>\n",
       "    </tr>\n",
       "    <tr>\n",
       "      <th>AggravatedAssault</th>\n",
       "      <td>0.425383</td>\n",
       "      <td>0.856563</td>\n",
       "      <td>0.195844</td>\n",
       "      <td>0.302276</td>\n",
       "      <td>0.428592</td>\n",
       "      <td>1.000000</td>\n",
       "      <td>0.535125</td>\n",
       "      <td>0.339135</td>\n",
       "      <td>0.296159</td>\n",
       "      <td>0.403539</td>\n",
       "      <td>0.207334</td>\n",
       "    </tr>\n",
       "    <tr>\n",
       "      <th>PropertyCrime</th>\n",
       "      <td>0.869090</td>\n",
       "      <td>0.557033</td>\n",
       "      <td>0.481778</td>\n",
       "      <td>0.622595</td>\n",
       "      <td>0.677184</td>\n",
       "      <td>0.535125</td>\n",
       "      <td>1.000000</td>\n",
       "      <td>0.490612</td>\n",
       "      <td>0.393148</td>\n",
       "      <td>0.557840</td>\n",
       "      <td>0.320150</td>\n",
       "    </tr>\n",
       "    <tr>\n",
       "      <th>Burglary</th>\n",
       "      <td>0.358751</td>\n",
       "      <td>0.372693</td>\n",
       "      <td>0.102588</td>\n",
       "      <td>0.212913</td>\n",
       "      <td>0.286105</td>\n",
       "      <td>0.339135</td>\n",
       "      <td>0.490612</td>\n",
       "      <td>1.000000</td>\n",
       "      <td>0.479420</td>\n",
       "      <td>0.337818</td>\n",
       "      <td>0.075278</td>\n",
       "    </tr>\n",
       "    <tr>\n",
       "      <th>Larceny</th>\n",
       "      <td>0.212422</td>\n",
       "      <td>0.345752</td>\n",
       "      <td>0.058001</td>\n",
       "      <td>0.120375</td>\n",
       "      <td>0.175686</td>\n",
       "      <td>0.296159</td>\n",
       "      <td>0.393148</td>\n",
       "      <td>0.479420</td>\n",
       "      <td>1.000000</td>\n",
       "      <td>0.237247</td>\n",
       "      <td>0.061404</td>\n",
       "    </tr>\n",
       "    <tr>\n",
       "      <th>CarTheft</th>\n",
       "      <td>0.483086</td>\n",
       "      <td>0.429117</td>\n",
       "      <td>0.225805</td>\n",
       "      <td>0.283244</td>\n",
       "      <td>0.448838</td>\n",
       "      <td>0.403539</td>\n",
       "      <td>0.557840</td>\n",
       "      <td>0.337818</td>\n",
       "      <td>0.237247</td>\n",
       "      <td>1.000000</td>\n",
       "      <td>0.169144</td>\n",
       "    </tr>\n",
       "    <tr>\n",
       "      <th>Arson</th>\n",
       "      <td>0.285326</td>\n",
       "      <td>0.177595</td>\n",
       "      <td>0.214409</td>\n",
       "      <td>0.268387</td>\n",
       "      <td>0.203670</td>\n",
       "      <td>0.207334</td>\n",
       "      <td>0.320150</td>\n",
       "      <td>0.075278</td>\n",
       "      <td>0.061404</td>\n",
       "      <td>0.169144</td>\n",
       "      <td>1.000000</td>\n",
       "    </tr>\n",
       "  </tbody>\n",
       "</table>\n",
       "</div>"
      ],
      "text/plain": [
       "                   Population  ViolentCrime    Murder      Rape   Robbery  \\\n",
       "Population           1.000000      0.427992  0.502563  0.553586  0.582247   \n",
       "ViolentCrime         0.427992      1.000000  0.167753  0.348155  0.508127   \n",
       "Murder               0.502563      0.167753  1.000000  0.381186  0.313271   \n",
       "Rape                 0.553586      0.348155  0.381186  1.000000  0.470749   \n",
       "Robbery              0.582247      0.508127  0.313271  0.470749  1.000000   \n",
       "AggravatedAssault    0.425383      0.856563  0.195844  0.302276  0.428592   \n",
       "PropertyCrime        0.869090      0.557033  0.481778  0.622595  0.677184   \n",
       "Burglary             0.358751      0.372693  0.102588  0.212913  0.286105   \n",
       "Larceny              0.212422      0.345752  0.058001  0.120375  0.175686   \n",
       "CarTheft             0.483086      0.429117  0.225805  0.283244  0.448838   \n",
       "Arson                0.285326      0.177595  0.214409  0.268387  0.203670   \n",
       "\n",
       "                   AggravatedAssault  PropertyCrime  Burglary   Larceny  \\\n",
       "Population                  0.425383       0.869090  0.358751  0.212422   \n",
       "ViolentCrime                0.856563       0.557033  0.372693  0.345752   \n",
       "Murder                      0.195844       0.481778  0.102588  0.058001   \n",
       "Rape                        0.302276       0.622595  0.212913  0.120375   \n",
       "Robbery                     0.428592       0.677184  0.286105  0.175686   \n",
       "AggravatedAssault           1.000000       0.535125  0.339135  0.296159   \n",
       "PropertyCrime               0.535125       1.000000  0.490612  0.393148   \n",
       "Burglary                    0.339135       0.490612  1.000000  0.479420   \n",
       "Larceny                     0.296159       0.393148  0.479420  1.000000   \n",
       "CarTheft                    0.403539       0.557840  0.337818  0.237247   \n",
       "Arson                       0.207334       0.320150  0.075278  0.061404   \n",
       "\n",
       "                   CarTheft     Arson  \n",
       "Population         0.483086  0.285326  \n",
       "ViolentCrime       0.429117  0.177595  \n",
       "Murder             0.225805  0.214409  \n",
       "Rape               0.283244  0.268387  \n",
       "Robbery            0.448838  0.203670  \n",
       "AggravatedAssault  0.403539  0.207334  \n",
       "PropertyCrime      0.557840  0.320150  \n",
       "Burglary           0.337818  0.075278  \n",
       "Larceny            0.237247  0.061404  \n",
       "CarTheft           1.000000  0.169144  \n",
       "Arson              0.169144  1.000000  "
      ]
     },
     "execution_count": 43,
     "metadata": {},
     "output_type": "execute_result"
    }
   ],
   "source": [
    "features2.corr()"
   ]
  },
  {
   "cell_type": "code",
   "execution_count": 44,
   "metadata": {},
   "outputs": [
    {
     "data": {
      "image/png": "[encoded data removed]",
      "text/plain": [
       "<Figure size 576x576 with 2 Axes>"
      ]
     },
     "metadata": {},
     "output_type": "display_data"
    }
   ],
   "source": [
    "plt.rcParams['figure.figsize'] = 8, 8\n",
    "sns.heatmap(features2.corr(), vmax=1, vmin=-1, square=True, cmap='RdBu_r')\n",
    "plt.show()"
   ]
  },
  {
   "cell_type": "markdown",
   "metadata": {},
   "source": [
    "## Feature Set 2: Population and ViolentCrime"
   ]
  },
  {
   "cell_type": "code",
   "execution_count": 45,
   "metadata": {},
   "outputs": [],
   "source": [
    "linear_formula = 'PropertyCrime ~ Population+ViolentCrime'\n",
    "data = features2\n",
    "\n",
    "lm = smf.ols(formula=linear_formula, data=data).fit()"
   ]
  },
  {
   "cell_type": "code",
   "execution_count": 46,
   "metadata": {},
   "outputs": [
    {
     "data": {
      "text/plain": [
       "Intercept      -5.581744\n",
       "Population      1.048532\n",
       "ViolentCrime    1.081800\n",
       "dtype: float64"
      ]
     },
     "metadata": {},
     "output_type": "display_data"
    },
    {
     "data": {
      "text/plain": [
       "Intercept       3.384037e-54\n",
       "Population      9.734301e-94\n",
       "ViolentCrime    8.451282e-16\n",
       "dtype: float64"
      ]
     },
     "metadata": {},
     "output_type": "display_data"
    },
    {
     "data": {
      "text/plain": [
       "0.79724951189567517"
      ]
     },
     "metadata": {},
     "output_type": "display_data"
    },
    {
     "data": {
      "text/html": [
       "<div>\n",
       "<style scoped>\n",
       "    .dataframe tbody tr th:only-of-type {\n",
       "        vertical-align: middle;\n",
       "    }\n",
       "\n",
       "    .dataframe tbody tr th {\n",
       "        vertical-align: top;\n",
       "    }\n",
       "\n",
       "    .dataframe thead th {\n",
       "        text-align: right;\n",
       "    }\n",
       "</style>\n",
       "<table border=\"1\" class=\"dataframe\">\n",
       "  <thead>\n",
       "    <tr style=\"text-align: right;\">\n",
       "      <th></th>\n",
       "      <th>0</th>\n",
       "      <th>1</th>\n",
       "    </tr>\n",
       "  </thead>\n",
       "  <tbody>\n",
       "    <tr>\n",
       "      <th>Intercept</th>\n",
       "      <td>-6.170264</td>\n",
       "      <td>-4.993225</td>\n",
       "    </tr>\n",
       "    <tr>\n",
       "      <th>Population</th>\n",
       "      <td>0.976888</td>\n",
       "      <td>1.120176</td>\n",
       "    </tr>\n",
       "    <tr>\n",
       "      <th>ViolentCrime</th>\n",
       "      <td>0.829904</td>\n",
       "      <td>1.333696</td>\n",
       "    </tr>\n",
       "  </tbody>\n",
       "</table>\n",
       "</div>"
      ],
      "text/plain": [
       "                     0         1\n",
       "Intercept    -6.170264 -4.993225\n",
       "Population    0.976888  1.120176\n",
       "ViolentCrime  0.829904  1.333696"
      ]
     },
     "metadata": {},
     "output_type": "display_data"
    }
   ],
   "source": [
    "display(lm.params, lm.pvalues, lm.rsquared, lm.conf_int())"
   ]
  },
  {
   "cell_type": "markdown",
   "metadata": {},
   "source": [
    "### Model Coefficients and Cross-Validation:"
   ]
  },
  {
   "cell_type": "code",
   "execution_count": 47,
   "metadata": {},
   "outputs": [],
   "source": [
    "X = features2[['Population', 'ViolentCrime']]\n",
    "y = features2.PropertyCrime.values.reshape(-1, 1)"
   ]
  },
  {
   "cell_type": "code",
   "execution_count": 48,
   "metadata": {},
   "outputs": [
    {
     "data": {
      "text/html": [
       "<div>\n",
       "<style scoped>\n",
       "    .dataframe tbody tr th:only-of-type {\n",
       "        vertical-align: middle;\n",
       "    }\n",
       "\n",
       "    .dataframe tbody tr th {\n",
       "        vertical-align: top;\n",
       "    }\n",
       "\n",
       "    .dataframe thead th {\n",
       "        text-align: right;\n",
       "    }\n",
       "</style>\n",
       "<table border=\"1\" class=\"dataframe\">\n",
       "  <thead>\n",
       "    <tr style=\"text-align: right;\">\n",
       "      <th></th>\n",
       "      <th>Population</th>\n",
       "      <th>ViolentCrime</th>\n",
       "    </tr>\n",
       "  </thead>\n",
       "  <tbody>\n",
       "    <tr>\n",
       "      <th>Population</th>\n",
       "      <td>1.000000</td>\n",
       "      <td>0.427992</td>\n",
       "    </tr>\n",
       "    <tr>\n",
       "      <th>ViolentCrime</th>\n",
       "      <td>0.427992</td>\n",
       "      <td>1.000000</td>\n",
       "    </tr>\n",
       "  </tbody>\n",
       "</table>\n",
       "</div>"
      ],
      "text/plain": [
       "              Population  ViolentCrime\n",
       "Population      1.000000      0.427992\n",
       "ViolentCrime    0.427992      1.000000"
      ]
     },
     "execution_count": 48,
     "metadata": {},
     "output_type": "execute_result"
    }
   ],
   "source": [
    "X.corr()"
   ]
  },
  {
   "cell_type": "code",
   "execution_count": 49,
   "metadata": {},
   "outputs": [
    {
     "name": "stdout",
     "output_type": "stream",
     "text": [
      "\n",
      "Coefficients: \n",
      " [[ 1.04853234  1.08179988]]\n",
      "\n",
      "Intercept: \n",
      " [-5.58174437]\n",
      "\n",
      "R-squared:\n",
      "0.797249511896 \n",
      "\n",
      "Cross-Validation Score:\n",
      " [ 0.79304956  0.86613971  0.38298515  0.84396672  0.73322698  0.71471619\n",
      "  0.86515027  0.80429518  0.76609521  0.85447782]\n",
      "Cross-Validation Mean:\n",
      " 0.76241027856\n",
      "Cross-Validation Spread:\n",
      " 0.483154565202\n"
     ]
    }
   ],
   "source": [
    "lr_model_results(X, y)"
   ]
  },
  {
   "cell_type": "markdown",
   "metadata": {},
   "source": [
    "### Visualization of Residuals:"
   ]
  },
  {
   "cell_type": "code",
   "execution_count": 50,
   "metadata": {},
   "outputs": [
    {
     "data": {
      "image/png": "[encoded data removed]",
      "text/plain": [
       "<Figure size 432x288 with 1 Axes>"
      ]
     },
     "metadata": {},
     "output_type": "display_data"
    }
   ],
   "source": [
    "reg.fit(X, y)\n",
    "predicted = reg.predict(X).ravel()\n",
    "actual = features2['PropertyCrime']\n",
    "\n",
    "residual = actual - predicted\n",
    "plt.rcParams['figure.figsize'] = 6, 4\n",
    "plt.hist(residual)\n",
    "plt.title('Residual Counts')\n",
    "plt.xlabel('Residual')\n",
    "plt.ylabel('Count')\n",
    "plt.show()"
   ]
  },
  {
   "cell_type": "code",
   "execution_count": 51,
   "metadata": {},
   "outputs": [
    {
     "data": {
      "image/png": "[encoded data removed]",
      "text/plain": [
       "<Figure size 432x288 with 1 Axes>"
      ]
     },
     "metadata": {},
     "output_type": "display_data"
    }
   ],
   "source": [
    "plt.scatter(predicted, residual)\n",
    "plt.xlabel('Predicted')\n",
    "plt.ylabel('Residual')\n",
    "plt.axhline(y=0)\n",
    "plt.title('Residual against Predicted')\n",
    "plt.show()"
   ]
  },
  {
   "cell_type": "markdown",
   "metadata": {},
   "source": [
    "### Summary:\n",
    "\n",
    "The R-squared value for this model looks much more realistic, although there's still a great deal of variance in the cross-validation score. The residual graph looks reasonably homoscedastic."
   ]
  },
  {
   "cell_type": "markdown",
   "metadata": {},
   "source": [
    "## Feature Set 3: Population, Murder, Robbery, Rape, AggravatedAssault, Arson"
   ]
  },
  {
   "cell_type": "code",
   "execution_count": 52,
   "metadata": {},
   "outputs": [],
   "source": [
    "linear_formula = 'PropertyCrime ~ Population+Murder+Robbery+Rape+AggravatedAssault+Arson'\n",
    "data = features2\n",
    "\n",
    "lm = smf.ols(formula=linear_formula, data=data).fit()"
   ]
  },
  {
   "cell_type": "code",
   "execution_count": 53,
   "metadata": {},
   "outputs": [
    {
     "data": {
      "text/plain": [
       "Intercept           -3.629637\n",
       "Population           0.806041\n",
       "Murder               0.174236\n",
       "Robbery              0.635333\n",
       "Rape                 0.476820\n",
       "AggravatedAssault    0.632092\n",
       "Arson                0.176358\n",
       "dtype: float64"
      ]
     },
     "metadata": {},
     "output_type": "display_data"
    },
    {
     "data": {
      "text/plain": [
       "Intercept            1.597852e-22\n",
       "Population           2.830406e-53\n",
       "Murder               1.647485e-01\n",
       "Robbery              3.501318e-10\n",
       "Rape                 7.236812e-07\n",
       "AggravatedAssault    1.328413e-08\n",
       "Arson                1.056989e-01\n",
       "dtype: float64"
      ]
     },
     "metadata": {},
     "output_type": "display_data"
    },
    {
     "data": {
      "text/plain": [
       "0.83515606498262818"
      ]
     },
     "metadata": {},
     "output_type": "display_data"
    },
    {
     "data": {
      "text/html": [
       "<div>\n",
       "<style scoped>\n",
       "    .dataframe tbody tr th:only-of-type {\n",
       "        vertical-align: middle;\n",
       "    }\n",
       "\n",
       "    .dataframe tbody tr th {\n",
       "        vertical-align: top;\n",
       "    }\n",
       "\n",
       "    .dataframe thead th {\n",
       "        text-align: right;\n",
       "    }\n",
       "</style>\n",
       "<table border=\"1\" class=\"dataframe\">\n",
       "  <thead>\n",
       "    <tr style=\"text-align: right;\">\n",
       "      <th></th>\n",
       "      <th>0</th>\n",
       "      <th>1</th>\n",
       "    </tr>\n",
       "  </thead>\n",
       "  <tbody>\n",
       "    <tr>\n",
       "      <th>Intercept</th>\n",
       "      <td>-4.309749</td>\n",
       "      <td>-2.949524</td>\n",
       "    </tr>\n",
       "    <tr>\n",
       "      <th>Population</th>\n",
       "      <td>0.720193</td>\n",
       "      <td>0.891889</td>\n",
       "    </tr>\n",
       "    <tr>\n",
       "      <th>Murder</th>\n",
       "      <td>-0.071918</td>\n",
       "      <td>0.420389</td>\n",
       "    </tr>\n",
       "    <tr>\n",
       "      <th>Robbery</th>\n",
       "      <td>0.442045</td>\n",
       "      <td>0.828621</td>\n",
       "    </tr>\n",
       "    <tr>\n",
       "      <th>Rape</th>\n",
       "      <td>0.291074</td>\n",
       "      <td>0.662566</td>\n",
       "    </tr>\n",
       "    <tr>\n",
       "      <th>AggravatedAssault</th>\n",
       "      <td>0.418615</td>\n",
       "      <td>0.845568</td>\n",
       "    </tr>\n",
       "    <tr>\n",
       "      <th>Arson</th>\n",
       "      <td>-0.037488</td>\n",
       "      <td>0.390204</td>\n",
       "    </tr>\n",
       "  </tbody>\n",
       "</table>\n",
       "</div>"
      ],
      "text/plain": [
       "                          0         1\n",
       "Intercept         -4.309749 -2.949524\n",
       "Population         0.720193  0.891889\n",
       "Murder            -0.071918  0.420389\n",
       "Robbery            0.442045  0.828621\n",
       "Rape               0.291074  0.662566\n",
       "AggravatedAssault  0.418615  0.845568\n",
       "Arson             -0.037488  0.390204"
      ]
     },
     "metadata": {},
     "output_type": "display_data"
    }
   ],
   "source": [
    "display(lm.params, lm.pvalues, lm.rsquared, lm.conf_int())"
   ]
  },
  {
   "cell_type": "markdown",
   "metadata": {},
   "source": [
    "P-values for Murder and Arson look higher than the rest. The next model will not include Murder."
   ]
  },
  {
   "cell_type": "markdown",
   "metadata": {},
   "source": [
    "### Model Coefficients and Cross-Validation:"
   ]
  },
  {
   "cell_type": "code",
   "execution_count": 54,
   "metadata": {},
   "outputs": [],
   "source": [
    "X = features2[['Population', 'Murder', 'Robbery', 'Rape', 'AggravatedAssault', 'Arson']]\n",
    "y = features2.PropertyCrime.values.reshape(-1, 1)"
   ]
  },
  {
   "cell_type": "code",
   "execution_count": 55,
   "metadata": {},
   "outputs": [
    {
     "data": {
      "text/html": [
       "<div>\n",
       "<style scoped>\n",
       "    .dataframe tbody tr th:only-of-type {\n",
       "        vertical-align: middle;\n",
       "    }\n",
       "\n",
       "    .dataframe tbody tr th {\n",
       "        vertical-align: top;\n",
       "    }\n",
       "\n",
       "    .dataframe thead th {\n",
       "        text-align: right;\n",
       "    }\n",
       "</style>\n",
       "<table border=\"1\" class=\"dataframe\">\n",
       "  <thead>\n",
       "    <tr style=\"text-align: right;\">\n",
       "      <th></th>\n",
       "      <th>Population</th>\n",
       "      <th>Murder</th>\n",
       "      <th>Robbery</th>\n",
       "      <th>Rape</th>\n",
       "      <th>AggravatedAssault</th>\n",
       "      <th>Arson</th>\n",
       "    </tr>\n",
       "  </thead>\n",
       "  <tbody>\n",
       "    <tr>\n",
       "      <th>Population</th>\n",
       "      <td>1.000000</td>\n",
       "      <td>0.502563</td>\n",
       "      <td>0.582247</td>\n",
       "      <td>0.553586</td>\n",
       "      <td>0.425383</td>\n",
       "      <td>0.285326</td>\n",
       "    </tr>\n",
       "    <tr>\n",
       "      <th>Murder</th>\n",
       "      <td>0.502563</td>\n",
       "      <td>1.000000</td>\n",
       "      <td>0.313271</td>\n",
       "      <td>0.381186</td>\n",
       "      <td>0.195844</td>\n",
       "      <td>0.214409</td>\n",
       "    </tr>\n",
       "    <tr>\n",
       "      <th>Robbery</th>\n",
       "      <td>0.582247</td>\n",
       "      <td>0.313271</td>\n",
       "      <td>1.000000</td>\n",
       "      <td>0.470749</td>\n",
       "      <td>0.428592</td>\n",
       "      <td>0.203670</td>\n",
       "    </tr>\n",
       "    <tr>\n",
       "      <th>Rape</th>\n",
       "      <td>0.553586</td>\n",
       "      <td>0.381186</td>\n",
       "      <td>0.470749</td>\n",
       "      <td>1.000000</td>\n",
       "      <td>0.302276</td>\n",
       "      <td>0.268387</td>\n",
       "    </tr>\n",
       "    <tr>\n",
       "      <th>AggravatedAssault</th>\n",
       "      <td>0.425383</td>\n",
       "      <td>0.195844</td>\n",
       "      <td>0.428592</td>\n",
       "      <td>0.302276</td>\n",
       "      <td>1.000000</td>\n",
       "      <td>0.207334</td>\n",
       "    </tr>\n",
       "    <tr>\n",
       "      <th>Arson</th>\n",
       "      <td>0.285326</td>\n",
       "      <td>0.214409</td>\n",
       "      <td>0.203670</td>\n",
       "      <td>0.268387</td>\n",
       "      <td>0.207334</td>\n",
       "      <td>1.000000</td>\n",
       "    </tr>\n",
       "  </tbody>\n",
       "</table>\n",
       "</div>"
      ],
      "text/plain": [
       "                   Population    Murder   Robbery      Rape  \\\n",
       "Population           1.000000  0.502563  0.582247  0.553586   \n",
       "Murder               0.502563  1.000000  0.313271  0.381186   \n",
       "Robbery              0.582247  0.313271  1.000000  0.470749   \n",
       "Rape                 0.553586  0.381186  0.470749  1.000000   \n",
       "AggravatedAssault    0.425383  0.195844  0.428592  0.302276   \n",
       "Arson                0.285326  0.214409  0.203670  0.268387   \n",
       "\n",
       "                   AggravatedAssault     Arson  \n",
       "Population                  0.425383  0.285326  \n",
       "Murder                      0.195844  0.214409  \n",
       "Robbery                     0.428592  0.203670  \n",
       "Rape                        0.302276  0.268387  \n",
       "AggravatedAssault           1.000000  0.207334  \n",
       "Arson                       0.207334  1.000000  "
      ]
     },
     "execution_count": 55,
     "metadata": {},
     "output_type": "execute_result"
    }
   ],
   "source": [
    "X.corr()"
   ]
  },
  {
   "cell_type": "code",
   "execution_count": 56,
   "metadata": {},
   "outputs": [
    {
     "name": "stdout",
     "output_type": "stream",
     "text": [
      "\n",
      "Coefficients: \n",
      " [[ 0.80604121  0.17423565  0.63533308  0.47681964  0.63209164  0.17635812]]\n",
      "\n",
      "Intercept: \n",
      " [-3.62963653]\n",
      "\n",
      "R-squared:\n",
      "0.835156064983 \n",
      "\n",
      "Cross-Validation Score:\n",
      " [ 0.87497779  0.88580415  0.52621895  0.87594876  0.7738298   0.74881057\n",
      "  0.89194796  0.828977    0.79611835  0.84399204]\n",
      "Cross-Validation Mean:\n",
      " 0.804662535814\n",
      "Cross-Validation Spread:\n",
      " 0.365729003396\n"
     ]
    }
   ],
   "source": [
    "lr_model_results(X, y)"
   ]
  },
  {
   "cell_type": "markdown",
   "metadata": {},
   "source": [
    "### Visualization of Residuals:"
   ]
  },
  {
   "cell_type": "code",
   "execution_count": 57,
   "metadata": {},
   "outputs": [
    {
     "data": {
      "image/png": "[encoded data removed]",
      "text/plain": [
       "<Figure size 432x288 with 1 Axes>"
      ]
     },
     "metadata": {},
     "output_type": "display_data"
    }
   ],
   "source": [
    "reg.fit(X, y)\n",
    "predicted = reg.predict(X).ravel()\n",
    "actual = features2['PropertyCrime']\n",
    "\n",
    "residual = actual - predicted\n",
    "plt.rcParams['figure.figsize'] = 6, 4\n",
    "plt.hist(residual)\n",
    "plt.title('Residual Counts')\n",
    "plt.xlabel('Residual')\n",
    "plt.ylabel('Count')\n",
    "plt.show()"
   ]
  },
  {
   "cell_type": "code",
   "execution_count": 58,
   "metadata": {},
   "outputs": [
    {
     "data": {
      "image/png": "[encoded data removed]",
      "text/plain": [
       "<Figure size 432x288 with 1 Axes>"
      ]
     },
     "metadata": {},
     "output_type": "display_data"
    }
   ],
   "source": [
    "plt.scatter(predicted, residual)\n",
    "plt.xlabel('Predicted')\n",
    "plt.ylabel('Residual')\n",
    "plt.axhline(y=0)\n",
    "plt.title('Residual against Predicted')\n",
    "plt.show()"
   ]
  },
  {
   "cell_type": "markdown",
   "metadata": {},
   "source": [
    "### Summary:\n",
    "\n",
    "It looks like 'Murder' here is a weaker predictor than the other features, so on the next iteration, we'll try removing it. The residuals still look pretty good except for a few outliers."
   ]
  },
  {
   "cell_type": "markdown",
   "metadata": {},
   "source": [
    "## Feature Set 4: Population, Robbery, Rape, Aggravated Assault, Arson"
   ]
  },
  {
   "cell_type": "code",
   "execution_count": 59,
   "metadata": {},
   "outputs": [],
   "source": [
    "linear_formula = 'PropertyCrime ~ Population+Robbery+Rape+AggravatedAssault+Arson'\n",
    "data = features2\n",
    "\n",
    "lm = smf.ols(formula=linear_formula, data=data).fit()"
   ]
  },
  {
   "cell_type": "code",
   "execution_count": 60,
   "metadata": {},
   "outputs": [
    {
     "data": {
      "text/plain": [
       "Intercept           -3.792515\n",
       "Population           0.826503\n",
       "Robbery              0.636254\n",
       "Rape                 0.494134\n",
       "AggravatedAssault    0.625640\n",
       "Arson                0.187069\n",
       "dtype: float64"
      ]
     },
     "metadata": {},
     "output_type": "display_data"
    },
    {
     "data": {
      "text/plain": [
       "Intercept            1.323151e-26\n",
       "Population           8.155434e-60\n",
       "Robbery              3.476214e-10\n",
       "Rape                 2.404573e-07\n",
       "AggravatedAssault    1.855944e-08\n",
       "Arson                8.586184e-02\n",
       "dtype: float64"
      ]
     },
     "metadata": {},
     "output_type": "display_data"
    },
    {
     "data": {
      "text/plain": [
       "0.83421901146081701"
      ]
     },
     "metadata": {},
     "output_type": "display_data"
    },
    {
     "data": {
      "text/html": [
       "<div>\n",
       "<style scoped>\n",
       "    .dataframe tbody tr th:only-of-type {\n",
       "        vertical-align: middle;\n",
       "    }\n",
       "\n",
       "    .dataframe tbody tr th {\n",
       "        vertical-align: top;\n",
       "    }\n",
       "\n",
       "    .dataframe thead th {\n",
       "        text-align: right;\n",
       "    }\n",
       "</style>\n",
       "<table border=\"1\" class=\"dataframe\">\n",
       "  <thead>\n",
       "    <tr style=\"text-align: right;\">\n",
       "      <th></th>\n",
       "      <th>0</th>\n",
       "      <th>1</th>\n",
       "    </tr>\n",
       "  </thead>\n",
       "  <tbody>\n",
       "    <tr>\n",
       "      <th>Intercept</th>\n",
       "      <td>-4.433388</td>\n",
       "      <td>-3.151642</td>\n",
       "    </tr>\n",
       "    <tr>\n",
       "      <th>Population</th>\n",
       "      <td>0.745558</td>\n",
       "      <td>0.907448</td>\n",
       "    </tr>\n",
       "    <tr>\n",
       "      <th>Robbery</th>\n",
       "      <td>0.442707</td>\n",
       "      <td>0.829800</td>\n",
       "    </tr>\n",
       "    <tr>\n",
       "      <th>Rape</th>\n",
       "      <td>0.309755</td>\n",
       "      <td>0.678513</td>\n",
       "    </tr>\n",
       "    <tr>\n",
       "      <th>AggravatedAssault</th>\n",
       "      <td>0.412068</td>\n",
       "      <td>0.839212</td>\n",
       "    </tr>\n",
       "    <tr>\n",
       "      <th>Arson</th>\n",
       "      <td>-0.026531</td>\n",
       "      <td>0.400669</td>\n",
       "    </tr>\n",
       "  </tbody>\n",
       "</table>\n",
       "</div>"
      ],
      "text/plain": [
       "                          0         1\n",
       "Intercept         -4.433388 -3.151642\n",
       "Population         0.745558  0.907448\n",
       "Robbery            0.442707  0.829800\n",
       "Rape               0.309755  0.678513\n",
       "AggravatedAssault  0.412068  0.839212\n",
       "Arson             -0.026531  0.400669"
      ]
     },
     "metadata": {},
     "output_type": "display_data"
    }
   ],
   "source": [
    "display(lm.params, lm.pvalues, lm.rsquared, lm.conf_int())"
   ]
  },
  {
   "cell_type": "markdown",
   "metadata": {},
   "source": [
    "### Model Coefficients and Cross-Validation:"
   ]
  },
  {
   "cell_type": "code",
   "execution_count": 61,
   "metadata": {},
   "outputs": [],
   "source": [
    "X = features2[['Population', 'Robbery', 'Rape', 'AggravatedAssault', 'Arson']]\n",
    "y = features2.PropertyCrime.values.reshape(-1, 1)"
   ]
  },
  {
   "cell_type": "code",
   "execution_count": 62,
   "metadata": {},
   "outputs": [
    {
     "data": {
      "text/html": [
       "<div>\n",
       "<style scoped>\n",
       "    .dataframe tbody tr th:only-of-type {\n",
       "        vertical-align: middle;\n",
       "    }\n",
       "\n",
       "    .dataframe tbody tr th {\n",
       "        vertical-align: top;\n",
       "    }\n",
       "\n",
       "    .dataframe thead th {\n",
       "        text-align: right;\n",
       "    }\n",
       "</style>\n",
       "<table border=\"1\" class=\"dataframe\">\n",
       "  <thead>\n",
       "    <tr style=\"text-align: right;\">\n",
       "      <th></th>\n",
       "      <th>Population</th>\n",
       "      <th>Robbery</th>\n",
       "      <th>Rape</th>\n",
       "      <th>AggravatedAssault</th>\n",
       "      <th>Arson</th>\n",
       "    </tr>\n",
       "  </thead>\n",
       "  <tbody>\n",
       "    <tr>\n",
       "      <th>Population</th>\n",
       "      <td>1.000000</td>\n",
       "      <td>0.582247</td>\n",
       "      <td>0.553586</td>\n",
       "      <td>0.425383</td>\n",
       "      <td>0.285326</td>\n",
       "    </tr>\n",
       "    <tr>\n",
       "      <th>Robbery</th>\n",
       "      <td>0.582247</td>\n",
       "      <td>1.000000</td>\n",
       "      <td>0.470749</td>\n",
       "      <td>0.428592</td>\n",
       "      <td>0.203670</td>\n",
       "    </tr>\n",
       "    <tr>\n",
       "      <th>Rape</th>\n",
       "      <td>0.553586</td>\n",
       "      <td>0.470749</td>\n",
       "      <td>1.000000</td>\n",
       "      <td>0.302276</td>\n",
       "      <td>0.268387</td>\n",
       "    </tr>\n",
       "    <tr>\n",
       "      <th>AggravatedAssault</th>\n",
       "      <td>0.425383</td>\n",
       "      <td>0.428592</td>\n",
       "      <td>0.302276</td>\n",
       "      <td>1.000000</td>\n",
       "      <td>0.207334</td>\n",
       "    </tr>\n",
       "    <tr>\n",
       "      <th>Arson</th>\n",
       "      <td>0.285326</td>\n",
       "      <td>0.203670</td>\n",
       "      <td>0.268387</td>\n",
       "      <td>0.207334</td>\n",
       "      <td>1.000000</td>\n",
       "    </tr>\n",
       "  </tbody>\n",
       "</table>\n",
       "</div>"
      ],
      "text/plain": [
       "                   Population   Robbery      Rape  AggravatedAssault     Arson\n",
       "Population           1.000000  0.582247  0.553586           0.425383  0.285326\n",
       "Robbery              0.582247  1.000000  0.470749           0.428592  0.203670\n",
       "Rape                 0.553586  0.470749  1.000000           0.302276  0.268387\n",
       "AggravatedAssault    0.425383  0.428592  0.302276           1.000000  0.207334\n",
       "Arson                0.285326  0.203670  0.268387           0.207334  1.000000"
      ]
     },
     "execution_count": 62,
     "metadata": {},
     "output_type": "execute_result"
    }
   ],
   "source": [
    "X.corr()"
   ]
  },
  {
   "cell_type": "code",
   "execution_count": 63,
   "metadata": {},
   "outputs": [
    {
     "name": "stdout",
     "output_type": "stream",
     "text": [
      "\n",
      "Coefficients: \n",
      " [[ 0.82650273  0.63625367  0.49413397  0.62563993  0.18706926]]\n",
      "\n",
      "Intercept: \n",
      " [-3.79251471]\n",
      "\n",
      "R-squared:\n",
      "0.834219011461 \n",
      "\n",
      "Cross-Validation Score:\n",
      " [ 0.87273103  0.88474976  0.52220773  0.87595854  0.7750516   0.74533128\n",
      "  0.89026961  0.82817653  0.79757193  0.84590233]\n",
      "Cross-Validation Mean:\n",
      " 0.803795033925\n",
      "Cross-Validation Spread:\n",
      " 0.368061887529\n"
     ]
    }
   ],
   "source": [
    "lr_model_results(X, y)"
   ]
  },
  {
   "cell_type": "markdown",
   "metadata": {},
   "source": [
    "### Visualization of Residuals:"
   ]
  },
  {
   "cell_type": "code",
   "execution_count": 64,
   "metadata": {},
   "outputs": [
    {
     "data": {
      "image/png": "[encoded data removed]",
      "text/plain": [
       "<Figure size 432x288 with 1 Axes>"
      ]
     },
     "metadata": {},
     "output_type": "display_data"
    }
   ],
   "source": [
    "reg.fit(X, y)\n",
    "predicted = reg.predict(X).ravel()\n",
    "actual = features2['PropertyCrime']\n",
    "\n",
    "residual = actual - predicted\n",
    "plt.rcParams['figure.figsize'] = 6, 4\n",
    "plt.hist(residual)\n",
    "plt.title('Residual Counts')\n",
    "plt.xlabel('Residual')\n",
    "plt.ylabel('Count')\n",
    "plt.show()"
   ]
  },
  {
   "cell_type": "code",
   "execution_count": 65,
   "metadata": {},
   "outputs": [
    {
     "data": {
      "image/png": "[encoded data removed]",
      "text/plain": [
       "<Figure size 432x288 with 1 Axes>"
      ]
     },
     "metadata": {},
     "output_type": "display_data"
    }
   ],
   "source": [
    "plt.scatter(predicted, residual)\n",
    "plt.xlabel('Predicted')\n",
    "plt.ylabel('Residual')\n",
    "plt.axhline(y=0)\n",
    "plt.title('Residual against Predicted')\n",
    "plt.show()"
   ]
  },
  {
   "cell_type": "markdown",
   "metadata": {},
   "source": [
    "### Summary:\n",
    "\n",
    "Removing 'Murder' had minimal effect on the R-Squared value, and the residual continues to be fairly consistent. Next, we will remove 'Arson.'"
   ]
  },
  {
   "cell_type": "markdown",
   "metadata": {},
   "source": [
    "## Feature Set 5: Population, Robbery, Rape, Aggravated Assault"
   ]
  },
  {
   "cell_type": "code",
   "execution_count": 66,
   "metadata": {},
   "outputs": [],
   "source": [
    "linear_formula = 'PropertyCrime ~ Population+Robbery+Rape+AggravatedAssault'\n",
    "data = features2\n",
    "\n",
    "lm = smf.ols(formula=linear_formula, data=data).fit()"
   ]
  },
  {
   "cell_type": "code",
   "execution_count": 67,
   "metadata": {},
   "outputs": [
    {
     "data": {
      "text/plain": [
       "Intercept           -3.864764\n",
       "Population           0.835419\n",
       "Robbery              0.635896\n",
       "Rape                 0.514874\n",
       "AggravatedAssault    0.641747\n",
       "dtype: float64"
      ]
     },
     "metadata": {},
     "output_type": "display_data"
    },
    {
     "data": {
      "text/plain": [
       "Intercept            1.141311e-27\n",
       "Population           3.729724e-61\n",
       "Robbery              3.945408e-10\n",
       "Rape                 6.606911e-08\n",
       "AggravatedAssault    8.015392e-09\n",
       "dtype: float64"
      ]
     },
     "metadata": {},
     "output_type": "display_data"
    },
    {
     "data": {
      "text/plain": [
       "0.8327805905313922"
      ]
     },
     "metadata": {},
     "output_type": "display_data"
    },
    {
     "data": {
      "text/html": [
       "<div>\n",
       "<style scoped>\n",
       "    .dataframe tbody tr th:only-of-type {\n",
       "        vertical-align: middle;\n",
       "    }\n",
       "\n",
       "    .dataframe tbody tr th {\n",
       "        vertical-align: top;\n",
       "    }\n",
       "\n",
       "    .dataframe thead th {\n",
       "        text-align: right;\n",
       "    }\n",
       "</style>\n",
       "<table border=\"1\" class=\"dataframe\">\n",
       "  <thead>\n",
       "    <tr style=\"text-align: right;\">\n",
       "      <th></th>\n",
       "      <th>0</th>\n",
       "      <th>1</th>\n",
       "    </tr>\n",
       "  </thead>\n",
       "  <tbody>\n",
       "    <tr>\n",
       "      <th>Intercept</th>\n",
       "      <td>-4.502119</td>\n",
       "      <td>-3.227410</td>\n",
       "    </tr>\n",
       "    <tr>\n",
       "      <th>Population</th>\n",
       "      <td>0.754888</td>\n",
       "      <td>0.915950</td>\n",
       "    </tr>\n",
       "    <tr>\n",
       "      <th>Robbery</th>\n",
       "      <td>0.441798</td>\n",
       "      <td>0.829994</td>\n",
       "    </tr>\n",
       "    <tr>\n",
       "      <th>Rape</th>\n",
       "      <td>0.331500</td>\n",
       "      <td>0.698247</td>\n",
       "    </tr>\n",
       "    <tr>\n",
       "      <th>AggravatedAssault</th>\n",
       "      <td>0.428361</td>\n",
       "      <td>0.855133</td>\n",
       "    </tr>\n",
       "  </tbody>\n",
       "</table>\n",
       "</div>"
      ],
      "text/plain": [
       "                          0         1\n",
       "Intercept         -4.502119 -3.227410\n",
       "Population         0.754888  0.915950\n",
       "Robbery            0.441798  0.829994\n",
       "Rape               0.331500  0.698247\n",
       "AggravatedAssault  0.428361  0.855133"
      ]
     },
     "metadata": {},
     "output_type": "display_data"
    }
   ],
   "source": [
    "display(lm.params, lm.pvalues, lm.rsquared, lm.conf_int())"
   ]
  },
  {
   "cell_type": "markdown",
   "metadata": {},
   "source": [
    "### Model Coefficients and Cross-Validation:"
   ]
  },
  {
   "cell_type": "code",
   "execution_count": 68,
   "metadata": {},
   "outputs": [],
   "source": [
    "X = features2[['Population', 'Robbery', 'Rape', 'AggravatedAssault', 'Arson']]\n",
    "y = features2.PropertyCrime.values.reshape(-1, 1)"
   ]
  },
  {
   "cell_type": "code",
   "execution_count": 69,
   "metadata": {},
   "outputs": [
    {
     "data": {
      "text/html": [
       "<div>\n",
       "<style scoped>\n",
       "    .dataframe tbody tr th:only-of-type {\n",
       "        vertical-align: middle;\n",
       "    }\n",
       "\n",
       "    .dataframe tbody tr th {\n",
       "        vertical-align: top;\n",
       "    }\n",
       "\n",
       "    .dataframe thead th {\n",
       "        text-align: right;\n",
       "    }\n",
       "</style>\n",
       "<table border=\"1\" class=\"dataframe\">\n",
       "  <thead>\n",
       "    <tr style=\"text-align: right;\">\n",
       "      <th></th>\n",
       "      <th>Population</th>\n",
       "      <th>Robbery</th>\n",
       "      <th>Rape</th>\n",
       "      <th>AggravatedAssault</th>\n",
       "      <th>Arson</th>\n",
       "    </tr>\n",
       "  </thead>\n",
       "  <tbody>\n",
       "    <tr>\n",
       "      <th>Population</th>\n",
       "      <td>1.000000</td>\n",
       "      <td>0.582247</td>\n",
       "      <td>0.553586</td>\n",
       "      <td>0.425383</td>\n",
       "      <td>0.285326</td>\n",
       "    </tr>\n",
       "    <tr>\n",
       "      <th>Robbery</th>\n",
       "      <td>0.582247</td>\n",
       "      <td>1.000000</td>\n",
       "      <td>0.470749</td>\n",
       "      <td>0.428592</td>\n",
       "      <td>0.203670</td>\n",
       "    </tr>\n",
       "    <tr>\n",
       "      <th>Rape</th>\n",
       "      <td>0.553586</td>\n",
       "      <td>0.470749</td>\n",
       "      <td>1.000000</td>\n",
       "      <td>0.302276</td>\n",
       "      <td>0.268387</td>\n",
       "    </tr>\n",
       "    <tr>\n",
       "      <th>AggravatedAssault</th>\n",
       "      <td>0.425383</td>\n",
       "      <td>0.428592</td>\n",
       "      <td>0.302276</td>\n",
       "      <td>1.000000</td>\n",
       "      <td>0.207334</td>\n",
       "    </tr>\n",
       "    <tr>\n",
       "      <th>Arson</th>\n",
       "      <td>0.285326</td>\n",
       "      <td>0.203670</td>\n",
       "      <td>0.268387</td>\n",
       "      <td>0.207334</td>\n",
       "      <td>1.000000</td>\n",
       "    </tr>\n",
       "  </tbody>\n",
       "</table>\n",
       "</div>"
      ],
      "text/plain": [
       "                   Population   Robbery      Rape  AggravatedAssault     Arson\n",
       "Population           1.000000  0.582247  0.553586           0.425383  0.285326\n",
       "Robbery              0.582247  1.000000  0.470749           0.428592  0.203670\n",
       "Rape                 0.553586  0.470749  1.000000           0.302276  0.268387\n",
       "AggravatedAssault    0.425383  0.428592  0.302276           1.000000  0.207334\n",
       "Arson                0.285326  0.203670  0.268387           0.207334  1.000000"
      ]
     },
     "execution_count": 69,
     "metadata": {},
     "output_type": "execute_result"
    }
   ],
   "source": [
    "X.corr()"
   ]
  },
  {
   "cell_type": "code",
   "execution_count": 70,
   "metadata": {},
   "outputs": [
    {
     "name": "stdout",
     "output_type": "stream",
     "text": [
      "\n",
      "Coefficients: \n",
      " [[ 0.82650273  0.63625367  0.49413397  0.62563993  0.18706926]]\n",
      "\n",
      "Intercept: \n",
      " [-3.79251471]\n",
      "\n",
      "R-squared:\n",
      "0.834219011461 \n",
      "\n",
      "Cross-Validation Score:\n",
      " [ 0.87273103  0.88474976  0.52220773  0.87595854  0.7750516   0.74533128\n",
      "  0.89026961  0.82817653  0.79757193  0.84590233]\n",
      "Cross-Validation Mean:\n",
      " 0.803795033925\n",
      "Cross-Validation Spread:\n",
      " 0.368061887529\n"
     ]
    }
   ],
   "source": [
    "lr_model_results(X, y)"
   ]
  },
  {
   "cell_type": "markdown",
   "metadata": {},
   "source": [
    "### Visualization of Residuals:"
   ]
  },
  {
   "cell_type": "code",
   "execution_count": 71,
   "metadata": {},
   "outputs": [
    {
     "data": {
      "image/png": "[encoded data removed]",
      "text/plain": [
       "<Figure size 432x288 with 1 Axes>"
      ]
     },
     "metadata": {},
     "output_type": "display_data"
    }
   ],
   "source": [
    "reg.fit(X, y)\n",
    "predicted = reg.predict(X).ravel()\n",
    "actual = features2['PropertyCrime']\n",
    "\n",
    "residual = actual - predicted\n",
    "plt.rcParams['figure.figsize'] = 6, 4\n",
    "plt.hist(residual)\n",
    "plt.title('Residual Counts')\n",
    "plt.xlabel('Residual')\n",
    "plt.ylabel('Count')\n",
    "plt.show()"
   ]
  },
  {
   "cell_type": "code",
   "execution_count": 72,
   "metadata": {},
   "outputs": [
    {
     "data": {
      "image/png": "[encoded data removed]",
      "text/plain": [
       "<Figure size 432x288 with 1 Axes>"
      ]
     },
     "metadata": {},
     "output_type": "display_data"
    }
   ],
   "source": [
    "plt.scatter(predicted, residual)\n",
    "plt.xlabel('Predicted')\n",
    "plt.ylabel('Residual')\n",
    "plt.axhline(y=0)\n",
    "plt.title('Residual against Predicted')\n",
    "plt.show()"
   ]
  },
  {
   "cell_type": "markdown",
   "metadata": {},
   "source": [
    "### Summary:\n",
    "\n",
    "Removing 'Arson' also had minimal effect on the R-Squared value. Let's try removing the outliers of cities with larger populations."
   ]
  },
  {
   "cell_type": "markdown",
   "metadata": {},
   "source": [
    "## Removed Largest Cities (>20000 Population)"
   ]
  },
  {
   "cell_type": "code",
   "execution_count": 73,
   "metadata": {},
   "outputs": [],
   "source": [
    "features3 = pd.DataFrame(features2[features2['Population'] < np.log(20000)])"
   ]
  },
  {
   "cell_type": "code",
   "execution_count": 74,
   "metadata": {},
   "outputs": [
    {
     "data": {
      "text/html": [
       "<div>\n",
       "<style scoped>\n",
       "    .dataframe tbody tr th:only-of-type {\n",
       "        vertical-align: middle;\n",
       "    }\n",
       "\n",
       "    .dataframe tbody tr th {\n",
       "        vertical-align: top;\n",
       "    }\n",
       "\n",
       "    .dataframe thead th {\n",
       "        text-align: right;\n",
       "    }\n",
       "</style>\n",
       "<table border=\"1\" class=\"dataframe\">\n",
       "  <thead>\n",
       "    <tr style=\"text-align: right;\">\n",
       "      <th></th>\n",
       "      <th>Population</th>\n",
       "      <th>ViolentCrime</th>\n",
       "      <th>Murder</th>\n",
       "      <th>Rape</th>\n",
       "      <th>Robbery</th>\n",
       "      <th>AggravatedAssault</th>\n",
       "      <th>PropertyCrime</th>\n",
       "      <th>Burglary</th>\n",
       "      <th>Larceny</th>\n",
       "      <th>CarTheft</th>\n",
       "      <th>Arson</th>\n",
       "    </tr>\n",
       "  </thead>\n",
       "  <tbody>\n",
       "    <tr>\n",
       "      <th>0</th>\n",
       "      <td>7.529406</td>\n",
       "      <td>0</td>\n",
       "      <td>0</td>\n",
       "      <td>0</td>\n",
       "      <td>0</td>\n",
       "      <td>0</td>\n",
       "      <td>2.564949</td>\n",
       "      <td>1</td>\n",
       "      <td>1</td>\n",
       "      <td>0</td>\n",
       "      <td>0</td>\n",
       "    </tr>\n",
       "    <tr>\n",
       "      <th>1</th>\n",
       "      <td>7.854769</td>\n",
       "      <td>1</td>\n",
       "      <td>0</td>\n",
       "      <td>0</td>\n",
       "      <td>0</td>\n",
       "      <td>1</td>\n",
       "      <td>3.218876</td>\n",
       "      <td>1</td>\n",
       "      <td>1</td>\n",
       "      <td>1</td>\n",
       "      <td>0</td>\n",
       "    </tr>\n",
       "    <tr>\n",
       "      <th>2</th>\n",
       "      <td>7.954021</td>\n",
       "      <td>1</td>\n",
       "      <td>0</td>\n",
       "      <td>0</td>\n",
       "      <td>0</td>\n",
       "      <td>1</td>\n",
       "      <td>2.833213</td>\n",
       "      <td>1</td>\n",
       "      <td>1</td>\n",
       "      <td>0</td>\n",
       "      <td>0</td>\n",
       "    </tr>\n",
       "    <tr>\n",
       "      <th>4</th>\n",
       "      <td>8.762333</td>\n",
       "      <td>1</td>\n",
       "      <td>0</td>\n",
       "      <td>1</td>\n",
       "      <td>1</td>\n",
       "      <td>1</td>\n",
       "      <td>5.411646</td>\n",
       "      <td>1</td>\n",
       "      <td>1</td>\n",
       "      <td>1</td>\n",
       "      <td>0</td>\n",
       "    </tr>\n",
       "    <tr>\n",
       "      <th>5</th>\n",
       "      <td>8.316300</td>\n",
       "      <td>1</td>\n",
       "      <td>0</td>\n",
       "      <td>0</td>\n",
       "      <td>1</td>\n",
       "      <td>1</td>\n",
       "      <td>3.850148</td>\n",
       "      <td>1</td>\n",
       "      <td>1</td>\n",
       "      <td>0</td>\n",
       "      <td>0</td>\n",
       "    </tr>\n",
       "  </tbody>\n",
       "</table>\n",
       "</div>"
      ],
      "text/plain": [
       "   Population  ViolentCrime  Murder  Rape  Robbery  AggravatedAssault  \\\n",
       "0    7.529406             0       0     0        0                  0   \n",
       "1    7.854769             1       0     0        0                  1   \n",
       "2    7.954021             1       0     0        0                  1   \n",
       "4    8.762333             1       0     1        1                  1   \n",
       "5    8.316300             1       0     0        1                  1   \n",
       "\n",
       "   PropertyCrime  Burglary  Larceny  CarTheft  Arson  \n",
       "0       2.564949         1        1         0      0  \n",
       "1       3.218876         1        1         1      0  \n",
       "2       2.833213         1        1         0      0  \n",
       "4       5.411646         1        1         1      0  \n",
       "5       3.850148         1        1         0      0  "
      ]
     },
     "execution_count": 74,
     "metadata": {},
     "output_type": "execute_result"
    }
   ],
   "source": [
    "features3.head()"
   ]
  },
  {
   "cell_type": "markdown",
   "metadata": {},
   "source": [
    "## FINAL Feature Set 6: Population, Robbery, Rape, AggravatedAssault"
   ]
  },
  {
   "cell_type": "code",
   "execution_count": 75,
   "metadata": {},
   "outputs": [],
   "source": [
    "linear_formula = 'PropertyCrime ~ Population+Robbery+Rape+AggravatedAssault'\n",
    "data = features3\n",
    "\n",
    "lm = smf.ols(formula=linear_formula, data=data).fit()"
   ]
  },
  {
   "cell_type": "code",
   "execution_count": 76,
   "metadata": {},
   "outputs": [
    {
     "data": {
      "text/plain": [
       "Intercept           -3.151342\n",
       "Population           0.743705\n",
       "Robbery              0.688817\n",
       "Rape                 0.504506\n",
       "AggravatedAssault    0.690503\n",
       "dtype: float64"
      ]
     },
     "metadata": {},
     "output_type": "display_data"
    },
    {
     "data": {
      "text/plain": [
       "Intercept            4.356087e-09\n",
       "Population           3.176174e-24\n",
       "Robbery              8.842188e-10\n",
       "Rape                 7.712920e-06\n",
       "AggravatedAssault    6.516486e-09\n",
       "dtype: float64"
      ]
     },
     "metadata": {},
     "output_type": "display_data"
    },
    {
     "data": {
      "text/plain": [
       "0.71803497848506381"
      ]
     },
     "metadata": {},
     "output_type": "display_data"
    },
    {
     "data": {
      "text/html": [
       "<div>\n",
       "<style scoped>\n",
       "    .dataframe tbody tr th:only-of-type {\n",
       "        vertical-align: middle;\n",
       "    }\n",
       "\n",
       "    .dataframe tbody tr th {\n",
       "        vertical-align: top;\n",
       "    }\n",
       "\n",
       "    .dataframe thead th {\n",
       "        text-align: right;\n",
       "    }\n",
       "</style>\n",
       "<table border=\"1\" class=\"dataframe\">\n",
       "  <thead>\n",
       "    <tr style=\"text-align: right;\">\n",
       "      <th></th>\n",
       "      <th>0</th>\n",
       "      <th>1</th>\n",
       "    </tr>\n",
       "  </thead>\n",
       "  <tbody>\n",
       "    <tr>\n",
       "      <th>Intercept</th>\n",
       "      <td>-4.173073</td>\n",
       "      <td>-2.129611</td>\n",
       "    </tr>\n",
       "    <tr>\n",
       "      <th>Population</th>\n",
       "      <td>0.613467</td>\n",
       "      <td>0.873944</td>\n",
       "    </tr>\n",
       "    <tr>\n",
       "      <th>Robbery</th>\n",
       "      <td>0.475567</td>\n",
       "      <td>0.902066</td>\n",
       "    </tr>\n",
       "    <tr>\n",
       "      <th>Rape</th>\n",
       "      <td>0.286832</td>\n",
       "      <td>0.722180</td>\n",
       "    </tr>\n",
       "    <tr>\n",
       "      <th>AggravatedAssault</th>\n",
       "      <td>0.463865</td>\n",
       "      <td>0.917140</td>\n",
       "    </tr>\n",
       "  </tbody>\n",
       "</table>\n",
       "</div>"
      ],
      "text/plain": [
       "                          0         1\n",
       "Intercept         -4.173073 -2.129611\n",
       "Population         0.613467  0.873944\n",
       "Robbery            0.475567  0.902066\n",
       "Rape               0.286832  0.722180\n",
       "AggravatedAssault  0.463865  0.917140"
      ]
     },
     "metadata": {},
     "output_type": "display_data"
    }
   ],
   "source": [
    "display(lm.params, lm.pvalues, lm.rsquared, lm.conf_int())"
   ]
  },
  {
   "cell_type": "markdown",
   "metadata": {},
   "source": [
    "From this model, it looks like Rape has the lowest P-value, so we will try removing it in the next model."
   ]
  },
  {
   "cell_type": "markdown",
   "metadata": {},
   "source": [
    "### Model Coefficients and Cross-Validation:"
   ]
  },
  {
   "cell_type": "code",
   "execution_count": 77,
   "metadata": {},
   "outputs": [],
   "source": [
    "X = features3[['Population', 'Robbery', 'Rape', 'AggravatedAssault']]\n",
    "y = features3.PropertyCrime.values.reshape(-1, 1)"
   ]
  },
  {
   "cell_type": "code",
   "execution_count": 78,
   "metadata": {},
   "outputs": [
    {
     "data": {
      "text/html": [
       "<div>\n",
       "<style scoped>\n",
       "    .dataframe tbody tr th:only-of-type {\n",
       "        vertical-align: middle;\n",
       "    }\n",
       "\n",
       "    .dataframe tbody tr th {\n",
       "        vertical-align: top;\n",
       "    }\n",
       "\n",
       "    .dataframe thead th {\n",
       "        text-align: right;\n",
       "    }\n",
       "</style>\n",
       "<table border=\"1\" class=\"dataframe\">\n",
       "  <thead>\n",
       "    <tr style=\"text-align: right;\">\n",
       "      <th></th>\n",
       "      <th>Population</th>\n",
       "      <th>Robbery</th>\n",
       "      <th>Rape</th>\n",
       "      <th>AggravatedAssault</th>\n",
       "    </tr>\n",
       "  </thead>\n",
       "  <tbody>\n",
       "    <tr>\n",
       "      <th>Population</th>\n",
       "      <td>1.000000</td>\n",
       "      <td>0.510560</td>\n",
       "      <td>0.433997</td>\n",
       "      <td>0.403521</td>\n",
       "    </tr>\n",
       "    <tr>\n",
       "      <th>Robbery</th>\n",
       "      <td>0.510560</td>\n",
       "      <td>1.000000</td>\n",
       "      <td>0.409348</td>\n",
       "      <td>0.369596</td>\n",
       "    </tr>\n",
       "    <tr>\n",
       "      <th>Rape</th>\n",
       "      <td>0.433997</td>\n",
       "      <td>0.409348</td>\n",
       "      <td>1.000000</td>\n",
       "      <td>0.242444</td>\n",
       "    </tr>\n",
       "    <tr>\n",
       "      <th>AggravatedAssault</th>\n",
       "      <td>0.403521</td>\n",
       "      <td>0.369596</td>\n",
       "      <td>0.242444</td>\n",
       "      <td>1.000000</td>\n",
       "    </tr>\n",
       "  </tbody>\n",
       "</table>\n",
       "</div>"
      ],
      "text/plain": [
       "                   Population   Robbery      Rape  AggravatedAssault\n",
       "Population           1.000000  0.510560  0.433997           0.403521\n",
       "Robbery              0.510560  1.000000  0.409348           0.369596\n",
       "Rape                 0.433997  0.409348  1.000000           0.242444\n",
       "AggravatedAssault    0.403521  0.369596  0.242444           1.000000"
      ]
     },
     "execution_count": 78,
     "metadata": {},
     "output_type": "execute_result"
    }
   ],
   "source": [
    "X.corr()"
   ]
  },
  {
   "cell_type": "code",
   "execution_count": 79,
   "metadata": {},
   "outputs": [
    {
     "name": "stdout",
     "output_type": "stream",
     "text": [
      "\n",
      "Coefficients: \n",
      " [[ 0.74370542  0.68881686  0.50450621  0.69050261]]\n",
      "\n",
      "Intercept: \n",
      " [-3.15134235]\n",
      "\n",
      "R-squared:\n",
      "0.718034978485 \n",
      "\n",
      "Cross-Validation Score:\n",
      " [ 0.72346708  0.73553465  0.5866953   0.78269915  0.6360088   0.6163781\n",
      "  0.77812796  0.6128135   0.67327431  0.65072874]\n",
      "Cross-Validation Mean:\n",
      " 0.679572759236\n",
      "Cross-Validation Spread:\n",
      " 0.196003852039\n"
     ]
    }
   ],
   "source": [
    "lr_model_results(X, y)"
   ]
  },
  {
   "cell_type": "markdown",
   "metadata": {},
   "source": [
    "### Visualization of Residuals:"
   ]
  },
  {
   "cell_type": "code",
   "execution_count": 80,
   "metadata": {},
   "outputs": [
    {
     "data": {
      "image/png": "[encoded data removed]",
      "text/plain": [
       "<Figure size 432x288 with 1 Axes>"
      ]
     },
     "metadata": {},
     "output_type": "display_data"
    }
   ],
   "source": [
    "reg.fit(X, y)\n",
    "predicted = reg.predict(X).ravel()\n",
    "actual = features3['PropertyCrime']\n",
    "\n",
    "residual = actual - predicted\n",
    "plt.rcParams['figure.figsize'] = 6, 4\n",
    "plt.hist(residual)\n",
    "plt.title('Residual Counts')\n",
    "plt.xlabel('Residual')\n",
    "plt.ylabel('Count')\n",
    "plt.show()"
   ]
  },
  {
   "cell_type": "code",
   "execution_count": 81,
   "metadata": {},
   "outputs": [
    {
     "data": {
      "image/png": "[encoded data removed]",
      "text/plain": [
       "<Figure size 432x288 with 1 Axes>"
      ]
     },
     "metadata": {},
     "output_type": "display_data"
    }
   ],
   "source": [
    "plt.scatter(predicted, residual)\n",
    "plt.xlabel('Predicted')\n",
    "plt.ylabel('Residual')\n",
    "plt.axhline(y=0)\n",
    "plt.title('Residual against Predicted')\n",
    "plt.show()"
   ]
  },
  {
   "cell_type": "markdown",
   "metadata": {},
   "source": [
    "### Summary:\n",
    "\n"
   ]
  },
  {
   "cell_type": "markdown",
   "metadata": {},
   "source": [
    "The R-squared value is lower, but the cross-validation scores are much closer together. Additionally, this model shows the spread of residuals better. Let's try reducing the features once again:"
   ]
  },
  {
   "cell_type": "markdown",
   "metadata": {},
   "source": [
    "## Feature Set 7: Population, Robbery, AggravatedAssault"
   ]
  },
  {
   "cell_type": "code",
   "execution_count": 82,
   "metadata": {},
   "outputs": [],
   "source": [
    "linear_formula = 'PropertyCrime ~ Population+Robbery+AggravatedAssault'\n",
    "data = features3\n",
    "\n",
    "lm = smf.ols(formula=linear_formula, data=data).fit()"
   ]
  },
  {
   "cell_type": "code",
   "execution_count": 83,
   "metadata": {},
   "outputs": [
    {
     "data": {
      "text/plain": [
       "Intercept           -3.756107\n",
       "Population           0.825001\n",
       "Robbery              0.803098\n",
       "AggravatedAssault    0.707810\n",
       "dtype: float64"
      ]
     },
     "metadata": {},
     "output_type": "display_data"
    },
    {
     "data": {
      "text/plain": [
       "Intercept            5.453603e-12\n",
       "Population           1.809098e-28\n",
       "Robbery              2.438024e-12\n",
       "AggravatedAssault    9.183281e-09\n",
       "dtype: float64"
      ]
     },
     "metadata": {},
     "output_type": "display_data"
    },
    {
     "data": {
      "text/plain": [
       "0.69579169144084596"
      ]
     },
     "metadata": {},
     "output_type": "display_data"
    },
    {
     "data": {
      "text/html": [
       "<div>\n",
       "<style scoped>\n",
       "    .dataframe tbody tr th:only-of-type {\n",
       "        vertical-align: middle;\n",
       "    }\n",
       "\n",
       "    .dataframe tbody tr th {\n",
       "        vertical-align: top;\n",
       "    }\n",
       "\n",
       "    .dataframe thead th {\n",
       "        text-align: right;\n",
       "    }\n",
       "</style>\n",
       "<table border=\"1\" class=\"dataframe\">\n",
       "  <thead>\n",
       "    <tr style=\"text-align: right;\">\n",
       "      <th></th>\n",
       "      <th>0</th>\n",
       "      <th>1</th>\n",
       "    </tr>\n",
       "  </thead>\n",
       "  <tbody>\n",
       "    <tr>\n",
       "      <th>Intercept</th>\n",
       "      <td>-4.780227</td>\n",
       "      <td>-2.731987</td>\n",
       "    </tr>\n",
       "    <tr>\n",
       "      <th>Population</th>\n",
       "      <td>0.694970</td>\n",
       "      <td>0.955032</td>\n",
       "    </tr>\n",
       "    <tr>\n",
       "      <th>Robbery</th>\n",
       "      <td>0.588010</td>\n",
       "      <td>1.018186</td>\n",
       "    </tr>\n",
       "    <tr>\n",
       "      <th>AggravatedAssault</th>\n",
       "      <td>0.472979</td>\n",
       "      <td>0.942641</td>\n",
       "    </tr>\n",
       "  </tbody>\n",
       "</table>\n",
       "</div>"
      ],
      "text/plain": [
       "                          0         1\n",
       "Intercept         -4.780227 -2.731987\n",
       "Population         0.694970  0.955032\n",
       "Robbery            0.588010  1.018186\n",
       "AggravatedAssault  0.472979  0.942641"
      ]
     },
     "metadata": {},
     "output_type": "display_data"
    }
   ],
   "source": [
    "display(lm.params, lm.pvalues, lm.rsquared, lm.conf_int())"
   ]
  },
  {
   "cell_type": "markdown",
   "metadata": {},
   "source": [
    "### Model Coefficients and Cross-Validation:"
   ]
  },
  {
   "cell_type": "code",
   "execution_count": 84,
   "metadata": {},
   "outputs": [],
   "source": [
    "X = features3[['Population', 'Robbery', 'AggravatedAssault']]\n",
    "y = features3.PropertyCrime.values.reshape(-1, 1)"
   ]
  },
  {
   "cell_type": "code",
   "execution_count": 85,
   "metadata": {},
   "outputs": [
    {
     "data": {
      "text/html": [
       "<div>\n",
       "<style scoped>\n",
       "    .dataframe tbody tr th:only-of-type {\n",
       "        vertical-align: middle;\n",
       "    }\n",
       "\n",
       "    .dataframe tbody tr th {\n",
       "        vertical-align: top;\n",
       "    }\n",
       "\n",
       "    .dataframe thead th {\n",
       "        text-align: right;\n",
       "    }\n",
       "</style>\n",
       "<table border=\"1\" class=\"dataframe\">\n",
       "  <thead>\n",
       "    <tr style=\"text-align: right;\">\n",
       "      <th></th>\n",
       "      <th>Population</th>\n",
       "      <th>Robbery</th>\n",
       "      <th>AggravatedAssault</th>\n",
       "    </tr>\n",
       "  </thead>\n",
       "  <tbody>\n",
       "    <tr>\n",
       "      <th>Population</th>\n",
       "      <td>1.000000</td>\n",
       "      <td>0.510560</td>\n",
       "      <td>0.403521</td>\n",
       "    </tr>\n",
       "    <tr>\n",
       "      <th>Robbery</th>\n",
       "      <td>0.510560</td>\n",
       "      <td>1.000000</td>\n",
       "      <td>0.369596</td>\n",
       "    </tr>\n",
       "    <tr>\n",
       "      <th>AggravatedAssault</th>\n",
       "      <td>0.403521</td>\n",
       "      <td>0.369596</td>\n",
       "      <td>1.000000</td>\n",
       "    </tr>\n",
       "  </tbody>\n",
       "</table>\n",
       "</div>"
      ],
      "text/plain": [
       "                   Population   Robbery  AggravatedAssault\n",
       "Population           1.000000  0.510560           0.403521\n",
       "Robbery              0.510560  1.000000           0.369596\n",
       "AggravatedAssault    0.403521  0.369596           1.000000"
      ]
     },
     "execution_count": 85,
     "metadata": {},
     "output_type": "execute_result"
    }
   ],
   "source": [
    "X.corr()"
   ]
  },
  {
   "cell_type": "code",
   "execution_count": 86,
   "metadata": {},
   "outputs": [
    {
     "name": "stdout",
     "output_type": "stream",
     "text": [
      "\n",
      "Coefficients: \n",
      " [[ 0.8250011   0.80309774  0.7078098 ]]\n",
      "\n",
      "Intercept: \n",
      " [-3.75610667]\n",
      "\n",
      "R-squared:\n",
      "0.695791691441 \n",
      "\n",
      "Cross-Validation Score:\n",
      " [ 0.6765541   0.71579923  0.54202425  0.81103221  0.62275654  0.5726423\n",
      "  0.75111132  0.61409908  0.64380934  0.5925183 ]\n",
      "Cross-Validation Mean:\n",
      " 0.65423466544\n",
      "Cross-Validation Spread:\n",
      " 0.269007955368\n"
     ]
    }
   ],
   "source": [
    "lr_model_results(X, y)"
   ]
  },
  {
   "cell_type": "markdown",
   "metadata": {},
   "source": [
    "### Visualization of Residuals:"
   ]
  },
  {
   "cell_type": "code",
   "execution_count": 87,
   "metadata": {},
   "outputs": [
    {
     "data": {
      "image/png": "[encoded data removed]",
      "text/plain": [
       "<Figure size 432x288 with 1 Axes>"
      ]
     },
     "metadata": {},
     "output_type": "display_data"
    }
   ],
   "source": [
    "reg.fit(X, y)\n",
    "predicted = reg.predict(X).ravel()\n",
    "actual = features3['PropertyCrime']\n",
    "\n",
    "residual = actual - predicted\n",
    "plt.rcParams['figure.figsize'] = 6, 4\n",
    "plt.hist(residual)\n",
    "plt.title('Residual Counts')\n",
    "plt.xlabel('Residual')\n",
    "plt.ylabel('Count')\n",
    "plt.show()"
   ]
  },
  {
   "cell_type": "code",
   "execution_count": 88,
   "metadata": {},
   "outputs": [
    {
     "data": {
      "image/png": "[encoded data removed]",
      "text/plain": [
       "<Figure size 432x288 with 1 Axes>"
      ]
     },
     "metadata": {},
     "output_type": "display_data"
    }
   ],
   "source": [
    "plt.scatter(predicted, residual)\n",
    "plt.xlabel('Predicted')\n",
    "plt.ylabel('Residual')\n",
    "plt.axhline(y=0)\n",
    "plt.title('Residual against Predicted')\n",
    "plt.show()"
   ]
  },
  {
   "cell_type": "markdown",
   "metadata": {},
   "source": [
    "### Summary:"
   ]
  },
  {
   "cell_type": "markdown",
   "metadata": {},
   "source": [
    "The R-squared value dropped, and the cross-validation test was worse. The Population+Robbery+Rape+AggravatedAssault combination seems to have done the best so far."
   ]
  },
  {
   "cell_type": "code",
   "execution_count": 90,
   "metadata": {},
   "outputs": [
    {
     "data": {
      "text/html": [
       "<div>\n",
       "<style scoped>\n",
       "    .dataframe tbody tr th:only-of-type {\n",
       "        vertical-align: middle;\n",
       "    }\n",
       "\n",
       "    .dataframe tbody tr th {\n",
       "        vertical-align: top;\n",
       "    }\n",
       "\n",
       "    .dataframe thead th {\n",
       "        text-align: right;\n",
       "    }\n",
       "</style>\n",
       "<table border=\"1\" class=\"dataframe\">\n",
       "  <thead>\n",
       "    <tr style=\"text-align: right;\">\n",
       "      <th></th>\n",
       "      <th>Population</th>\n",
       "      <th>Robbery</th>\n",
       "      <th>Rape</th>\n",
       "      <th>AggravatedAssault</th>\n",
       "    </tr>\n",
       "  </thead>\n",
       "  <tbody>\n",
       "    <tr>\n",
       "      <th>Population</th>\n",
       "      <td>1.000000</td>\n",
       "      <td>0.510560</td>\n",
       "      <td>0.433997</td>\n",
       "      <td>0.403521</td>\n",
       "    </tr>\n",
       "    <tr>\n",
       "      <th>Robbery</th>\n",
       "      <td>0.510560</td>\n",
       "      <td>1.000000</td>\n",
       "      <td>0.409348</td>\n",
       "      <td>0.369596</td>\n",
       "    </tr>\n",
       "    <tr>\n",
       "      <th>Rape</th>\n",
       "      <td>0.433997</td>\n",
       "      <td>0.409348</td>\n",
       "      <td>1.000000</td>\n",
       "      <td>0.242444</td>\n",
       "    </tr>\n",
       "    <tr>\n",
       "      <th>AggravatedAssault</th>\n",
       "      <td>0.403521</td>\n",
       "      <td>0.369596</td>\n",
       "      <td>0.242444</td>\n",
       "      <td>1.000000</td>\n",
       "    </tr>\n",
       "  </tbody>\n",
       "</table>\n",
       "</div>"
      ],
      "text/plain": [
       "                   Population   Robbery      Rape  AggravatedAssault\n",
       "Population           1.000000  0.510560  0.433997           0.403521\n",
       "Robbery              0.510560  1.000000  0.409348           0.369596\n",
       "Rape                 0.433997  0.409348  1.000000           0.242444\n",
       "AggravatedAssault    0.403521  0.369596  0.242444           1.000000"
      ]
     },
     "execution_count": 90,
     "metadata": {},
     "output_type": "execute_result"
    }
   ],
   "source": [
    "X = features3[['Population', 'Robbery', 'Rape', 'AggravatedAssault']]\n",
    "y = features3.PropertyCrime.values.reshape(-1, 1)\n",
    "\n",
    "X.corr()"
   ]
  },
  {
   "cell_type": "markdown",
   "metadata": {},
   "source": [
    "# Import Second Dataset:"
   ]
  },
  {
   "cell_type": "code",
   "execution_count": 141,
   "metadata": {},
   "outputs": [],
   "source": [
    "raw2 = pd.read_excel('Table_8_Offenses_Known_to_Law_Enforcement_by_New_York_by_City_2014.xls', header=4, skipfooter=7)"
   ]
  },
  {
   "cell_type": "code",
   "execution_count": 142,
   "metadata": {},
   "outputs": [
    {
     "data": {
      "text/html": [
       "<div>\n",
       "<style scoped>\n",
       "    .dataframe tbody tr th:only-of-type {\n",
       "        vertical-align: middle;\n",
       "    }\n",
       "\n",
       "    .dataframe tbody tr th {\n",
       "        vertical-align: top;\n",
       "    }\n",
       "\n",
       "    .dataframe thead th {\n",
       "        text-align: right;\n",
       "    }\n",
       "</style>\n",
       "<table border=\"1\" class=\"dataframe\">\n",
       "  <thead>\n",
       "    <tr style=\"text-align: right;\">\n",
       "      <th></th>\n",
       "      <th>City</th>\n",
       "      <th>Population</th>\n",
       "      <th>Violent\n",
       "crime</th>\n",
       "      <th>Murder and\n",
       "nonnegligent\n",
       "manslaughter</th>\n",
       "      <th>Rape\n",
       "(revised\n",
       "definition)1</th>\n",
       "      <th>Rape\n",
       "(legacy\n",
       "definition)2</th>\n",
       "      <th>Robbery</th>\n",
       "      <th>Aggravated\n",
       "assault</th>\n",
       "      <th>Property\n",
       "crime</th>\n",
       "      <th>Burglary</th>\n",
       "      <th>Larceny-\n",
       "theft</th>\n",
       "      <th>Motor\n",
       "vehicle\n",
       "theft</th>\n",
       "      <th>Arson3</th>\n",
       "    </tr>\n",
       "  </thead>\n",
       "  <tbody>\n",
       "    <tr>\n",
       "      <th>0</th>\n",
       "      <td>Adams Village</td>\n",
       "      <td>1851</td>\n",
       "      <td>0</td>\n",
       "      <td>0</td>\n",
       "      <td>NaN</td>\n",
       "      <td>0.0</td>\n",
       "      <td>0</td>\n",
       "      <td>0</td>\n",
       "      <td>11.0</td>\n",
       "      <td>1</td>\n",
       "      <td>10.0</td>\n",
       "      <td>0</td>\n",
       "      <td>0.0</td>\n",
       "    </tr>\n",
       "    <tr>\n",
       "      <th>1</th>\n",
       "      <td>Addison Town and Village</td>\n",
       "      <td>2568</td>\n",
       "      <td>2</td>\n",
       "      <td>0</td>\n",
       "      <td>NaN</td>\n",
       "      <td>0.0</td>\n",
       "      <td>1</td>\n",
       "      <td>1</td>\n",
       "      <td>49.0</td>\n",
       "      <td>1</td>\n",
       "      <td>47.0</td>\n",
       "      <td>1</td>\n",
       "      <td>0.0</td>\n",
       "    </tr>\n",
       "    <tr>\n",
       "      <th>2</th>\n",
       "      <td>Afton Village4</td>\n",
       "      <td>820</td>\n",
       "      <td>0</td>\n",
       "      <td>0</td>\n",
       "      <td>0.0</td>\n",
       "      <td>NaN</td>\n",
       "      <td>0</td>\n",
       "      <td>0</td>\n",
       "      <td>1.0</td>\n",
       "      <td>0</td>\n",
       "      <td>1.0</td>\n",
       "      <td>0</td>\n",
       "      <td>0.0</td>\n",
       "    </tr>\n",
       "    <tr>\n",
       "      <th>3</th>\n",
       "      <td>Akron Village</td>\n",
       "      <td>2842</td>\n",
       "      <td>1</td>\n",
       "      <td>0</td>\n",
       "      <td>NaN</td>\n",
       "      <td>0.0</td>\n",
       "      <td>0</td>\n",
       "      <td>1</td>\n",
       "      <td>17.0</td>\n",
       "      <td>0</td>\n",
       "      <td>17.0</td>\n",
       "      <td>0</td>\n",
       "      <td>0.0</td>\n",
       "    </tr>\n",
       "    <tr>\n",
       "      <th>4</th>\n",
       "      <td>Albany4</td>\n",
       "      <td>98595</td>\n",
       "      <td>802</td>\n",
       "      <td>8</td>\n",
       "      <td>54.0</td>\n",
       "      <td>NaN</td>\n",
       "      <td>237</td>\n",
       "      <td>503</td>\n",
       "      <td>3888.0</td>\n",
       "      <td>683</td>\n",
       "      <td>3083.0</td>\n",
       "      <td>122</td>\n",
       "      <td>12.0</td>\n",
       "    </tr>\n",
       "  </tbody>\n",
       "</table>\n",
       "</div>"
      ],
      "text/plain": [
       "                       City  Population  Violent\\ncrime  \\\n",
       "0             Adams Village        1851               0   \n",
       "1  Addison Town and Village        2568               2   \n",
       "2            Afton Village4         820               0   \n",
       "3             Akron Village        2842               1   \n",
       "4                   Albany4       98595             802   \n",
       "\n",
       "   Murder and\\nnonnegligent\\nmanslaughter  Rape\\n(revised\\ndefinition)1  \\\n",
       "0                                       0                           NaN   \n",
       "1                                       0                           NaN   \n",
       "2                                       0                           0.0   \n",
       "3                                       0                           NaN   \n",
       "4                                       8                          54.0   \n",
       "\n",
       "   Rape\\n(legacy\\ndefinition)2  Robbery  Aggravated\\nassault  Property\\ncrime  \\\n",
       "0                          0.0        0                    0             11.0   \n",
       "1                          0.0        1                    1             49.0   \n",
       "2                          NaN        0                    0              1.0   \n",
       "3                          0.0        0                    1             17.0   \n",
       "4                          NaN      237                  503           3888.0   \n",
       "\n",
       "   Burglary  Larceny-\\ntheft  Motor\\nvehicle\\ntheft  Arson3  \n",
       "0         1             10.0                      0     0.0  \n",
       "1         1             47.0                      1     0.0  \n",
       "2         0              1.0                      0     0.0  \n",
       "3         0             17.0                      0     0.0  \n",
       "4       683           3083.0                    122    12.0  "
      ]
     },
     "execution_count": 142,
     "metadata": {},
     "output_type": "execute_result"
    }
   ],
   "source": [
    "raw2.head()"
   ]
  },
  {
   "cell_type": "code",
   "execution_count": 93,
   "metadata": {},
   "outputs": [],
   "source": [
    "df2 = pd.DataFrame(raw2[['City', 'Population']])\n",
    "\n",
    "\n",
    "df2['ViolentCrime'] = raw2['Violent\\ncrime'].fillna(0.0)\n",
    "df2['Murder'] = raw2['Murder and\\nnonnegligent\\nmanslaughter'].fillna(0.0)\n",
    "df2['Rape'] = raw2['Rape\\n(revised\\ndefinition)1'].fillna(0.0)\n",
    "df2['Rape2'] = raw2['Rape\\n(legacy\\ndefinition)2'].fillna(0.0)\n",
    "df2['Robbery'] = raw2['Robbery'].fillna(0.0)\n",
    "df2['AggravatedAssault'] = raw2['Aggravated\\nassault'].fillna(0.0)\n",
    "df2['PropertyCrime'] = raw2['Property\\ncrime'].fillna(0.0)\n",
    "df2['Burglary'] = raw2['Burglary'].fillna(0.0)\n",
    "df2['Larceny'] = raw2['Larceny-\\ntheft'].fillna(0.0)\n",
    "df2['CarTheft'] = raw2['Motor\\nvehicle\\ntheft'].fillna(0.0)\n",
    "df2['Arson'] = raw2['Arson3'].fillna(0)"
   ]
  },
  {
   "cell_type": "code",
   "execution_count": 94,
   "metadata": {},
   "outputs": [],
   "source": [
    "df2['ViolentCrime'] = df2['ViolentCrime'].apply(lambda x: float(str(x).replace(',','')))\n",
    "df2['Murder'] = df2['Murder'].apply(lambda x: float(str(x).replace(',','')))\n",
    "df2['Rape'] = df2['Rape'].apply(lambda x: float(str(x).replace(',','')))\n",
    "df2['Rape2'] = df2['Rape2'].apply(lambda x: float(str(x).replace(',','')))\n",
    "df2['Robbery'] = df2['Robbery'].apply(lambda x: float(str(x).replace(',','')))\n",
    "df2['AggravatedAssault'] = df2['AggravatedAssault'].apply(lambda x: float(str(x).replace(',','')))\n",
    "df2['PropertyCrime'] = df2['PropertyCrime'].apply(lambda x: float(str(x).replace(',','')))\n",
    "df2['Burglary'] = df2['Burglary'].apply(lambda x: float(str(x).replace(',','')))\n",
    "df2['Larceny'] = df2['Larceny'].apply(lambda x: float(str(x).replace(',','')))\n",
    "df2['CarTheft'] = df2['CarTheft'].apply(lambda x: float(str(x).replace(',','')))\n",
    "df2['Arson'] = df2['Arson'].apply(lambda x: float(str(x).replace(',','')))"
   ]
  },
  {
   "cell_type": "code",
   "execution_count": 95,
   "metadata": {},
   "outputs": [],
   "source": [
    "df2['Rape'] = df2['Rape'] + df2['Rape2']\n",
    "df2.drop('Rape2', axis=1, inplace=True)\n"
   ]
  },
  {
   "cell_type": "code",
   "execution_count": 96,
   "metadata": {},
   "outputs": [
    {
     "data": {
      "text/plain": [
       "False"
      ]
     },
     "execution_count": 96,
     "metadata": {},
     "output_type": "execute_result"
    }
   ],
   "source": [
    "df2.isnull().values.any()"
   ]
  },
  {
   "cell_type": "code",
   "execution_count": 97,
   "metadata": {},
   "outputs": [
    {
     "name": "stdout",
     "output_type": "stream",
     "text": [
      "<class 'pandas.core.frame.DataFrame'>\n",
      "RangeIndex: 369 entries, 0 to 368\n",
      "Data columns (total 12 columns):\n",
      "City                 369 non-null object\n",
      "Population           369 non-null int64\n",
      "ViolentCrime         369 non-null float64\n",
      "Murder               369 non-null float64\n",
      "Rape                 369 non-null float64\n",
      "Robbery              369 non-null float64\n",
      "AggravatedAssault    369 non-null float64\n",
      "PropertyCrime        369 non-null float64\n",
      "Burglary             369 non-null float64\n",
      "Larceny              369 non-null float64\n",
      "CarTheft             369 non-null float64\n",
      "Arson                369 non-null float64\n",
      "dtypes: float64(10), int64(1), object(1)\n",
      "memory usage: 34.7+ KB\n"
     ]
    }
   ],
   "source": [
    "df2.info()"
   ]
  },
  {
   "cell_type": "code",
   "execution_count": 98,
   "metadata": {},
   "outputs": [
    {
     "data": {
      "text/html": [
       "<div>\n",
       "<style scoped>\n",
       "    .dataframe tbody tr th:only-of-type {\n",
       "        vertical-align: middle;\n",
       "    }\n",
       "\n",
       "    .dataframe tbody tr th {\n",
       "        vertical-align: top;\n",
       "    }\n",
       "\n",
       "    .dataframe thead th {\n",
       "        text-align: right;\n",
       "    }\n",
       "</style>\n",
       "<table border=\"1\" class=\"dataframe\">\n",
       "  <thead>\n",
       "    <tr style=\"text-align: right;\">\n",
       "      <th></th>\n",
       "      <th>Population</th>\n",
       "      <th>ViolentCrime</th>\n",
       "      <th>Murder</th>\n",
       "      <th>Rape</th>\n",
       "      <th>Robbery</th>\n",
       "      <th>AggravatedAssault</th>\n",
       "      <th>PropertyCrime</th>\n",
       "      <th>Burglary</th>\n",
       "      <th>Larceny</th>\n",
       "      <th>CarTheft</th>\n",
       "      <th>Arson</th>\n",
       "    </tr>\n",
       "  </thead>\n",
       "  <tbody>\n",
       "    <tr>\n",
       "      <th>count</th>\n",
       "      <td>3.690000e+02</td>\n",
       "      <td>369.000000</td>\n",
       "      <td>369.000000</td>\n",
       "      <td>369.000000</td>\n",
       "      <td>369.000000</td>\n",
       "      <td>369.000000</td>\n",
       "      <td>369.000000</td>\n",
       "      <td>369.000000</td>\n",
       "      <td>369.000000</td>\n",
       "      <td>369.000000</td>\n",
       "      <td>369.000000</td>\n",
       "    </tr>\n",
       "    <tr>\n",
       "      <th>mean</th>\n",
       "      <td>3.781482e+04</td>\n",
       "      <td>183.691057</td>\n",
       "      <td>1.452575</td>\n",
       "      <td>9.571816</td>\n",
       "      <td>60.661247</td>\n",
       "      <td>112.005420</td>\n",
       "      <td>696.468835</td>\n",
       "      <td>100.899729</td>\n",
       "      <td>561.265583</td>\n",
       "      <td>34.317073</td>\n",
       "      <td>1.409214</td>\n",
       "    </tr>\n",
       "    <tr>\n",
       "      <th>std</th>\n",
       "      <td>4.411591e+05</td>\n",
       "      <td>2638.842310</td>\n",
       "      <td>17.693912</td>\n",
       "      <td>114.869424</td>\n",
       "      <td>866.480865</td>\n",
       "      <td>1640.514852</td>\n",
       "      <td>7114.021364</td>\n",
       "      <td>855.103473</td>\n",
       "      <td>5861.942843</td>\n",
       "      <td>406.956766</td>\n",
       "      <td>7.952852</td>\n",
       "    </tr>\n",
       "    <tr>\n",
       "      <th>min</th>\n",
       "      <td>7.900000e+01</td>\n",
       "      <td>0.000000</td>\n",
       "      <td>0.000000</td>\n",
       "      <td>0.000000</td>\n",
       "      <td>0.000000</td>\n",
       "      <td>0.000000</td>\n",
       "      <td>0.000000</td>\n",
       "      <td>0.000000</td>\n",
       "      <td>0.000000</td>\n",
       "      <td>0.000000</td>\n",
       "      <td>0.000000</td>\n",
       "    </tr>\n",
       "    <tr>\n",
       "      <th>25%</th>\n",
       "      <td>2.631000e+03</td>\n",
       "      <td>1.000000</td>\n",
       "      <td>0.000000</td>\n",
       "      <td>0.000000</td>\n",
       "      <td>0.000000</td>\n",
       "      <td>0.000000</td>\n",
       "      <td>25.000000</td>\n",
       "      <td>4.000000</td>\n",
       "      <td>20.000000</td>\n",
       "      <td>0.000000</td>\n",
       "      <td>0.000000</td>\n",
       "    </tr>\n",
       "    <tr>\n",
       "      <th>50%</th>\n",
       "      <td>6.581000e+03</td>\n",
       "      <td>5.000000</td>\n",
       "      <td>0.000000</td>\n",
       "      <td>0.000000</td>\n",
       "      <td>1.000000</td>\n",
       "      <td>3.000000</td>\n",
       "      <td>75.000000</td>\n",
       "      <td>12.000000</td>\n",
       "      <td>60.000000</td>\n",
       "      <td>2.000000</td>\n",
       "      <td>0.000000</td>\n",
       "    </tr>\n",
       "    <tr>\n",
       "      <th>75%</th>\n",
       "      <td>1.540800e+04</td>\n",
       "      <td>18.000000</td>\n",
       "      <td>0.000000</td>\n",
       "      <td>2.000000</td>\n",
       "      <td>4.000000</td>\n",
       "      <td>12.000000</td>\n",
       "      <td>270.000000</td>\n",
       "      <td>39.000000</td>\n",
       "      <td>228.000000</td>\n",
       "      <td>6.000000</td>\n",
       "      <td>1.000000</td>\n",
       "    </tr>\n",
       "    <tr>\n",
       "      <th>max</th>\n",
       "      <td>8.473938e+06</td>\n",
       "      <td>50564.000000</td>\n",
       "      <td>333.000000</td>\n",
       "      <td>2190.000000</td>\n",
       "      <td>16581.000000</td>\n",
       "      <td>31460.000000</td>\n",
       "      <td>135747.000000</td>\n",
       "      <td>15916.000000</td>\n",
       "      <td>112107.000000</td>\n",
       "      <td>7724.000000</td>\n",
       "      <td>135.000000</td>\n",
       "    </tr>\n",
       "  </tbody>\n",
       "</table>\n",
       "</div>"
      ],
      "text/plain": [
       "         Population  ViolentCrime      Murder         Rape       Robbery  \\\n",
       "count  3.690000e+02    369.000000  369.000000   369.000000    369.000000   \n",
       "mean   3.781482e+04    183.691057    1.452575     9.571816     60.661247   \n",
       "std    4.411591e+05   2638.842310   17.693912   114.869424    866.480865   \n",
       "min    7.900000e+01      0.000000    0.000000     0.000000      0.000000   \n",
       "25%    2.631000e+03      1.000000    0.000000     0.000000      0.000000   \n",
       "50%    6.581000e+03      5.000000    0.000000     0.000000      1.000000   \n",
       "75%    1.540800e+04     18.000000    0.000000     2.000000      4.000000   \n",
       "max    8.473938e+06  50564.000000  333.000000  2190.000000  16581.000000   \n",
       "\n",
       "       AggravatedAssault  PropertyCrime      Burglary        Larceny  \\\n",
       "count         369.000000     369.000000    369.000000     369.000000   \n",
       "mean          112.005420     696.468835    100.899729     561.265583   \n",
       "std          1640.514852    7114.021364    855.103473    5861.942843   \n",
       "min             0.000000       0.000000      0.000000       0.000000   \n",
       "25%             0.000000      25.000000      4.000000      20.000000   \n",
       "50%             3.000000      75.000000     12.000000      60.000000   \n",
       "75%            12.000000     270.000000     39.000000     228.000000   \n",
       "max         31460.000000  135747.000000  15916.000000  112107.000000   \n",
       "\n",
       "          CarTheft       Arson  \n",
       "count   369.000000  369.000000  \n",
       "mean     34.317073    1.409214  \n",
       "std     406.956766    7.952852  \n",
       "min       0.000000    0.000000  \n",
       "25%       0.000000    0.000000  \n",
       "50%       2.000000    0.000000  \n",
       "75%       6.000000    1.000000  \n",
       "max    7724.000000  135.000000  "
      ]
     },
     "execution_count": 98,
     "metadata": {},
     "output_type": "execute_result"
    }
   ],
   "source": [
    "df2.describe()"
   ]
  },
  {
   "cell_type": "code",
   "execution_count": 99,
   "metadata": {},
   "outputs": [
    {
     "data": {
      "text/html": [
       "<div>\n",
       "<style scoped>\n",
       "    .dataframe tbody tr th:only-of-type {\n",
       "        vertical-align: middle;\n",
       "    }\n",
       "\n",
       "    .dataframe tbody tr th {\n",
       "        vertical-align: top;\n",
       "    }\n",
       "\n",
       "    .dataframe thead th {\n",
       "        text-align: right;\n",
       "    }\n",
       "</style>\n",
       "<table border=\"1\" class=\"dataframe\">\n",
       "  <thead>\n",
       "    <tr style=\"text-align: right;\">\n",
       "      <th></th>\n",
       "      <th>City</th>\n",
       "      <th>Population</th>\n",
       "      <th>ViolentCrime</th>\n",
       "      <th>Murder</th>\n",
       "      <th>Rape</th>\n",
       "      <th>Robbery</th>\n",
       "      <th>AggravatedAssault</th>\n",
       "      <th>PropertyCrime</th>\n",
       "      <th>Burglary</th>\n",
       "      <th>Larceny</th>\n",
       "      <th>CarTheft</th>\n",
       "      <th>Arson</th>\n",
       "    </tr>\n",
       "  </thead>\n",
       "  <tbody>\n",
       "    <tr>\n",
       "      <th>0</th>\n",
       "      <td>Adams Village</td>\n",
       "      <td>1851</td>\n",
       "      <td>0.0</td>\n",
       "      <td>0.0</td>\n",
       "      <td>0.0</td>\n",
       "      <td>0.0</td>\n",
       "      <td>0.0</td>\n",
       "      <td>11.0</td>\n",
       "      <td>1.0</td>\n",
       "      <td>10.0</td>\n",
       "      <td>0.0</td>\n",
       "      <td>0.0</td>\n",
       "    </tr>\n",
       "    <tr>\n",
       "      <th>1</th>\n",
       "      <td>Addison Town and Village</td>\n",
       "      <td>2568</td>\n",
       "      <td>2.0</td>\n",
       "      <td>0.0</td>\n",
       "      <td>0.0</td>\n",
       "      <td>1.0</td>\n",
       "      <td>1.0</td>\n",
       "      <td>49.0</td>\n",
       "      <td>1.0</td>\n",
       "      <td>47.0</td>\n",
       "      <td>1.0</td>\n",
       "      <td>0.0</td>\n",
       "    </tr>\n",
       "    <tr>\n",
       "      <th>2</th>\n",
       "      <td>Afton Village4</td>\n",
       "      <td>820</td>\n",
       "      <td>0.0</td>\n",
       "      <td>0.0</td>\n",
       "      <td>0.0</td>\n",
       "      <td>0.0</td>\n",
       "      <td>0.0</td>\n",
       "      <td>1.0</td>\n",
       "      <td>0.0</td>\n",
       "      <td>1.0</td>\n",
       "      <td>0.0</td>\n",
       "      <td>0.0</td>\n",
       "    </tr>\n",
       "    <tr>\n",
       "      <th>3</th>\n",
       "      <td>Akron Village</td>\n",
       "      <td>2842</td>\n",
       "      <td>1.0</td>\n",
       "      <td>0.0</td>\n",
       "      <td>0.0</td>\n",
       "      <td>0.0</td>\n",
       "      <td>1.0</td>\n",
       "      <td>17.0</td>\n",
       "      <td>0.0</td>\n",
       "      <td>17.0</td>\n",
       "      <td>0.0</td>\n",
       "      <td>0.0</td>\n",
       "    </tr>\n",
       "    <tr>\n",
       "      <th>4</th>\n",
       "      <td>Albany4</td>\n",
       "      <td>98595</td>\n",
       "      <td>802.0</td>\n",
       "      <td>8.0</td>\n",
       "      <td>54.0</td>\n",
       "      <td>237.0</td>\n",
       "      <td>503.0</td>\n",
       "      <td>3888.0</td>\n",
       "      <td>683.0</td>\n",
       "      <td>3083.0</td>\n",
       "      <td>122.0</td>\n",
       "      <td>12.0</td>\n",
       "    </tr>\n",
       "  </tbody>\n",
       "</table>\n",
       "</div>"
      ],
      "text/plain": [
       "                       City  Population  ViolentCrime  Murder  Rape  Robbery  \\\n",
       "0             Adams Village        1851           0.0     0.0   0.0      0.0   \n",
       "1  Addison Town and Village        2568           2.0     0.0   0.0      1.0   \n",
       "2            Afton Village4         820           0.0     0.0   0.0      0.0   \n",
       "3             Akron Village        2842           1.0     0.0   0.0      0.0   \n",
       "4                   Albany4       98595         802.0     8.0  54.0    237.0   \n",
       "\n",
       "   AggravatedAssault  PropertyCrime  Burglary  Larceny  CarTheft  Arson  \n",
       "0                0.0           11.0       1.0     10.0       0.0    0.0  \n",
       "1                1.0           49.0       1.0     47.0       1.0    0.0  \n",
       "2                0.0            1.0       0.0      1.0       0.0    0.0  \n",
       "3                1.0           17.0       0.0     17.0       0.0    0.0  \n",
       "4              503.0         3888.0     683.0   3083.0     122.0   12.0  "
      ]
     },
     "execution_count": 99,
     "metadata": {},
     "output_type": "execute_result"
    }
   ],
   "source": [
    "df2.head()"
   ]
  },
  {
   "cell_type": "code",
   "execution_count": 100,
   "metadata": {},
   "outputs": [],
   "source": [
    "features_ny_2014 = pd.DataFrame(df2.drop(['City'], axis=1))"
   ]
  },
  {
   "cell_type": "code",
   "execution_count": 101,
   "metadata": {},
   "outputs": [
    {
     "data": {
      "text/html": [
       "<div>\n",
       "<style scoped>\n",
       "    .dataframe tbody tr th:only-of-type {\n",
       "        vertical-align: middle;\n",
       "    }\n",
       "\n",
       "    .dataframe tbody tr th {\n",
       "        vertical-align: top;\n",
       "    }\n",
       "\n",
       "    .dataframe thead th {\n",
       "        text-align: right;\n",
       "    }\n",
       "</style>\n",
       "<table border=\"1\" class=\"dataframe\">\n",
       "  <thead>\n",
       "    <tr style=\"text-align: right;\">\n",
       "      <th></th>\n",
       "      <th>Population</th>\n",
       "      <th>ViolentCrime</th>\n",
       "      <th>Murder</th>\n",
       "      <th>Rape</th>\n",
       "      <th>Robbery</th>\n",
       "      <th>AggravatedAssault</th>\n",
       "      <th>PropertyCrime</th>\n",
       "      <th>Burglary</th>\n",
       "      <th>Larceny</th>\n",
       "      <th>CarTheft</th>\n",
       "      <th>Arson</th>\n",
       "    </tr>\n",
       "  </thead>\n",
       "  <tbody>\n",
       "    <tr>\n",
       "      <th>0</th>\n",
       "      <td>1851</td>\n",
       "      <td>0.0</td>\n",
       "      <td>0.0</td>\n",
       "      <td>0.0</td>\n",
       "      <td>0.0</td>\n",
       "      <td>0.0</td>\n",
       "      <td>11.0</td>\n",
       "      <td>1.0</td>\n",
       "      <td>10.0</td>\n",
       "      <td>0.0</td>\n",
       "      <td>0.0</td>\n",
       "    </tr>\n",
       "    <tr>\n",
       "      <th>1</th>\n",
       "      <td>2568</td>\n",
       "      <td>2.0</td>\n",
       "      <td>0.0</td>\n",
       "      <td>0.0</td>\n",
       "      <td>1.0</td>\n",
       "      <td>1.0</td>\n",
       "      <td>49.0</td>\n",
       "      <td>1.0</td>\n",
       "      <td>47.0</td>\n",
       "      <td>1.0</td>\n",
       "      <td>0.0</td>\n",
       "    </tr>\n",
       "    <tr>\n",
       "      <th>2</th>\n",
       "      <td>820</td>\n",
       "      <td>0.0</td>\n",
       "      <td>0.0</td>\n",
       "      <td>0.0</td>\n",
       "      <td>0.0</td>\n",
       "      <td>0.0</td>\n",
       "      <td>1.0</td>\n",
       "      <td>0.0</td>\n",
       "      <td>1.0</td>\n",
       "      <td>0.0</td>\n",
       "      <td>0.0</td>\n",
       "    </tr>\n",
       "    <tr>\n",
       "      <th>3</th>\n",
       "      <td>2842</td>\n",
       "      <td>1.0</td>\n",
       "      <td>0.0</td>\n",
       "      <td>0.0</td>\n",
       "      <td>0.0</td>\n",
       "      <td>1.0</td>\n",
       "      <td>17.0</td>\n",
       "      <td>0.0</td>\n",
       "      <td>17.0</td>\n",
       "      <td>0.0</td>\n",
       "      <td>0.0</td>\n",
       "    </tr>\n",
       "    <tr>\n",
       "      <th>4</th>\n",
       "      <td>98595</td>\n",
       "      <td>802.0</td>\n",
       "      <td>8.0</td>\n",
       "      <td>54.0</td>\n",
       "      <td>237.0</td>\n",
       "      <td>503.0</td>\n",
       "      <td>3888.0</td>\n",
       "      <td>683.0</td>\n",
       "      <td>3083.0</td>\n",
       "      <td>122.0</td>\n",
       "      <td>12.0</td>\n",
       "    </tr>\n",
       "  </tbody>\n",
       "</table>\n",
       "</div>"
      ],
      "text/plain": [
       "   Population  ViolentCrime  Murder  Rape  Robbery  AggravatedAssault  \\\n",
       "0        1851           0.0     0.0   0.0      0.0                0.0   \n",
       "1        2568           2.0     0.0   0.0      1.0                1.0   \n",
       "2         820           0.0     0.0   0.0      0.0                0.0   \n",
       "3        2842           1.0     0.0   0.0      0.0                1.0   \n",
       "4       98595         802.0     8.0  54.0    237.0              503.0   \n",
       "\n",
       "   PropertyCrime  Burglary  Larceny  CarTheft  Arson  \n",
       "0           11.0       1.0     10.0       0.0    0.0  \n",
       "1           49.0       1.0     47.0       1.0    0.0  \n",
       "2            1.0       0.0      1.0       0.0    0.0  \n",
       "3           17.0       0.0     17.0       0.0    0.0  \n",
       "4         3888.0     683.0   3083.0     122.0   12.0  "
      ]
     },
     "execution_count": 101,
     "metadata": {},
     "output_type": "execute_result"
    }
   ],
   "source": [
    "features_ny_2014.head()"
   ]
  },
  {
   "cell_type": "markdown",
   "metadata": {},
   "source": [
    "## Log Transformation on Population, PropertyCrime:"
   ]
  },
  {
   "cell_type": "code",
   "execution_count": 102,
   "metadata": {},
   "outputs": [],
   "source": [
    "features_ny_2014['Population'] = np.log(features_ny_2014['Population']+1)\n",
    "features_ny_2014['PropertyCrime'] = np.log(features_ny_2014['PropertyCrime']+1)"
   ]
  },
  {
   "cell_type": "markdown",
   "metadata": {},
   "source": [
    "## Continuous Features to Booleans:"
   ]
  },
  {
   "cell_type": "code",
   "execution_count": 103,
   "metadata": {},
   "outputs": [],
   "source": [
    "for feature in features_ny_2014.columns:\n",
    "    if feature == 'Population' or feature ==  'PropertyCrime':\n",
    "        pass\n",
    "    else:\n",
    "        features_ny_2014[feature] = features_ny_2014[feature].apply(lambda x: toboolean(x))"
   ]
  },
  {
   "cell_type": "code",
   "execution_count": 104,
   "metadata": {},
   "outputs": [
    {
     "data": {
      "text/html": [
       "<div>\n",
       "<style scoped>\n",
       "    .dataframe tbody tr th:only-of-type {\n",
       "        vertical-align: middle;\n",
       "    }\n",
       "\n",
       "    .dataframe tbody tr th {\n",
       "        vertical-align: top;\n",
       "    }\n",
       "\n",
       "    .dataframe thead th {\n",
       "        text-align: right;\n",
       "    }\n",
       "</style>\n",
       "<table border=\"1\" class=\"dataframe\">\n",
       "  <thead>\n",
       "    <tr style=\"text-align: right;\">\n",
       "      <th></th>\n",
       "      <th>Population</th>\n",
       "      <th>ViolentCrime</th>\n",
       "      <th>Murder</th>\n",
       "      <th>Rape</th>\n",
       "      <th>Robbery</th>\n",
       "      <th>AggravatedAssault</th>\n",
       "      <th>PropertyCrime</th>\n",
       "      <th>Burglary</th>\n",
       "      <th>Larceny</th>\n",
       "      <th>CarTheft</th>\n",
       "      <th>Arson</th>\n",
       "    </tr>\n",
       "  </thead>\n",
       "  <tbody>\n",
       "    <tr>\n",
       "      <th>0</th>\n",
       "      <td>7.524021</td>\n",
       "      <td>0</td>\n",
       "      <td>0</td>\n",
       "      <td>0</td>\n",
       "      <td>0</td>\n",
       "      <td>0</td>\n",
       "      <td>2.484907</td>\n",
       "      <td>1</td>\n",
       "      <td>1</td>\n",
       "      <td>0</td>\n",
       "      <td>0</td>\n",
       "    </tr>\n",
       "    <tr>\n",
       "      <th>1</th>\n",
       "      <td>7.851272</td>\n",
       "      <td>1</td>\n",
       "      <td>0</td>\n",
       "      <td>0</td>\n",
       "      <td>1</td>\n",
       "      <td>1</td>\n",
       "      <td>3.912023</td>\n",
       "      <td>1</td>\n",
       "      <td>1</td>\n",
       "      <td>1</td>\n",
       "      <td>0</td>\n",
       "    </tr>\n",
       "    <tr>\n",
       "      <th>2</th>\n",
       "      <td>6.710523</td>\n",
       "      <td>0</td>\n",
       "      <td>0</td>\n",
       "      <td>0</td>\n",
       "      <td>0</td>\n",
       "      <td>0</td>\n",
       "      <td>0.693147</td>\n",
       "      <td>0</td>\n",
       "      <td>1</td>\n",
       "      <td>0</td>\n",
       "      <td>0</td>\n",
       "    </tr>\n",
       "    <tr>\n",
       "      <th>3</th>\n",
       "      <td>7.952615</td>\n",
       "      <td>1</td>\n",
       "      <td>0</td>\n",
       "      <td>0</td>\n",
       "      <td>0</td>\n",
       "      <td>1</td>\n",
       "      <td>2.890372</td>\n",
       "      <td>0</td>\n",
       "      <td>1</td>\n",
       "      <td>0</td>\n",
       "      <td>0</td>\n",
       "    </tr>\n",
       "    <tr>\n",
       "      <th>4</th>\n",
       "      <td>11.498786</td>\n",
       "      <td>1</td>\n",
       "      <td>1</td>\n",
       "      <td>1</td>\n",
       "      <td>1</td>\n",
       "      <td>1</td>\n",
       "      <td>8.265907</td>\n",
       "      <td>1</td>\n",
       "      <td>1</td>\n",
       "      <td>1</td>\n",
       "      <td>1</td>\n",
       "    </tr>\n",
       "  </tbody>\n",
       "</table>\n",
       "</div>"
      ],
      "text/plain": [
       "   Population  ViolentCrime  Murder  Rape  Robbery  AggravatedAssault  \\\n",
       "0    7.524021             0       0     0        0                  0   \n",
       "1    7.851272             1       0     0        1                  1   \n",
       "2    6.710523             0       0     0        0                  0   \n",
       "3    7.952615             1       0     0        0                  1   \n",
       "4   11.498786             1       1     1        1                  1   \n",
       "\n",
       "   PropertyCrime  Burglary  Larceny  CarTheft  Arson  \n",
       "0       2.484907         1        1         0      0  \n",
       "1       3.912023         1        1         1      0  \n",
       "2       0.693147         0        1         0      0  \n",
       "3       2.890372         0        1         0      0  \n",
       "4       8.265907         1        1         1      1  "
      ]
     },
     "execution_count": 104,
     "metadata": {},
     "output_type": "execute_result"
    }
   ],
   "source": [
    "features_ny_2014.head()"
   ]
  },
  {
   "cell_type": "code",
   "execution_count": 105,
   "metadata": {},
   "outputs": [
    {
     "data": {
      "text/html": [
       "<div>\n",
       "<style scoped>\n",
       "    .dataframe tbody tr th:only-of-type {\n",
       "        vertical-align: middle;\n",
       "    }\n",
       "\n",
       "    .dataframe tbody tr th {\n",
       "        vertical-align: top;\n",
       "    }\n",
       "\n",
       "    .dataframe thead th {\n",
       "        text-align: right;\n",
       "    }\n",
       "</style>\n",
       "<table border=\"1\" class=\"dataframe\">\n",
       "  <thead>\n",
       "    <tr style=\"text-align: right;\">\n",
       "      <th></th>\n",
       "      <th>Population</th>\n",
       "      <th>ViolentCrime</th>\n",
       "      <th>Murder</th>\n",
       "      <th>Rape</th>\n",
       "      <th>Robbery</th>\n",
       "      <th>AggravatedAssault</th>\n",
       "      <th>PropertyCrime</th>\n",
       "      <th>Burglary</th>\n",
       "      <th>Larceny</th>\n",
       "      <th>CarTheft</th>\n",
       "      <th>Arson</th>\n",
       "    </tr>\n",
       "  </thead>\n",
       "  <tbody>\n",
       "    <tr>\n",
       "      <th>Population</th>\n",
       "      <td>1.000000</td>\n",
       "      <td>0.522583</td>\n",
       "      <td>0.531927</td>\n",
       "      <td>0.466695</td>\n",
       "      <td>0.633224</td>\n",
       "      <td>0.496020</td>\n",
       "      <td>0.843063</td>\n",
       "      <td>0.342695</td>\n",
       "      <td>0.193112</td>\n",
       "      <td>0.514107</td>\n",
       "      <td>0.458929</td>\n",
       "    </tr>\n",
       "    <tr>\n",
       "      <th>ViolentCrime</th>\n",
       "      <td>0.522583</td>\n",
       "      <td>1.000000</td>\n",
       "      <td>0.197178</td>\n",
       "      <td>0.389421</td>\n",
       "      <td>0.524074</td>\n",
       "      <td>0.830298</td>\n",
       "      <td>0.545464</td>\n",
       "      <td>0.437325</td>\n",
       "      <td>0.275592</td>\n",
       "      <td>0.411667</td>\n",
       "      <td>0.291139</td>\n",
       "    </tr>\n",
       "    <tr>\n",
       "      <th>Murder</th>\n",
       "      <td>0.531927</td>\n",
       "      <td>0.197178</td>\n",
       "      <td>1.000000</td>\n",
       "      <td>0.264256</td>\n",
       "      <td>0.313300</td>\n",
       "      <td>0.201683</td>\n",
       "      <td>0.509245</td>\n",
       "      <td>0.131674</td>\n",
       "      <td>0.070198</td>\n",
       "      <td>0.192321</td>\n",
       "      <td>0.310967</td>\n",
       "    </tr>\n",
       "    <tr>\n",
       "      <th>Rape</th>\n",
       "      <td>0.466695</td>\n",
       "      <td>0.389421</td>\n",
       "      <td>0.264256</td>\n",
       "      <td>1.000000</td>\n",
       "      <td>0.408222</td>\n",
       "      <td>0.342058</td>\n",
       "      <td>0.548738</td>\n",
       "      <td>0.241281</td>\n",
       "      <td>0.138639</td>\n",
       "      <td>0.369321</td>\n",
       "      <td>0.377013</td>\n",
       "    </tr>\n",
       "    <tr>\n",
       "      <th>Robbery</th>\n",
       "      <td>0.633224</td>\n",
       "      <td>0.524074</td>\n",
       "      <td>0.313300</td>\n",
       "      <td>0.408222</td>\n",
       "      <td>1.000000</td>\n",
       "      <td>0.408381</td>\n",
       "      <td>0.669699</td>\n",
       "      <td>0.313368</td>\n",
       "      <td>0.154645</td>\n",
       "      <td>0.515586</td>\n",
       "      <td>0.378810</td>\n",
       "    </tr>\n",
       "    <tr>\n",
       "      <th>AggravatedAssault</th>\n",
       "      <td>0.496020</td>\n",
       "      <td>0.830298</td>\n",
       "      <td>0.201683</td>\n",
       "      <td>0.342058</td>\n",
       "      <td>0.408381</td>\n",
       "      <td>1.000000</td>\n",
       "      <td>0.526385</td>\n",
       "      <td>0.346287</td>\n",
       "      <td>0.222953</td>\n",
       "      <td>0.410281</td>\n",
       "      <td>0.300152</td>\n",
       "    </tr>\n",
       "    <tr>\n",
       "      <th>PropertyCrime</th>\n",
       "      <td>0.843063</td>\n",
       "      <td>0.545464</td>\n",
       "      <td>0.509245</td>\n",
       "      <td>0.548738</td>\n",
       "      <td>0.669699</td>\n",
       "      <td>0.526385</td>\n",
       "      <td>1.000000</td>\n",
       "      <td>0.494246</td>\n",
       "      <td>0.396086</td>\n",
       "      <td>0.631713</td>\n",
       "      <td>0.494760</td>\n",
       "    </tr>\n",
       "    <tr>\n",
       "      <th>Burglary</th>\n",
       "      <td>0.342695</td>\n",
       "      <td>0.437325</td>\n",
       "      <td>0.131674</td>\n",
       "      <td>0.241281</td>\n",
       "      <td>0.313368</td>\n",
       "      <td>0.346287</td>\n",
       "      <td>0.494246</td>\n",
       "      <td>1.000000</td>\n",
       "      <td>0.264596</td>\n",
       "      <td>0.324824</td>\n",
       "      <td>0.184240</td>\n",
       "    </tr>\n",
       "    <tr>\n",
       "      <th>Larceny</th>\n",
       "      <td>0.193112</td>\n",
       "      <td>0.275592</td>\n",
       "      <td>0.070198</td>\n",
       "      <td>0.138639</td>\n",
       "      <td>0.154645</td>\n",
       "      <td>0.222953</td>\n",
       "      <td>0.396086</td>\n",
       "      <td>0.264596</td>\n",
       "      <td>1.000000</td>\n",
       "      <td>0.268973</td>\n",
       "      <td>0.109077</td>\n",
       "    </tr>\n",
       "    <tr>\n",
       "      <th>CarTheft</th>\n",
       "      <td>0.514107</td>\n",
       "      <td>0.411667</td>\n",
       "      <td>0.192321</td>\n",
       "      <td>0.369321</td>\n",
       "      <td>0.515586</td>\n",
       "      <td>0.410281</td>\n",
       "      <td>0.631713</td>\n",
       "      <td>0.324824</td>\n",
       "      <td>0.268973</td>\n",
       "      <td>1.000000</td>\n",
       "      <td>0.299871</td>\n",
       "    </tr>\n",
       "    <tr>\n",
       "      <th>Arson</th>\n",
       "      <td>0.458929</td>\n",
       "      <td>0.291139</td>\n",
       "      <td>0.310967</td>\n",
       "      <td>0.377013</td>\n",
       "      <td>0.378810</td>\n",
       "      <td>0.300152</td>\n",
       "      <td>0.494760</td>\n",
       "      <td>0.184240</td>\n",
       "      <td>0.109077</td>\n",
       "      <td>0.299871</td>\n",
       "      <td>1.000000</td>\n",
       "    </tr>\n",
       "  </tbody>\n",
       "</table>\n",
       "</div>"
      ],
      "text/plain": [
       "                   Population  ViolentCrime    Murder      Rape   Robbery  \\\n",
       "Population           1.000000      0.522583  0.531927  0.466695  0.633224   \n",
       "ViolentCrime         0.522583      1.000000  0.197178  0.389421  0.524074   \n",
       "Murder               0.531927      0.197178  1.000000  0.264256  0.313300   \n",
       "Rape                 0.466695      0.389421  0.264256  1.000000  0.408222   \n",
       "Robbery              0.633224      0.524074  0.313300  0.408222  1.000000   \n",
       "AggravatedAssault    0.496020      0.830298  0.201683  0.342058  0.408381   \n",
       "PropertyCrime        0.843063      0.545464  0.509245  0.548738  0.669699   \n",
       "Burglary             0.342695      0.437325  0.131674  0.241281  0.313368   \n",
       "Larceny              0.193112      0.275592  0.070198  0.138639  0.154645   \n",
       "CarTheft             0.514107      0.411667  0.192321  0.369321  0.515586   \n",
       "Arson                0.458929      0.291139  0.310967  0.377013  0.378810   \n",
       "\n",
       "                   AggravatedAssault  PropertyCrime  Burglary   Larceny  \\\n",
       "Population                  0.496020       0.843063  0.342695  0.193112   \n",
       "ViolentCrime                0.830298       0.545464  0.437325  0.275592   \n",
       "Murder                      0.201683       0.509245  0.131674  0.070198   \n",
       "Rape                        0.342058       0.548738  0.241281  0.138639   \n",
       "Robbery                     0.408381       0.669699  0.313368  0.154645   \n",
       "AggravatedAssault           1.000000       0.526385  0.346287  0.222953   \n",
       "PropertyCrime               0.526385       1.000000  0.494246  0.396086   \n",
       "Burglary                    0.346287       0.494246  1.000000  0.264596   \n",
       "Larceny                     0.222953       0.396086  0.264596  1.000000   \n",
       "CarTheft                    0.410281       0.631713  0.324824  0.268973   \n",
       "Arson                       0.300152       0.494760  0.184240  0.109077   \n",
       "\n",
       "                   CarTheft     Arson  \n",
       "Population         0.514107  0.458929  \n",
       "ViolentCrime       0.411667  0.291139  \n",
       "Murder             0.192321  0.310967  \n",
       "Rape               0.369321  0.377013  \n",
       "Robbery            0.515586  0.378810  \n",
       "AggravatedAssault  0.410281  0.300152  \n",
       "PropertyCrime      0.631713  0.494760  \n",
       "Burglary           0.324824  0.184240  \n",
       "Larceny            0.268973  0.109077  \n",
       "CarTheft           1.000000  0.299871  \n",
       "Arson              0.299871  1.000000  "
      ]
     },
     "execution_count": 105,
     "metadata": {},
     "output_type": "execute_result"
    }
   ],
   "source": [
    "features_ny_2014.corr()"
   ]
  },
  {
   "cell_type": "code",
   "execution_count": 106,
   "metadata": {},
   "outputs": [
    {
     "data": {
      "image/png": "[encoded data removed]",
      "text/plain": [
       "<Figure size 576x576 with 2 Axes>"
      ]
     },
     "metadata": {},
     "output_type": "display_data"
    }
   ],
   "source": [
    "plt.rcParams['figure.figsize'] = 8, 8\n",
    "sns.heatmap(features_ny_2014.corr(), vmax=1, vmin=-1, square=True, cmap='RdBu_r')\n",
    "plt.show()"
   ]
  },
  {
   "cell_type": "markdown",
   "metadata": {},
   "source": [
    "# Use Model on Second Dataset:"
   ]
  },
  {
   "cell_type": "code",
   "execution_count": 107,
   "metadata": {},
   "outputs": [],
   "source": [
    "linear_formula = 'PropertyCrime ~ Population+Robbery+Rape+AggravatedAssault'\n",
    "data = features_ny_2014\n",
    "\n",
    "lm = smf.ols(formula=linear_formula, data=data).fit()"
   ]
  },
  {
   "cell_type": "code",
   "execution_count": 108,
   "metadata": {},
   "outputs": [
    {
     "name": "stdout",
     "output_type": "stream",
     "text": [
      "Intercept/Coefficients: \n",
      " Intercept           -4.025817\n",
      "Population           0.851515\n",
      "Robbery              0.657174\n",
      "Rape                 0.588553\n",
      "AggravatedAssault    0.401570\n",
      "dtype: float64\n"
     ]
    }
   ],
   "source": [
    "print('Intercept/Coefficients: \\n', lm.params)"
   ]
  },
  {
   "cell_type": "code",
   "execution_count": 109,
   "metadata": {},
   "outputs": [
    {
     "data": {
      "text/plain": [
       "Intercept           -4.025817\n",
       "Population           0.851515\n",
       "Robbery              0.657174\n",
       "Rape                 0.588553\n",
       "AggravatedAssault    0.401570\n",
       "dtype: float64"
      ]
     },
     "metadata": {},
     "output_type": "display_data"
    },
    {
     "data": {
      "text/plain": [
       "Intercept            1.371570e-22\n",
       "Population           2.281655e-48\n",
       "Robbery              7.840708e-08\n",
       "Rape                 8.476953e-08\n",
       "AggravatedAssault    1.007543e-03\n",
       "dtype: float64"
      ]
     },
     "metadata": {},
     "output_type": "display_data"
    },
    {
     "data": {
      "text/plain": [
       "0.77060592982831455"
      ]
     },
     "metadata": {},
     "output_type": "display_data"
    },
    {
     "data": {
      "text/html": [
       "<div>\n",
       "<style scoped>\n",
       "    .dataframe tbody tr th:only-of-type {\n",
       "        vertical-align: middle;\n",
       "    }\n",
       "\n",
       "    .dataframe tbody tr th {\n",
       "        vertical-align: top;\n",
       "    }\n",
       "\n",
       "    .dataframe thead th {\n",
       "        text-align: right;\n",
       "    }\n",
       "</style>\n",
       "<table border=\"1\" class=\"dataframe\">\n",
       "  <thead>\n",
       "    <tr style=\"text-align: right;\">\n",
       "      <th></th>\n",
       "      <th>0</th>\n",
       "      <th>1</th>\n",
       "    </tr>\n",
       "  </thead>\n",
       "  <tbody>\n",
       "    <tr>\n",
       "      <th>Intercept</th>\n",
       "      <td>-4.782165</td>\n",
       "      <td>-3.269469</td>\n",
       "    </tr>\n",
       "    <tr>\n",
       "      <th>Population</th>\n",
       "      <td>0.753357</td>\n",
       "      <td>0.949674</td>\n",
       "    </tr>\n",
       "    <tr>\n",
       "      <th>Robbery</th>\n",
       "      <td>0.421468</td>\n",
       "      <td>0.892880</td>\n",
       "    </tr>\n",
       "    <tr>\n",
       "      <th>Rape</th>\n",
       "      <td>0.376882</td>\n",
       "      <td>0.800224</td>\n",
       "    </tr>\n",
       "    <tr>\n",
       "      <th>AggravatedAssault</th>\n",
       "      <td>0.163374</td>\n",
       "      <td>0.639765</td>\n",
       "    </tr>\n",
       "  </tbody>\n",
       "</table>\n",
       "</div>"
      ],
      "text/plain": [
       "                          0         1\n",
       "Intercept         -4.782165 -3.269469\n",
       "Population         0.753357  0.949674\n",
       "Robbery            0.421468  0.892880\n",
       "Rape               0.376882  0.800224\n",
       "AggravatedAssault  0.163374  0.639765"
      ]
     },
     "metadata": {},
     "output_type": "display_data"
    }
   ],
   "source": [
    "display(lm.params, lm.pvalues, lm.rsquared, lm.conf_int())"
   ]
  },
  {
   "cell_type": "code",
   "execution_count": 110,
   "metadata": {},
   "outputs": [],
   "source": [
    "linear_formula = 'PropertyCrime ~ Population+Robbery+Rape+AggravatedAssault'\n",
    "data = features_ny_2014\n",
    "\n",
    "lm = smf.ols(formula=linear_formula, data=data).fit()"
   ]
  },
  {
   "cell_type": "markdown",
   "metadata": {},
   "source": [
    "### Model Coefficients and Cross-Validation:"
   ]
  },
  {
   "cell_type": "code",
   "execution_count": 111,
   "metadata": {},
   "outputs": [],
   "source": [
    "X = features_ny_2014[['Population', 'Robbery', 'Rape', 'AggravatedAssault']]\n",
    "y = features_ny_2014.PropertyCrime.values.reshape(-1, 1)"
   ]
  },
  {
   "cell_type": "code",
   "execution_count": 112,
   "metadata": {},
   "outputs": [
    {
     "data": {
      "text/html": [
       "<div>\n",
       "<style scoped>\n",
       "    .dataframe tbody tr th:only-of-type {\n",
       "        vertical-align: middle;\n",
       "    }\n",
       "\n",
       "    .dataframe tbody tr th {\n",
       "        vertical-align: top;\n",
       "    }\n",
       "\n",
       "    .dataframe thead th {\n",
       "        text-align: right;\n",
       "    }\n",
       "</style>\n",
       "<table border=\"1\" class=\"dataframe\">\n",
       "  <thead>\n",
       "    <tr style=\"text-align: right;\">\n",
       "      <th></th>\n",
       "      <th>Population</th>\n",
       "      <th>Robbery</th>\n",
       "      <th>Rape</th>\n",
       "      <th>AggravatedAssault</th>\n",
       "    </tr>\n",
       "  </thead>\n",
       "  <tbody>\n",
       "    <tr>\n",
       "      <th>Population</th>\n",
       "      <td>1.000000</td>\n",
       "      <td>0.633224</td>\n",
       "      <td>0.466695</td>\n",
       "      <td>0.496020</td>\n",
       "    </tr>\n",
       "    <tr>\n",
       "      <th>Robbery</th>\n",
       "      <td>0.633224</td>\n",
       "      <td>1.000000</td>\n",
       "      <td>0.408222</td>\n",
       "      <td>0.408381</td>\n",
       "    </tr>\n",
       "    <tr>\n",
       "      <th>Rape</th>\n",
       "      <td>0.466695</td>\n",
       "      <td>0.408222</td>\n",
       "      <td>1.000000</td>\n",
       "      <td>0.342058</td>\n",
       "    </tr>\n",
       "    <tr>\n",
       "      <th>AggravatedAssault</th>\n",
       "      <td>0.496020</td>\n",
       "      <td>0.408381</td>\n",
       "      <td>0.342058</td>\n",
       "      <td>1.000000</td>\n",
       "    </tr>\n",
       "  </tbody>\n",
       "</table>\n",
       "</div>"
      ],
      "text/plain": [
       "                   Population   Robbery      Rape  AggravatedAssault\n",
       "Population           1.000000  0.633224  0.466695           0.496020\n",
       "Robbery              0.633224  1.000000  0.408222           0.408381\n",
       "Rape                 0.466695  0.408222  1.000000           0.342058\n",
       "AggravatedAssault    0.496020  0.408381  0.342058           1.000000"
      ]
     },
     "execution_count": 112,
     "metadata": {},
     "output_type": "execute_result"
    }
   ],
   "source": [
    "X.corr()"
   ]
  },
  {
   "cell_type": "code",
   "execution_count": 113,
   "metadata": {},
   "outputs": [
    {
     "name": "stdout",
     "output_type": "stream",
     "text": [
      "\n",
      "Coefficients: \n",
      " [[ 0.85151519  0.65717417  0.5885527   0.40156977]]\n",
      "\n",
      "Intercept: \n",
      " [-4.02581689]\n",
      "\n",
      "R-squared:\n",
      "0.770605929828 \n",
      "\n",
      "Cross-Validation Score:\n",
      " [ 0.85721434  0.83317477  0.45678095  0.85664799  0.73296935  0.73871716\n",
      "  0.7775534   0.7693375   0.74321944  0.63592345]\n",
      "Cross-Validation Mean:\n",
      " 0.740153835559\n",
      "Cross-Validation Spread:\n",
      " 0.400433384167\n"
     ]
    }
   ],
   "source": [
    "lr_model_results(X, y)"
   ]
  },
  {
   "cell_type": "markdown",
   "metadata": {},
   "source": [
    "### Visualization of Residuals:"
   ]
  },
  {
   "cell_type": "code",
   "execution_count": 114,
   "metadata": {},
   "outputs": [
    {
     "data": {
      "image/png": "[encoded data removed]",
      "text/plain": [
       "<Figure size 432x288 with 1 Axes>"
      ]
     },
     "metadata": {},
     "output_type": "display_data"
    }
   ],
   "source": [
    "reg.fit(X, y)\n",
    "predicted = reg.predict(X).ravel()\n",
    "actual = features_ny_2014['PropertyCrime']\n",
    "\n",
    "residual = actual - predicted\n",
    "plt.rcParams['figure.figsize'] = 6, 4\n",
    "plt.hist(residual)\n",
    "plt.title('Residual Counts')\n",
    "plt.xlabel('Residual')\n",
    "plt.ylabel('Count')\n",
    "plt.show()"
   ]
  },
  {
   "cell_type": "code",
   "execution_count": 115,
   "metadata": {},
   "outputs": [
    {
     "data": {
      "image/png": "[encoded data removed]",
      "text/plain": [
       "<Figure size 432x288 with 1 Axes>"
      ]
     },
     "metadata": {},
     "output_type": "display_data"
    }
   ],
   "source": [
    "plt.scatter(predicted, residual)\n",
    "plt.xlabel('Predicted')\n",
    "plt.ylabel('Residual')\n",
    "plt.axhline(y=0)\n",
    "plt.title('Residual against Predicted')\n",
    "plt.show()"
   ]
  },
  {
   "cell_type": "markdown",
   "metadata": {},
   "source": [
    "The results for 2014 New York crime data are fairly homoscedastic, with a higher R-squared value. However, there is less consistency in cross-validation."
   ]
  },
  {
   "cell_type": "markdown",
   "metadata": {},
   "source": [
    "# Import Third Dataset:"
   ]
  },
  {
   "cell_type": "code",
   "execution_count": 116,
   "metadata": {},
   "outputs": [],
   "source": [
    "raw3 = pd.read_excel('table-8-pennsylvania.xls', header=4, skipfooter=4)"
   ]
  },
  {
   "cell_type": "code",
   "execution_count": 117,
   "metadata": {},
   "outputs": [
    {
     "data": {
      "text/html": [
       "<div>\n",
       "<style scoped>\n",
       "    .dataframe tbody tr th:only-of-type {\n",
       "        vertical-align: middle;\n",
       "    }\n",
       "\n",
       "    .dataframe tbody tr th {\n",
       "        vertical-align: top;\n",
       "    }\n",
       "\n",
       "    .dataframe thead th {\n",
       "        text-align: right;\n",
       "    }\n",
       "</style>\n",
       "<table border=\"1\" class=\"dataframe\">\n",
       "  <thead>\n",
       "    <tr style=\"text-align: right;\">\n",
       "      <th></th>\n",
       "      <th>City</th>\n",
       "      <th>Population</th>\n",
       "      <th>Violent\n",
       "crime</th>\n",
       "      <th>Murder and\n",
       "nonnegligent\n",
       "manslaughter</th>\n",
       "      <th>Rape\n",
       "(revised\n",
       "definition)1</th>\n",
       "      <th>Rape\n",
       "(legacy\n",
       "definition)2</th>\n",
       "      <th>Robbery</th>\n",
       "      <th>Aggravated\n",
       "assault</th>\n",
       "      <th>Property\n",
       "crime</th>\n",
       "      <th>Burglary</th>\n",
       "      <th>Larceny-\n",
       "theft</th>\n",
       "      <th>Motor\n",
       "vehicle\n",
       "theft</th>\n",
       "      <th>Arson3</th>\n",
       "    </tr>\n",
       "  </thead>\n",
       "  <tbody>\n",
       "    <tr>\n",
       "      <th>0</th>\n",
       "      <td>Abington Township, Lackawanna County</td>\n",
       "      <td>1750</td>\n",
       "      <td>1</td>\n",
       "      <td>0</td>\n",
       "      <td>0</td>\n",
       "      <td>NaN</td>\n",
       "      <td>0</td>\n",
       "      <td>1</td>\n",
       "      <td>14</td>\n",
       "      <td>4</td>\n",
       "      <td>10</td>\n",
       "      <td>0</td>\n",
       "      <td>0.0</td>\n",
       "    </tr>\n",
       "    <tr>\n",
       "      <th>1</th>\n",
       "      <td>Abington Township, Montgomery County</td>\n",
       "      <td>55559</td>\n",
       "      <td>63</td>\n",
       "      <td>0</td>\n",
       "      <td>5</td>\n",
       "      <td>NaN</td>\n",
       "      <td>28</td>\n",
       "      <td>30</td>\n",
       "      <td>1146</td>\n",
       "      <td>169</td>\n",
       "      <td>952</td>\n",
       "      <td>25</td>\n",
       "      <td>4.0</td>\n",
       "    </tr>\n",
       "    <tr>\n",
       "      <th>2</th>\n",
       "      <td>Adamstown</td>\n",
       "      <td>1845</td>\n",
       "      <td>0</td>\n",
       "      <td>0</td>\n",
       "      <td>0</td>\n",
       "      <td>NaN</td>\n",
       "      <td>0</td>\n",
       "      <td>0</td>\n",
       "      <td>20</td>\n",
       "      <td>4</td>\n",
       "      <td>12</td>\n",
       "      <td>4</td>\n",
       "      <td>0.0</td>\n",
       "    </tr>\n",
       "    <tr>\n",
       "      <th>3</th>\n",
       "      <td>Adams Township, Butler County</td>\n",
       "      <td>12582</td>\n",
       "      <td>8</td>\n",
       "      <td>0</td>\n",
       "      <td>0</td>\n",
       "      <td>NaN</td>\n",
       "      <td>0</td>\n",
       "      <td>8</td>\n",
       "      <td>63</td>\n",
       "      <td>11</td>\n",
       "      <td>51</td>\n",
       "      <td>1</td>\n",
       "      <td>0.0</td>\n",
       "    </tr>\n",
       "    <tr>\n",
       "      <th>4</th>\n",
       "      <td>Adams Township, Cambria County</td>\n",
       "      <td>5868</td>\n",
       "      <td>0</td>\n",
       "      <td>0</td>\n",
       "      <td>0</td>\n",
       "      <td>NaN</td>\n",
       "      <td>0</td>\n",
       "      <td>0</td>\n",
       "      <td>25</td>\n",
       "      <td>9</td>\n",
       "      <td>16</td>\n",
       "      <td>0</td>\n",
       "      <td>0.0</td>\n",
       "    </tr>\n",
       "  </tbody>\n",
       "</table>\n",
       "</div>"
      ],
      "text/plain": [
       "                                   City  Population  Violent\\ncrime  \\\n",
       "0  Abington Township, Lackawanna County        1750               1   \n",
       "1  Abington Township, Montgomery County       55559              63   \n",
       "2                             Adamstown        1845               0   \n",
       "3         Adams Township, Butler County       12582               8   \n",
       "4        Adams Township, Cambria County        5868               0   \n",
       "\n",
       "   Murder and\\nnonnegligent\\nmanslaughter  Rape\\n(revised\\ndefinition)1  \\\n",
       "0                                       0                             0   \n",
       "1                                       0                             5   \n",
       "2                                       0                             0   \n",
       "3                                       0                             0   \n",
       "4                                       0                             0   \n",
       "\n",
       "   Rape\\n(legacy\\ndefinition)2  Robbery  Aggravated\\nassault  Property\\ncrime  \\\n",
       "0                          NaN        0                    1               14   \n",
       "1                          NaN       28                   30             1146   \n",
       "2                          NaN        0                    0               20   \n",
       "3                          NaN        0                    8               63   \n",
       "4                          NaN        0                    0               25   \n",
       "\n",
       "   Burglary  Larceny-\\ntheft  Motor\\nvehicle\\ntheft  Arson3  \n",
       "0         4               10                      0     0.0  \n",
       "1       169              952                     25     4.0  \n",
       "2         4               12                      4     0.0  \n",
       "3        11               51                      1     0.0  \n",
       "4         9               16                      0     0.0  "
      ]
     },
     "execution_count": 117,
     "metadata": {},
     "output_type": "execute_result"
    }
   ],
   "source": [
    "raw3.head()"
   ]
  },
  {
   "cell_type": "code",
   "execution_count": 118,
   "metadata": {},
   "outputs": [],
   "source": [
    "df3 = pd.DataFrame(raw3[['City', 'Population']])\n",
    "\n",
    "\n",
    "df3['ViolentCrime'] = raw3['Violent\\ncrime'].fillna(0.0)\n",
    "df3['Murder'] = raw3['Murder and\\nnonnegligent\\nmanslaughter'].fillna(0.0)\n",
    "df3['Rape'] = raw3['Rape\\n(revised\\ndefinition)1'].fillna(0.0)\n",
    "df3['Rape2'] = raw3['Rape\\n(legacy\\ndefinition)2'].fillna(0.0)\n",
    "df3['Robbery'] = raw3['Robbery'].fillna(0.0)\n",
    "df3['AggravatedAssault'] = raw3['Aggravated\\nassault'].fillna(0.0)\n",
    "df3['PropertyCrime'] = raw3['Property\\ncrime'].fillna(0.0)\n",
    "df3['Burglary'] = raw3['Burglary'].fillna(0.0)\n",
    "df3['Larceny'] = raw3['Larceny-\\ntheft'].fillna(0.0)\n",
    "df3['CarTheft'] = raw3['Motor\\nvehicle\\ntheft'].fillna(0.0)\n",
    "df3['Arson'] = raw3['Arson3'].fillna(0)"
   ]
  },
  {
   "cell_type": "code",
   "execution_count": 119,
   "metadata": {},
   "outputs": [],
   "source": [
    "df3['ViolentCrime'] = df3['ViolentCrime'].apply(lambda x: float(str(x).replace(',','')))\n",
    "df3['Murder'] = df3['Murder'].apply(lambda x: float(str(x).replace(',','')))\n",
    "df3['Rape'] = df3['Rape'].apply(lambda x: float(str(x).replace(',','')))\n",
    "df3['Rape2'] = df3['Rape2'].apply(lambda x: float(str(x).replace(',','')))\n",
    "df3['Robbery'] = df3['Robbery'].apply(lambda x: float(str(x).replace(',','')))\n",
    "df3['AggravatedAssault'] = df3['AggravatedAssault'].apply(lambda x: float(str(x).replace(',','')))\n",
    "df3['PropertyCrime'] = df3['PropertyCrime'].apply(lambda x: float(str(x).replace(',','')))\n",
    "df3['Burglary'] = df3['Burglary'].apply(lambda x: float(str(x).replace(',','')))\n",
    "df3['Larceny'] = df3['Larceny'].apply(lambda x: float(str(x).replace(',','')))\n",
    "df3['CarTheft'] = df3['CarTheft'].apply(lambda x: float(str(x).replace(',','')))\n",
    "df3['Arson'] = df3['Arson'].apply(lambda x: float(str(x).replace(',','')))"
   ]
  },
  {
   "cell_type": "code",
   "execution_count": 120,
   "metadata": {},
   "outputs": [],
   "source": [
    "df3['Rape'] = df3['Rape'] + df3['Rape2']\n",
    "df3.drop('Rape2', axis=1, inplace=True)\n"
   ]
  },
  {
   "cell_type": "code",
   "execution_count": 121,
   "metadata": {},
   "outputs": [
    {
     "data": {
      "text/plain": [
       "False"
      ]
     },
     "execution_count": 121,
     "metadata": {},
     "output_type": "execute_result"
    }
   ],
   "source": [
    "df3.isnull().values.any()"
   ]
  },
  {
   "cell_type": "code",
   "execution_count": 122,
   "metadata": {},
   "outputs": [
    {
     "name": "stdout",
     "output_type": "stream",
     "text": [
      "<class 'pandas.core.frame.DataFrame'>\n",
      "RangeIndex: 853 entries, 0 to 852\n",
      "Data columns (total 12 columns):\n",
      "City                 853 non-null object\n",
      "Population           853 non-null int64\n",
      "ViolentCrime         853 non-null float64\n",
      "Murder               853 non-null float64\n",
      "Rape                 853 non-null float64\n",
      "Robbery              853 non-null float64\n",
      "AggravatedAssault    853 non-null float64\n",
      "PropertyCrime        853 non-null float64\n",
      "Burglary             853 non-null float64\n",
      "Larceny              853 non-null float64\n",
      "CarTheft             853 non-null float64\n",
      "Arson                853 non-null float64\n",
      "dtypes: float64(10), int64(1), object(1)\n",
      "memory usage: 80.0+ KB\n"
     ]
    }
   ],
   "source": [
    "df3.info()"
   ]
  },
  {
   "cell_type": "code",
   "execution_count": 123,
   "metadata": {},
   "outputs": [
    {
     "data": {
      "text/html": [
       "<div>\n",
       "<style scoped>\n",
       "    .dataframe tbody tr th:only-of-type {\n",
       "        vertical-align: middle;\n",
       "    }\n",
       "\n",
       "    .dataframe tbody tr th {\n",
       "        vertical-align: top;\n",
       "    }\n",
       "\n",
       "    .dataframe thead th {\n",
       "        text-align: right;\n",
       "    }\n",
       "</style>\n",
       "<table border=\"1\" class=\"dataframe\">\n",
       "  <thead>\n",
       "    <tr style=\"text-align: right;\">\n",
       "      <th></th>\n",
       "      <th>Population</th>\n",
       "      <th>ViolentCrime</th>\n",
       "      <th>Murder</th>\n",
       "      <th>Rape</th>\n",
       "      <th>Robbery</th>\n",
       "      <th>AggravatedAssault</th>\n",
       "      <th>PropertyCrime</th>\n",
       "      <th>Burglary</th>\n",
       "      <th>Larceny</th>\n",
       "      <th>CarTheft</th>\n",
       "      <th>Arson</th>\n",
       "    </tr>\n",
       "  </thead>\n",
       "  <tbody>\n",
       "    <tr>\n",
       "      <th>count</th>\n",
       "      <td>8.530000e+02</td>\n",
       "      <td>853.000000</td>\n",
       "      <td>853.000000</td>\n",
       "      <td>853.000000</td>\n",
       "      <td>853.000000</td>\n",
       "      <td>853.000000</td>\n",
       "      <td>853.000000</td>\n",
       "      <td>853.000000</td>\n",
       "      <td>853.000000</td>\n",
       "      <td>853.000000</td>\n",
       "      <td>853.000000</td>\n",
       "    </tr>\n",
       "    <tr>\n",
       "      <th>mean</th>\n",
       "      <td>1.076485e+04</td>\n",
       "      <td>42.044549</td>\n",
       "      <td>0.583822</td>\n",
       "      <td>3.228605</td>\n",
       "      <td>15.815944</td>\n",
       "      <td>22.416178</td>\n",
       "      <td>242.760844</td>\n",
       "      <td>44.302462</td>\n",
       "      <td>184.899179</td>\n",
       "      <td>13.559203</td>\n",
       "      <td>1.087925</td>\n",
       "    </tr>\n",
       "    <tr>\n",
       "      <th>std</th>\n",
       "      <td>5.512654e+04</td>\n",
       "      <td>591.939678</td>\n",
       "      <td>8.674964</td>\n",
       "      <td>44.209176</td>\n",
       "      <td>261.944888</td>\n",
       "      <td>277.743315</td>\n",
       "      <td>1884.982159</td>\n",
       "      <td>372.300831</td>\n",
       "      <td>1316.937843</td>\n",
       "      <td>200.144057</td>\n",
       "      <td>7.538820</td>\n",
       "    </tr>\n",
       "    <tr>\n",
       "      <th>min</th>\n",
       "      <td>1.980000e+02</td>\n",
       "      <td>0.000000</td>\n",
       "      <td>0.000000</td>\n",
       "      <td>0.000000</td>\n",
       "      <td>0.000000</td>\n",
       "      <td>0.000000</td>\n",
       "      <td>0.000000</td>\n",
       "      <td>0.000000</td>\n",
       "      <td>0.000000</td>\n",
       "      <td>0.000000</td>\n",
       "      <td>0.000000</td>\n",
       "    </tr>\n",
       "    <tr>\n",
       "      <th>25%</th>\n",
       "      <td>2.403000e+03</td>\n",
       "      <td>1.000000</td>\n",
       "      <td>0.000000</td>\n",
       "      <td>0.000000</td>\n",
       "      <td>0.000000</td>\n",
       "      <td>1.000000</td>\n",
       "      <td>22.000000</td>\n",
       "      <td>4.000000</td>\n",
       "      <td>16.000000</td>\n",
       "      <td>0.000000</td>\n",
       "      <td>0.000000</td>\n",
       "    </tr>\n",
       "    <tr>\n",
       "      <th>50%</th>\n",
       "      <td>4.626000e+03</td>\n",
       "      <td>5.000000</td>\n",
       "      <td>0.000000</td>\n",
       "      <td>0.000000</td>\n",
       "      <td>0.000000</td>\n",
       "      <td>4.000000</td>\n",
       "      <td>68.000000</td>\n",
       "      <td>11.000000</td>\n",
       "      <td>55.000000</td>\n",
       "      <td>2.000000</td>\n",
       "      <td>0.000000</td>\n",
       "    </tr>\n",
       "    <tr>\n",
       "      <th>75%</th>\n",
       "      <td>1.014000e+04</td>\n",
       "      <td>16.000000</td>\n",
       "      <td>0.000000</td>\n",
       "      <td>1.000000</td>\n",
       "      <td>3.000000</td>\n",
       "      <td>11.000000</td>\n",
       "      <td>171.000000</td>\n",
       "      <td>25.000000</td>\n",
       "      <td>143.000000</td>\n",
       "      <td>5.000000</td>\n",
       "      <td>1.000000</td>\n",
       "    </tr>\n",
       "    <tr>\n",
       "      <th>max</th>\n",
       "      <td>1.553153e+06</td>\n",
       "      <td>17074.000000</td>\n",
       "      <td>247.000000</td>\n",
       "      <td>1279.000000</td>\n",
       "      <td>7562.000000</td>\n",
       "      <td>7986.000000</td>\n",
       "      <td>53452.000000</td>\n",
       "      <td>10408.000000</td>\n",
       "      <td>37253.000000</td>\n",
       "      <td>5791.000000</td>\n",
       "      <td>208.000000</td>\n",
       "    </tr>\n",
       "  </tbody>\n",
       "</table>\n",
       "</div>"
      ],
      "text/plain": [
       "         Population  ViolentCrime      Murder         Rape      Robbery  \\\n",
       "count  8.530000e+02    853.000000  853.000000   853.000000   853.000000   \n",
       "mean   1.076485e+04     42.044549    0.583822     3.228605    15.815944   \n",
       "std    5.512654e+04    591.939678    8.674964    44.209176   261.944888   \n",
       "min    1.980000e+02      0.000000    0.000000     0.000000     0.000000   \n",
       "25%    2.403000e+03      1.000000    0.000000     0.000000     0.000000   \n",
       "50%    4.626000e+03      5.000000    0.000000     0.000000     0.000000   \n",
       "75%    1.014000e+04     16.000000    0.000000     1.000000     3.000000   \n",
       "max    1.553153e+06  17074.000000  247.000000  1279.000000  7562.000000   \n",
       "\n",
       "       AggravatedAssault  PropertyCrime      Burglary       Larceny  \\\n",
       "count         853.000000     853.000000    853.000000    853.000000   \n",
       "mean           22.416178     242.760844     44.302462    184.899179   \n",
       "std           277.743315    1884.982159    372.300831   1316.937843   \n",
       "min             0.000000       0.000000      0.000000      0.000000   \n",
       "25%             1.000000      22.000000      4.000000     16.000000   \n",
       "50%             4.000000      68.000000     11.000000     55.000000   \n",
       "75%            11.000000     171.000000     25.000000    143.000000   \n",
       "max          7986.000000   53452.000000  10408.000000  37253.000000   \n",
       "\n",
       "          CarTheft       Arson  \n",
       "count   853.000000  853.000000  \n",
       "mean     13.559203    1.087925  \n",
       "std     200.144057    7.538820  \n",
       "min       0.000000    0.000000  \n",
       "25%       0.000000    0.000000  \n",
       "50%       2.000000    0.000000  \n",
       "75%       5.000000    1.000000  \n",
       "max    5791.000000  208.000000  "
      ]
     },
     "execution_count": 123,
     "metadata": {},
     "output_type": "execute_result"
    }
   ],
   "source": [
    "df3.describe()"
   ]
  },
  {
   "cell_type": "code",
   "execution_count": 124,
   "metadata": {},
   "outputs": [
    {
     "data": {
      "text/html": [
       "<div>\n",
       "<style scoped>\n",
       "    .dataframe tbody tr th:only-of-type {\n",
       "        vertical-align: middle;\n",
       "    }\n",
       "\n",
       "    .dataframe tbody tr th {\n",
       "        vertical-align: top;\n",
       "    }\n",
       "\n",
       "    .dataframe thead th {\n",
       "        text-align: right;\n",
       "    }\n",
       "</style>\n",
       "<table border=\"1\" class=\"dataframe\">\n",
       "  <thead>\n",
       "    <tr style=\"text-align: right;\">\n",
       "      <th></th>\n",
       "      <th>City</th>\n",
       "      <th>Population</th>\n",
       "      <th>ViolentCrime</th>\n",
       "      <th>Murder</th>\n",
       "      <th>Rape</th>\n",
       "      <th>Robbery</th>\n",
       "      <th>AggravatedAssault</th>\n",
       "      <th>PropertyCrime</th>\n",
       "      <th>Burglary</th>\n",
       "      <th>Larceny</th>\n",
       "      <th>CarTheft</th>\n",
       "      <th>Arson</th>\n",
       "    </tr>\n",
       "  </thead>\n",
       "  <tbody>\n",
       "    <tr>\n",
       "      <th>0</th>\n",
       "      <td>Abington Township, Lackawanna County</td>\n",
       "      <td>1750</td>\n",
       "      <td>1.0</td>\n",
       "      <td>0.0</td>\n",
       "      <td>0.0</td>\n",
       "      <td>0.0</td>\n",
       "      <td>1.0</td>\n",
       "      <td>14.0</td>\n",
       "      <td>4.0</td>\n",
       "      <td>10.0</td>\n",
       "      <td>0.0</td>\n",
       "      <td>0.0</td>\n",
       "    </tr>\n",
       "    <tr>\n",
       "      <th>1</th>\n",
       "      <td>Abington Township, Montgomery County</td>\n",
       "      <td>55559</td>\n",
       "      <td>63.0</td>\n",
       "      <td>0.0</td>\n",
       "      <td>5.0</td>\n",
       "      <td>28.0</td>\n",
       "      <td>30.0</td>\n",
       "      <td>1146.0</td>\n",
       "      <td>169.0</td>\n",
       "      <td>952.0</td>\n",
       "      <td>25.0</td>\n",
       "      <td>4.0</td>\n",
       "    </tr>\n",
       "    <tr>\n",
       "      <th>2</th>\n",
       "      <td>Adamstown</td>\n",
       "      <td>1845</td>\n",
       "      <td>0.0</td>\n",
       "      <td>0.0</td>\n",
       "      <td>0.0</td>\n",
       "      <td>0.0</td>\n",
       "      <td>0.0</td>\n",
       "      <td>20.0</td>\n",
       "      <td>4.0</td>\n",
       "      <td>12.0</td>\n",
       "      <td>4.0</td>\n",
       "      <td>0.0</td>\n",
       "    </tr>\n",
       "    <tr>\n",
       "      <th>3</th>\n",
       "      <td>Adams Township, Butler County</td>\n",
       "      <td>12582</td>\n",
       "      <td>8.0</td>\n",
       "      <td>0.0</td>\n",
       "      <td>0.0</td>\n",
       "      <td>0.0</td>\n",
       "      <td>8.0</td>\n",
       "      <td>63.0</td>\n",
       "      <td>11.0</td>\n",
       "      <td>51.0</td>\n",
       "      <td>1.0</td>\n",
       "      <td>0.0</td>\n",
       "    </tr>\n",
       "    <tr>\n",
       "      <th>4</th>\n",
       "      <td>Adams Township, Cambria County</td>\n",
       "      <td>5868</td>\n",
       "      <td>0.0</td>\n",
       "      <td>0.0</td>\n",
       "      <td>0.0</td>\n",
       "      <td>0.0</td>\n",
       "      <td>0.0</td>\n",
       "      <td>25.0</td>\n",
       "      <td>9.0</td>\n",
       "      <td>16.0</td>\n",
       "      <td>0.0</td>\n",
       "      <td>0.0</td>\n",
       "    </tr>\n",
       "  </tbody>\n",
       "</table>\n",
       "</div>"
      ],
      "text/plain": [
       "                                   City  Population  ViolentCrime  Murder  \\\n",
       "0  Abington Township, Lackawanna County        1750           1.0     0.0   \n",
       "1  Abington Township, Montgomery County       55559          63.0     0.0   \n",
       "2                             Adamstown        1845           0.0     0.0   \n",
       "3         Adams Township, Butler County       12582           8.0     0.0   \n",
       "4        Adams Township, Cambria County        5868           0.0     0.0   \n",
       "\n",
       "   Rape  Robbery  AggravatedAssault  PropertyCrime  Burglary  Larceny  \\\n",
       "0   0.0      0.0                1.0           14.0       4.0     10.0   \n",
       "1   5.0     28.0               30.0         1146.0     169.0    952.0   \n",
       "2   0.0      0.0                0.0           20.0       4.0     12.0   \n",
       "3   0.0      0.0                8.0           63.0      11.0     51.0   \n",
       "4   0.0      0.0                0.0           25.0       9.0     16.0   \n",
       "\n",
       "   CarTheft  Arson  \n",
       "0       0.0    0.0  \n",
       "1      25.0    4.0  \n",
       "2       4.0    0.0  \n",
       "3       1.0    0.0  \n",
       "4       0.0    0.0  "
      ]
     },
     "execution_count": 124,
     "metadata": {},
     "output_type": "execute_result"
    }
   ],
   "source": [
    "df3.head()"
   ]
  },
  {
   "cell_type": "code",
   "execution_count": 125,
   "metadata": {},
   "outputs": [],
   "source": [
    "features_pa_2013 = pd.DataFrame(df3.drop(['City'], axis=1))"
   ]
  },
  {
   "cell_type": "code",
   "execution_count": 126,
   "metadata": {},
   "outputs": [
    {
     "data": {
      "text/html": [
       "<div>\n",
       "<style scoped>\n",
       "    .dataframe tbody tr th:only-of-type {\n",
       "        vertical-align: middle;\n",
       "    }\n",
       "\n",
       "    .dataframe tbody tr th {\n",
       "        vertical-align: top;\n",
       "    }\n",
       "\n",
       "    .dataframe thead th {\n",
       "        text-align: right;\n",
       "    }\n",
       "</style>\n",
       "<table border=\"1\" class=\"dataframe\">\n",
       "  <thead>\n",
       "    <tr style=\"text-align: right;\">\n",
       "      <th></th>\n",
       "      <th>Population</th>\n",
       "      <th>ViolentCrime</th>\n",
       "      <th>Murder</th>\n",
       "      <th>Rape</th>\n",
       "      <th>Robbery</th>\n",
       "      <th>AggravatedAssault</th>\n",
       "      <th>PropertyCrime</th>\n",
       "      <th>Burglary</th>\n",
       "      <th>Larceny</th>\n",
       "      <th>CarTheft</th>\n",
       "      <th>Arson</th>\n",
       "    </tr>\n",
       "  </thead>\n",
       "  <tbody>\n",
       "    <tr>\n",
       "      <th>0</th>\n",
       "      <td>1750</td>\n",
       "      <td>1.0</td>\n",
       "      <td>0.0</td>\n",
       "      <td>0.0</td>\n",
       "      <td>0.0</td>\n",
       "      <td>1.0</td>\n",
       "      <td>14.0</td>\n",
       "      <td>4.0</td>\n",
       "      <td>10.0</td>\n",
       "      <td>0.0</td>\n",
       "      <td>0.0</td>\n",
       "    </tr>\n",
       "    <tr>\n",
       "      <th>1</th>\n",
       "      <td>55559</td>\n",
       "      <td>63.0</td>\n",
       "      <td>0.0</td>\n",
       "      <td>5.0</td>\n",
       "      <td>28.0</td>\n",
       "      <td>30.0</td>\n",
       "      <td>1146.0</td>\n",
       "      <td>169.0</td>\n",
       "      <td>952.0</td>\n",
       "      <td>25.0</td>\n",
       "      <td>4.0</td>\n",
       "    </tr>\n",
       "    <tr>\n",
       "      <th>2</th>\n",
       "      <td>1845</td>\n",
       "      <td>0.0</td>\n",
       "      <td>0.0</td>\n",
       "      <td>0.0</td>\n",
       "      <td>0.0</td>\n",
       "      <td>0.0</td>\n",
       "      <td>20.0</td>\n",
       "      <td>4.0</td>\n",
       "      <td>12.0</td>\n",
       "      <td>4.0</td>\n",
       "      <td>0.0</td>\n",
       "    </tr>\n",
       "    <tr>\n",
       "      <th>3</th>\n",
       "      <td>12582</td>\n",
       "      <td>8.0</td>\n",
       "      <td>0.0</td>\n",
       "      <td>0.0</td>\n",
       "      <td>0.0</td>\n",
       "      <td>8.0</td>\n",
       "      <td>63.0</td>\n",
       "      <td>11.0</td>\n",
       "      <td>51.0</td>\n",
       "      <td>1.0</td>\n",
       "      <td>0.0</td>\n",
       "    </tr>\n",
       "    <tr>\n",
       "      <th>4</th>\n",
       "      <td>5868</td>\n",
       "      <td>0.0</td>\n",
       "      <td>0.0</td>\n",
       "      <td>0.0</td>\n",
       "      <td>0.0</td>\n",
       "      <td>0.0</td>\n",
       "      <td>25.0</td>\n",
       "      <td>9.0</td>\n",
       "      <td>16.0</td>\n",
       "      <td>0.0</td>\n",
       "      <td>0.0</td>\n",
       "    </tr>\n",
       "  </tbody>\n",
       "</table>\n",
       "</div>"
      ],
      "text/plain": [
       "   Population  ViolentCrime  Murder  Rape  Robbery  AggravatedAssault  \\\n",
       "0        1750           1.0     0.0   0.0      0.0                1.0   \n",
       "1       55559          63.0     0.0   5.0     28.0               30.0   \n",
       "2        1845           0.0     0.0   0.0      0.0                0.0   \n",
       "3       12582           8.0     0.0   0.0      0.0                8.0   \n",
       "4        5868           0.0     0.0   0.0      0.0                0.0   \n",
       "\n",
       "   PropertyCrime  Burglary  Larceny  CarTheft  Arson  \n",
       "0           14.0       4.0     10.0       0.0    0.0  \n",
       "1         1146.0     169.0    952.0      25.0    4.0  \n",
       "2           20.0       4.0     12.0       4.0    0.0  \n",
       "3           63.0      11.0     51.0       1.0    0.0  \n",
       "4           25.0       9.0     16.0       0.0    0.0  "
      ]
     },
     "execution_count": 126,
     "metadata": {},
     "output_type": "execute_result"
    }
   ],
   "source": [
    "features_pa_2013.head()"
   ]
  },
  {
   "cell_type": "markdown",
   "metadata": {},
   "source": [
    "## Log Transformation on Population, PropertyCrime:"
   ]
  },
  {
   "cell_type": "code",
   "execution_count": 127,
   "metadata": {},
   "outputs": [],
   "source": [
    "features_pa_2013['Population'] = np.log(features_pa_2013['Population']+1)\n",
    "features_pa_2013['PropertyCrime'] = np.log(features_pa_2013['PropertyCrime']+1)"
   ]
  },
  {
   "cell_type": "markdown",
   "metadata": {},
   "source": [
    "## Continuous Features to Booleans:"
   ]
  },
  {
   "cell_type": "code",
   "execution_count": 128,
   "metadata": {},
   "outputs": [],
   "source": [
    "for feature in features_pa_2013.columns:\n",
    "    if feature == 'Population' or feature ==  'PropertyCrime':\n",
    "        pass\n",
    "    else:\n",
    "        features_pa_2013[feature] = features_pa_2013[feature].apply(lambda x: toboolean(x))"
   ]
  },
  {
   "cell_type": "code",
   "execution_count": 129,
   "metadata": {},
   "outputs": [
    {
     "data": {
      "text/html": [
       "<div>\n",
       "<style scoped>\n",
       "    .dataframe tbody tr th:only-of-type {\n",
       "        vertical-align: middle;\n",
       "    }\n",
       "\n",
       "    .dataframe tbody tr th {\n",
       "        vertical-align: top;\n",
       "    }\n",
       "\n",
       "    .dataframe thead th {\n",
       "        text-align: right;\n",
       "    }\n",
       "</style>\n",
       "<table border=\"1\" class=\"dataframe\">\n",
       "  <thead>\n",
       "    <tr style=\"text-align: right;\">\n",
       "      <th></th>\n",
       "      <th>Population</th>\n",
       "      <th>ViolentCrime</th>\n",
       "      <th>Murder</th>\n",
       "      <th>Rape</th>\n",
       "      <th>Robbery</th>\n",
       "      <th>AggravatedAssault</th>\n",
       "      <th>PropertyCrime</th>\n",
       "      <th>Burglary</th>\n",
       "      <th>Larceny</th>\n",
       "      <th>CarTheft</th>\n",
       "      <th>Arson</th>\n",
       "    </tr>\n",
       "  </thead>\n",
       "  <tbody>\n",
       "    <tr>\n",
       "      <th>0</th>\n",
       "      <td>7.467942</td>\n",
       "      <td>1</td>\n",
       "      <td>0</td>\n",
       "      <td>0</td>\n",
       "      <td>0</td>\n",
       "      <td>1</td>\n",
       "      <td>2.708050</td>\n",
       "      <td>1</td>\n",
       "      <td>1</td>\n",
       "      <td>0</td>\n",
       "      <td>0</td>\n",
       "    </tr>\n",
       "    <tr>\n",
       "      <th>1</th>\n",
       "      <td>10.925219</td>\n",
       "      <td>1</td>\n",
       "      <td>0</td>\n",
       "      <td>1</td>\n",
       "      <td>1</td>\n",
       "      <td>1</td>\n",
       "      <td>7.044905</td>\n",
       "      <td>1</td>\n",
       "      <td>1</td>\n",
       "      <td>1</td>\n",
       "      <td>1</td>\n",
       "    </tr>\n",
       "    <tr>\n",
       "      <th>2</th>\n",
       "      <td>7.520776</td>\n",
       "      <td>0</td>\n",
       "      <td>0</td>\n",
       "      <td>0</td>\n",
       "      <td>0</td>\n",
       "      <td>0</td>\n",
       "      <td>3.044522</td>\n",
       "      <td>1</td>\n",
       "      <td>1</td>\n",
       "      <td>1</td>\n",
       "      <td>0</td>\n",
       "    </tr>\n",
       "    <tr>\n",
       "      <th>3</th>\n",
       "      <td>9.440102</td>\n",
       "      <td>1</td>\n",
       "      <td>0</td>\n",
       "      <td>0</td>\n",
       "      <td>0</td>\n",
       "      <td>1</td>\n",
       "      <td>4.158883</td>\n",
       "      <td>1</td>\n",
       "      <td>1</td>\n",
       "      <td>1</td>\n",
       "      <td>0</td>\n",
       "    </tr>\n",
       "    <tr>\n",
       "      <th>4</th>\n",
       "      <td>8.677440</td>\n",
       "      <td>0</td>\n",
       "      <td>0</td>\n",
       "      <td>0</td>\n",
       "      <td>0</td>\n",
       "      <td>0</td>\n",
       "      <td>3.258097</td>\n",
       "      <td>1</td>\n",
       "      <td>1</td>\n",
       "      <td>0</td>\n",
       "      <td>0</td>\n",
       "    </tr>\n",
       "  </tbody>\n",
       "</table>\n",
       "</div>"
      ],
      "text/plain": [
       "   Population  ViolentCrime  Murder  Rape  Robbery  AggravatedAssault  \\\n",
       "0    7.467942             1       0     0        0                  1   \n",
       "1   10.925219             1       0     1        1                  1   \n",
       "2    7.520776             0       0     0        0                  0   \n",
       "3    9.440102             1       0     0        0                  1   \n",
       "4    8.677440             0       0     0        0                  0   \n",
       "\n",
       "   PropertyCrime  Burglary  Larceny  CarTheft  Arson  \n",
       "0       2.708050         1        1         0      0  \n",
       "1       7.044905         1        1         1      1  \n",
       "2       3.044522         1        1         1      0  \n",
       "3       4.158883         1        1         1      0  \n",
       "4       3.258097         1        1         0      0  "
      ]
     },
     "execution_count": 129,
     "metadata": {},
     "output_type": "execute_result"
    }
   ],
   "source": [
    "features_pa_2013.head()"
   ]
  },
  {
   "cell_type": "code",
   "execution_count": 130,
   "metadata": {},
   "outputs": [
    {
     "data": {
      "text/html": [
       "<div>\n",
       "<style scoped>\n",
       "    .dataframe tbody tr th:only-of-type {\n",
       "        vertical-align: middle;\n",
       "    }\n",
       "\n",
       "    .dataframe tbody tr th {\n",
       "        vertical-align: top;\n",
       "    }\n",
       "\n",
       "    .dataframe thead th {\n",
       "        text-align: right;\n",
       "    }\n",
       "</style>\n",
       "<table border=\"1\" class=\"dataframe\">\n",
       "  <thead>\n",
       "    <tr style=\"text-align: right;\">\n",
       "      <th></th>\n",
       "      <th>Population</th>\n",
       "      <th>ViolentCrime</th>\n",
       "      <th>Murder</th>\n",
       "      <th>Rape</th>\n",
       "      <th>Robbery</th>\n",
       "      <th>AggravatedAssault</th>\n",
       "      <th>PropertyCrime</th>\n",
       "      <th>Burglary</th>\n",
       "      <th>Larceny</th>\n",
       "      <th>CarTheft</th>\n",
       "      <th>Arson</th>\n",
       "    </tr>\n",
       "  </thead>\n",
       "  <tbody>\n",
       "    <tr>\n",
       "      <th>Population</th>\n",
       "      <td>1.000000</td>\n",
       "      <td>0.468459</td>\n",
       "      <td>0.372930</td>\n",
       "      <td>0.517332</td>\n",
       "      <td>0.536349</td>\n",
       "      <td>0.458213</td>\n",
       "      <td>0.849660</td>\n",
       "      <td>0.458486</td>\n",
       "      <td>0.373496</td>\n",
       "      <td>0.518589</td>\n",
       "      <td>0.428246</td>\n",
       "    </tr>\n",
       "    <tr>\n",
       "      <th>ViolentCrime</th>\n",
       "      <td>0.468459</td>\n",
       "      <td>1.000000</td>\n",
       "      <td>0.153508</td>\n",
       "      <td>0.358211</td>\n",
       "      <td>0.425058</td>\n",
       "      <td>0.872347</td>\n",
       "      <td>0.580606</td>\n",
       "      <td>0.499144</td>\n",
       "      <td>0.437700</td>\n",
       "      <td>0.400891</td>\n",
       "      <td>0.247683</td>\n",
       "    </tr>\n",
       "    <tr>\n",
       "      <th>Murder</th>\n",
       "      <td>0.372930</td>\n",
       "      <td>0.153508</td>\n",
       "      <td>1.000000</td>\n",
       "      <td>0.261574</td>\n",
       "      <td>0.234420</td>\n",
       "      <td>0.166622</td>\n",
       "      <td>0.384051</td>\n",
       "      <td>0.117776</td>\n",
       "      <td>0.086447</td>\n",
       "      <td>0.209558</td>\n",
       "      <td>0.268190</td>\n",
       "    </tr>\n",
       "    <tr>\n",
       "      <th>Rape</th>\n",
       "      <td>0.517332</td>\n",
       "      <td>0.358211</td>\n",
       "      <td>0.261574</td>\n",
       "      <td>1.000000</td>\n",
       "      <td>0.451093</td>\n",
       "      <td>0.302807</td>\n",
       "      <td>0.555932</td>\n",
       "      <td>0.258887</td>\n",
       "      <td>0.201724</td>\n",
       "      <td>0.384227</td>\n",
       "      <td>0.343714</td>\n",
       "    </tr>\n",
       "    <tr>\n",
       "      <th>Robbery</th>\n",
       "      <td>0.536349</td>\n",
       "      <td>0.425058</td>\n",
       "      <td>0.234420</td>\n",
       "      <td>0.451093</td>\n",
       "      <td>1.000000</td>\n",
       "      <td>0.351934</td>\n",
       "      <td>0.604613</td>\n",
       "      <td>0.286969</td>\n",
       "      <td>0.219015</td>\n",
       "      <td>0.412023</td>\n",
       "      <td>0.364707</td>\n",
       "    </tr>\n",
       "    <tr>\n",
       "      <th>AggravatedAssault</th>\n",
       "      <td>0.458213</td>\n",
       "      <td>0.872347</td>\n",
       "      <td>0.166622</td>\n",
       "      <td>0.302807</td>\n",
       "      <td>0.351934</td>\n",
       "      <td>1.000000</td>\n",
       "      <td>0.561613</td>\n",
       "      <td>0.453261</td>\n",
       "      <td>0.389150</td>\n",
       "      <td>0.387303</td>\n",
       "      <td>0.258005</td>\n",
       "    </tr>\n",
       "    <tr>\n",
       "      <th>PropertyCrime</th>\n",
       "      <td>0.849660</td>\n",
       "      <td>0.580606</td>\n",
       "      <td>0.384051</td>\n",
       "      <td>0.555932</td>\n",
       "      <td>0.604613</td>\n",
       "      <td>0.561613</td>\n",
       "      <td>1.000000</td>\n",
       "      <td>0.603270</td>\n",
       "      <td>0.568386</td>\n",
       "      <td>0.624188</td>\n",
       "      <td>0.454768</td>\n",
       "    </tr>\n",
       "    <tr>\n",
       "      <th>Burglary</th>\n",
       "      <td>0.458486</td>\n",
       "      <td>0.499144</td>\n",
       "      <td>0.117776</td>\n",
       "      <td>0.258887</td>\n",
       "      <td>0.286969</td>\n",
       "      <td>0.453261</td>\n",
       "      <td>0.603270</td>\n",
       "      <td>1.000000</td>\n",
       "      <td>0.598124</td>\n",
       "      <td>0.395064</td>\n",
       "      <td>0.211788</td>\n",
       "    </tr>\n",
       "    <tr>\n",
       "      <th>Larceny</th>\n",
       "      <td>0.373496</td>\n",
       "      <td>0.437700</td>\n",
       "      <td>0.086447</td>\n",
       "      <td>0.201724</td>\n",
       "      <td>0.219015</td>\n",
       "      <td>0.389150</td>\n",
       "      <td>0.568386</td>\n",
       "      <td>0.598124</td>\n",
       "      <td>1.000000</td>\n",
       "      <td>0.325069</td>\n",
       "      <td>0.155452</td>\n",
       "    </tr>\n",
       "    <tr>\n",
       "      <th>CarTheft</th>\n",
       "      <td>0.518589</td>\n",
       "      <td>0.400891</td>\n",
       "      <td>0.209558</td>\n",
       "      <td>0.384227</td>\n",
       "      <td>0.412023</td>\n",
       "      <td>0.387303</td>\n",
       "      <td>0.624188</td>\n",
       "      <td>0.395064</td>\n",
       "      <td>0.325069</td>\n",
       "      <td>1.000000</td>\n",
       "      <td>0.278775</td>\n",
       "    </tr>\n",
       "    <tr>\n",
       "      <th>Arson</th>\n",
       "      <td>0.428246</td>\n",
       "      <td>0.247683</td>\n",
       "      <td>0.268190</td>\n",
       "      <td>0.343714</td>\n",
       "      <td>0.364707</td>\n",
       "      <td>0.258005</td>\n",
       "      <td>0.454768</td>\n",
       "      <td>0.211788</td>\n",
       "      <td>0.155452</td>\n",
       "      <td>0.278775</td>\n",
       "      <td>1.000000</td>\n",
       "    </tr>\n",
       "  </tbody>\n",
       "</table>\n",
       "</div>"
      ],
      "text/plain": [
       "                   Population  ViolentCrime    Murder      Rape   Robbery  \\\n",
       "Population           1.000000      0.468459  0.372930  0.517332  0.536349   \n",
       "ViolentCrime         0.468459      1.000000  0.153508  0.358211  0.425058   \n",
       "Murder               0.372930      0.153508  1.000000  0.261574  0.234420   \n",
       "Rape                 0.517332      0.358211  0.261574  1.000000  0.451093   \n",
       "Robbery              0.536349      0.425058  0.234420  0.451093  1.000000   \n",
       "AggravatedAssault    0.458213      0.872347  0.166622  0.302807  0.351934   \n",
       "PropertyCrime        0.849660      0.580606  0.384051  0.555932  0.604613   \n",
       "Burglary             0.458486      0.499144  0.117776  0.258887  0.286969   \n",
       "Larceny              0.373496      0.437700  0.086447  0.201724  0.219015   \n",
       "CarTheft             0.518589      0.400891  0.209558  0.384227  0.412023   \n",
       "Arson                0.428246      0.247683  0.268190  0.343714  0.364707   \n",
       "\n",
       "                   AggravatedAssault  PropertyCrime  Burglary   Larceny  \\\n",
       "Population                  0.458213       0.849660  0.458486  0.373496   \n",
       "ViolentCrime                0.872347       0.580606  0.499144  0.437700   \n",
       "Murder                      0.166622       0.384051  0.117776  0.086447   \n",
       "Rape                        0.302807       0.555932  0.258887  0.201724   \n",
       "Robbery                     0.351934       0.604613  0.286969  0.219015   \n",
       "AggravatedAssault           1.000000       0.561613  0.453261  0.389150   \n",
       "PropertyCrime               0.561613       1.000000  0.603270  0.568386   \n",
       "Burglary                    0.453261       0.603270  1.000000  0.598124   \n",
       "Larceny                     0.389150       0.568386  0.598124  1.000000   \n",
       "CarTheft                    0.387303       0.624188  0.395064  0.325069   \n",
       "Arson                       0.258005       0.454768  0.211788  0.155452   \n",
       "\n",
       "                   CarTheft     Arson  \n",
       "Population         0.518589  0.428246  \n",
       "ViolentCrime       0.400891  0.247683  \n",
       "Murder             0.209558  0.268190  \n",
       "Rape               0.384227  0.343714  \n",
       "Robbery            0.412023  0.364707  \n",
       "AggravatedAssault  0.387303  0.258005  \n",
       "PropertyCrime      0.624188  0.454768  \n",
       "Burglary           0.395064  0.211788  \n",
       "Larceny            0.325069  0.155452  \n",
       "CarTheft           1.000000  0.278775  \n",
       "Arson              0.278775  1.000000  "
      ]
     },
     "execution_count": 130,
     "metadata": {},
     "output_type": "execute_result"
    }
   ],
   "source": [
    "features_pa_2013.corr()"
   ]
  },
  {
   "cell_type": "code",
   "execution_count": 131,
   "metadata": {},
   "outputs": [
    {
     "data": {
      "image/png": "[encoded data removed]",
      "text/plain": [
       "<Figure size 576x576 with 2 Axes>"
      ]
     },
     "metadata": {},
     "output_type": "display_data"
    }
   ],
   "source": [
    "plt.rcParams['figure.figsize'] = 8, 8\n",
    "sns.heatmap(features_pa_2013.corr(), vmax=1, vmin=-1, square=True, cmap='RdBu_r')\n",
    "plt.show()"
   ]
  },
  {
   "cell_type": "markdown",
   "metadata": {},
   "source": [
    "# Use Model on Second Dataset:"
   ]
  },
  {
   "cell_type": "code",
   "execution_count": 132,
   "metadata": {},
   "outputs": [],
   "source": [
    "linear_formula = 'PropertyCrime ~ Population+Robbery+Rape+AggravatedAssault'\n",
    "data = features_pa_2013\n",
    "\n",
    "lm = smf.ols(formula=linear_formula, data=data).fit()"
   ]
  },
  {
   "cell_type": "code",
   "execution_count": 133,
   "metadata": {},
   "outputs": [
    {
     "name": "stdout",
     "output_type": "stream",
     "text": [
      "Intercept/Coefficients: \n",
      " Intercept           -4.922126\n",
      "Population           0.938438\n",
      "Robbery              0.517249\n",
      "Rape                 0.356585\n",
      "AggravatedAssault    0.787151\n",
      "dtype: float64\n"
     ]
    }
   ],
   "source": [
    "print('Intercept/Coefficients: \\n', lm.params)"
   ]
  },
  {
   "cell_type": "code",
   "execution_count": 134,
   "metadata": {},
   "outputs": [
    {
     "data": {
      "text/plain": [
       "Intercept           -4.922126\n",
       "Population           0.938438\n",
       "Robbery              0.517249\n",
       "Rape                 0.356585\n",
       "AggravatedAssault    0.787151\n",
       "dtype: float64"
      ]
     },
     "metadata": {},
     "output_type": "display_data"
    },
    {
     "data": {
      "text/plain": [
       "Intercept             2.413768e-77\n",
       "Population           1.039728e-133\n",
       "Robbery               3.571919e-15\n",
       "Rape                  4.041275e-08\n",
       "AggravatedAssault     2.162021e-24\n",
       "dtype: float64"
      ]
     },
     "metadata": {},
     "output_type": "display_data"
    },
    {
     "data": {
      "text/plain": [
       "0.78975341416848976"
      ]
     },
     "metadata": {},
     "output_type": "display_data"
    },
    {
     "data": {
      "text/html": [
       "<div>\n",
       "<style scoped>\n",
       "    .dataframe tbody tr th:only-of-type {\n",
       "        vertical-align: middle;\n",
       "    }\n",
       "\n",
       "    .dataframe tbody tr th {\n",
       "        vertical-align: top;\n",
       "    }\n",
       "\n",
       "    .dataframe thead th {\n",
       "        text-align: right;\n",
       "    }\n",
       "</style>\n",
       "<table border=\"1\" class=\"dataframe\">\n",
       "  <thead>\n",
       "    <tr style=\"text-align: right;\">\n",
       "      <th></th>\n",
       "      <th>0</th>\n",
       "      <th>1</th>\n",
       "    </tr>\n",
       "  </thead>\n",
       "  <tbody>\n",
       "    <tr>\n",
       "      <th>Intercept</th>\n",
       "      <td>-5.388917</td>\n",
       "      <td>-4.455334</td>\n",
       "    </tr>\n",
       "    <tr>\n",
       "      <th>Population</th>\n",
       "      <td>0.876507</td>\n",
       "      <td>1.000368</td>\n",
       "    </tr>\n",
       "    <tr>\n",
       "      <th>Robbery</th>\n",
       "      <td>0.390619</td>\n",
       "      <td>0.643878</td>\n",
       "    </tr>\n",
       "    <tr>\n",
       "      <th>Rape</th>\n",
       "      <td>0.230246</td>\n",
       "      <td>0.482923</td>\n",
       "    </tr>\n",
       "    <tr>\n",
       "      <th>AggravatedAssault</th>\n",
       "      <td>0.640220</td>\n",
       "      <td>0.934083</td>\n",
       "    </tr>\n",
       "  </tbody>\n",
       "</table>\n",
       "</div>"
      ],
      "text/plain": [
       "                          0         1\n",
       "Intercept         -5.388917 -4.455334\n",
       "Population         0.876507  1.000368\n",
       "Robbery            0.390619  0.643878\n",
       "Rape               0.230246  0.482923\n",
       "AggravatedAssault  0.640220  0.934083"
      ]
     },
     "metadata": {},
     "output_type": "display_data"
    }
   ],
   "source": [
    "display(lm.params, lm.pvalues, lm.rsquared, lm.conf_int())"
   ]
  },
  {
   "cell_type": "code",
   "execution_count": 135,
   "metadata": {},
   "outputs": [],
   "source": [
    "linear_formula = 'PropertyCrime ~ Population+Robbery+Rape+AggravatedAssault'\n",
    "data = features_pa_2013\n",
    "\n",
    "lm = smf.ols(formula=linear_formula, data=data).fit()"
   ]
  },
  {
   "cell_type": "markdown",
   "metadata": {},
   "source": [
    "### Model Coefficients and Cross-Validation:"
   ]
  },
  {
   "cell_type": "code",
   "execution_count": 136,
   "metadata": {},
   "outputs": [],
   "source": [
    "X = features_pa_2013[['Population', 'Robbery', 'Rape', 'AggravatedAssault']]\n",
    "y = features_pa_2013.PropertyCrime.values.reshape(-1, 1)"
   ]
  },
  {
   "cell_type": "code",
   "execution_count": 137,
   "metadata": {},
   "outputs": [
    {
     "data": {
      "text/html": [
       "<div>\n",
       "<style scoped>\n",
       "    .dataframe tbody tr th:only-of-type {\n",
       "        vertical-align: middle;\n",
       "    }\n",
       "\n",
       "    .dataframe tbody tr th {\n",
       "        vertical-align: top;\n",
       "    }\n",
       "\n",
       "    .dataframe thead th {\n",
       "        text-align: right;\n",
       "    }\n",
       "</style>\n",
       "<table border=\"1\" class=\"dataframe\">\n",
       "  <thead>\n",
       "    <tr style=\"text-align: right;\">\n",
       "      <th></th>\n",
       "      <th>Population</th>\n",
       "      <th>Robbery</th>\n",
       "      <th>Rape</th>\n",
       "      <th>AggravatedAssault</th>\n",
       "    </tr>\n",
       "  </thead>\n",
       "  <tbody>\n",
       "    <tr>\n",
       "      <th>Population</th>\n",
       "      <td>1.000000</td>\n",
       "      <td>0.536349</td>\n",
       "      <td>0.517332</td>\n",
       "      <td>0.458213</td>\n",
       "    </tr>\n",
       "    <tr>\n",
       "      <th>Robbery</th>\n",
       "      <td>0.536349</td>\n",
       "      <td>1.000000</td>\n",
       "      <td>0.451093</td>\n",
       "      <td>0.351934</td>\n",
       "    </tr>\n",
       "    <tr>\n",
       "      <th>Rape</th>\n",
       "      <td>0.517332</td>\n",
       "      <td>0.451093</td>\n",
       "      <td>1.000000</td>\n",
       "      <td>0.302807</td>\n",
       "    </tr>\n",
       "    <tr>\n",
       "      <th>AggravatedAssault</th>\n",
       "      <td>0.458213</td>\n",
       "      <td>0.351934</td>\n",
       "      <td>0.302807</td>\n",
       "      <td>1.000000</td>\n",
       "    </tr>\n",
       "  </tbody>\n",
       "</table>\n",
       "</div>"
      ],
      "text/plain": [
       "                   Population   Robbery      Rape  AggravatedAssault\n",
       "Population           1.000000  0.536349  0.517332           0.458213\n",
       "Robbery              0.536349  1.000000  0.451093           0.351934\n",
       "Rape                 0.517332  0.451093  1.000000           0.302807\n",
       "AggravatedAssault    0.458213  0.351934  0.302807           1.000000"
      ]
     },
     "execution_count": 137,
     "metadata": {},
     "output_type": "execute_result"
    }
   ],
   "source": [
    "X.corr()"
   ]
  },
  {
   "cell_type": "code",
   "execution_count": 138,
   "metadata": {},
   "outputs": [
    {
     "name": "stdout",
     "output_type": "stream",
     "text": [
      "\n",
      "Coefficients: \n",
      " [[ 0.93843775  0.51724876  0.35658479  0.78715131]]\n",
      "\n",
      "Intercept: \n",
      " [-4.92212598]\n",
      "\n",
      "R-squared:\n",
      "0.789753414168 \n",
      "\n",
      "Cross-Validation Score:\n",
      " [ 0.82497547  0.831412    0.73532316  0.7145815   0.78456469  0.76665453\n",
      "  0.85589735  0.78234991  0.78471408  0.69622317]\n",
      "Cross-Validation Mean:\n",
      " 0.77766958558\n",
      "Cross-Validation Spread:\n",
      " 0.15967417626\n"
     ]
    }
   ],
   "source": [
    "lr_model_results(X, y)"
   ]
  },
  {
   "cell_type": "markdown",
   "metadata": {},
   "source": [
    "### Visualization of Residuals:"
   ]
  },
  {
   "cell_type": "code",
   "execution_count": 139,
   "metadata": {},
   "outputs": [
    {
     "data": {
      "image/png": "[encoded data removed]",
      "text/plain": [
       "<Figure size 432x288 with 1 Axes>"
      ]
     },
     "metadata": {},
     "output_type": "display_data"
    }
   ],
   "source": [
    "reg.fit(X, y)\n",
    "predicted = reg.predict(X).ravel()\n",
    "actual = features_pa_2013['PropertyCrime']\n",
    "\n",
    "residual = actual - predicted\n",
    "plt.rcParams['figure.figsize'] = 6, 4\n",
    "plt.hist(residual)\n",
    "plt.title('Residual Counts')\n",
    "plt.xlabel('Residual')\n",
    "plt.ylabel('Count')\n",
    "plt.show()"
   ]
  },
  {
   "cell_type": "code",
   "execution_count": 140,
   "metadata": {},
   "outputs": [
    {
     "data": {
      "image/png": "[encoded data removed]",
      "text/plain": [
       "<Figure size 432x288 with 1 Axes>"
      ]
     },
     "metadata": {},
     "output_type": "display_data"
    }
   ],
   "source": [
    "plt.scatter(predicted, residual)\n",
    "plt.xlabel('Predicted')\n",
    "plt.ylabel('Residual')\n",
    "plt.axhline(y=0)\n",
    "plt.title('Residual against Predicted')\n",
    "plt.show()"
   ]
  },
  {
   "cell_type": "markdown",
   "metadata": {},
   "source": [
    "The results here are mostly homoscedastic, except for some outliers in the lower left portion of the graph. The R-squared value is high, with much less variation among the cross-validation scores. "
   ]
  }
 ],
 "metadata": {
  "kernelspec": {
   "display_name": "Python 3",
   "language": "python",
   "name": "python3"
  },
  "language_info": {
   "codemirror_mode": {
    "name": "ipython",
    "version": 3
   },
   "file_extension": ".py",
   "mimetype": "text/x-python",
   "name": "python",
   "nbconvert_exporter": "python",
   "pygments_lexer": "ipython3",
   "version": "3.6.5"
  },
  "toc": {
   "base_numbering": 1,
   "nav_menu": {},
   "number_sections": true,
   "sideBar": true,
   "skip_h1_title": false,
   "title_cell": "Table of Contents",
   "title_sidebar": "Contents",
   "toc_cell": false,
   "toc_position": {
    "height": "calc(100% - 180px)",
    "left": "10px",
    "top": "150px",
    "width": "256px"
   },
   "toc_section_display": true,
   "toc_window_display": true
  }
 },
 "nbformat": 4,
 "nbformat_minor": 2
}
