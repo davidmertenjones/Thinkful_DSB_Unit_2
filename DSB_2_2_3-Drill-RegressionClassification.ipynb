{
 "cells": [
  {
   "cell_type": "markdown",
   "metadata": {},
   "source": [
    "# For each of the following situations, decide if you would model using a regression or classification model. Discuss your reasoning with your mentor next time you meet.\n",
    "\n",
    "## The amount a person will spend on a given site in the next 24 months.\n",
    "\n",
    "Regression. Money and time are best suited to a regression model, since they are both continuous variables.\n",
    "\n",
    "## What color car someone is going to buy.\n",
    "\n",
    "Classification. This is a categorical variable, with a continuous probability assigned to it.\n",
    "\n",
    "## How many children a family will have.\n",
    "\n",
    "Either, but probably classification. Even though number of children is numerical, greater numbers of children may be uncommon, depending on the society surveyed. \n",
    "\n",
    "## If someone will sign up for a service.\n",
    "\n",
    "Classification. This is a continuous variable (probability) describing a categorical variable.\n",
    "\n",
    "## The number of times someone will get sick in a year.\n",
    "\n",
    "Either, but most likely regression. As in the children/family case above, this is a numerical variable that could be treated as a categorical because it's discrete, but depending on the population surveyed, t\n",
    "\n",
    "## The probability someone will get sick in the next month.\n",
    "\n",
    "Either, but probably classification. Categorical variable, continuous probability.\n",
    "\n",
    "## Which medicine will work best for a given patient.\n",
    "\n",
    "Classification. Categorical variable, continuous probability.\n"
   ]
  },
  {
   "cell_type": "code",
   "execution_count": null,
   "metadata": {},
   "outputs": [],
   "source": []
  }
 ],
 "metadata": {
  "kernelspec": {
   "display_name": "Python 3",
   "language": "python",
   "name": "python3"
  },
  "language_info": {
   "codemirror_mode": {
    "name": "ipython",
    "version": 3
   },
   "file_extension": ".py",
   "mimetype": "text/x-python",
   "name": "python",
   "nbconvert_exporter": "python",
   "pygments_lexer": "ipython3",
   "version": "3.6.5"
  },
  "toc": {
   "base_numbering": 1,
   "nav_menu": {},
   "number_sections": true,
   "sideBar": true,
   "skip_h1_title": false,
   "title_cell": "Table of Contents",
   "title_sidebar": "Contents",
   "toc_cell": false,
   "toc_position": {},
   "toc_section_display": true,
   "toc_window_display": false
  }
 },
 "nbformat": 4,
 "nbformat_minor": 2
}
